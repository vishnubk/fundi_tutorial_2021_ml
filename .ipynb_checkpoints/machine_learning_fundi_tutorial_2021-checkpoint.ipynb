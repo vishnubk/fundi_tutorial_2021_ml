{
 "cells": [
  {
   "cell_type": "markdown",
   "id": "404a37f5",
   "metadata": {},
   "source": [
    "# <h1><center>Fundi Tutorial 2021</center></h1>\n",
    "<h1><center>Introduction To Machine-learning for Pulsar-Candidate Identification</center></h1>\n",
    "<h3><left>By Vishnu Balakrishnan, email: vishnu@mpifr-bonn.mpg.de</left></h3>"
   ]
  },
  {
   "cell_type": "markdown",
   "id": "cd967f4b",
   "metadata": {},
   "source": [
    "### Credits\n",
    "These notes have been compiled from several different sources. Besides, plots from papers (that have been referenced within), some of the major slides I have borrowed are from MIT 6.S191 Lecture 1 & 2 Introduction to Deep Learning. \n",
    "\n",
    "http://introtodeeplearning.com/\n",
    "\n",
    "All gifs were borrowed from 3Blue1Brown\n",
    "\n",
    "https://www.youtube.com/channel/UCYO_jab_esuFRV4b17AJtAw\n",
    "\n",
    "\n",
    "Hands On Session:\n",
    "\n",
    "Dependiences:\n",
    "\n",
    "Keras 2.6.3, Tensorflow 2.1 (CPU/GPU), Sklearn, Numpy"
   ]
  },
  {
   "cell_type": "markdown",
   "id": "84ff3f42",
   "metadata": {},
   "source": [
    "<h2><center>Motivation</center></h2>"
   ]
  },
  {
   "cell_type": "markdown",
   "id": "d6a66f2b",
   "metadata": {},
   "source": [
    "Pulsar Candidates have been steadily increasing over time. The rise is understood to be the result of expanding survey technical specifications (Stovall et al. 2013) occurring during the period depicted in Tables 2 & 3. Finer frequency resolution, longer dwell times, and acceleration searches (Eatough et al. 2013), have significantly increased the candidate yield (Lyon 2015)."
   ]
  },
  {
   "cell_type": "code",
   "execution_count": 320,
   "id": "5b2269c4",
   "metadata": {},
   "outputs": [],
   "source": [
    "from IPython.display import Image\n"
   ]
  },
  {
   "cell_type": "code",
   "execution_count": 321,
   "id": "999d9811",
   "metadata": {},
   "outputs": [
    {
     "data": {
      "text/html": [
       "<img src=\"images/candidate_numbers.png\" width=\"1000\" height=\"800\"/>"
      ],
      "text/plain": [
       "<IPython.core.display.Image object>"
      ]
     },
     "execution_count": 321,
     "metadata": {},
     "output_type": "execute_result"
    }
   ],
   "source": [
    "Image(url= \"images/candidate_numbers.png\", width=1000, height=800)"
   ]
  },
  {
   "cell_type": "code",
   "execution_count": 322,
   "id": "4b6f1bb3",
   "metadata": {},
   "outputs": [
    {
     "data": {
      "text/html": [
       "<img src=\"images/pulsar.png\" width=\"800\" height=\"800\"/>"
      ],
      "text/plain": [
       "<IPython.core.display.Image object>"
      ]
     },
     "execution_count": 322,
     "metadata": {},
     "output_type": "execute_result"
    }
   ],
   "source": [
    "Image(url= \"images/pulsar.png\", width=800, height=800)"
   ]
  },
  {
   "cell_type": "code",
   "execution_count": 323,
   "id": "2aebc6e9",
   "metadata": {},
   "outputs": [
    {
     "data": {
      "text/html": [
       "<img src=\"images/non_pulsars.png\" width=\"800\" height=\"800\"/>"
      ],
      "text/plain": [
       "<IPython.core.display.Image object>"
      ]
     },
     "execution_count": 323,
     "metadata": {},
     "output_type": "execute_result"
    }
   ],
   "source": [
    "Image(url= \"images/non_pulsars.png\", width=800, height=800)"
   ]
  },
  {
   "cell_type": "code",
   "execution_count": 324,
   "id": "9baf08cf",
   "metadata": {},
   "outputs": [
    {
     "data": {
      "text/html": [
       "<img src=\"images/rfi.png\" width=\"800\" height=\"800\"/>"
      ],
      "text/plain": [
       "<IPython.core.display.Image object>"
      ]
     },
     "execution_count": 324,
     "metadata": {},
     "output_type": "execute_result"
    }
   ],
   "source": [
    "Image(url= \"images/rfi.png\", width=800, height=800)"
   ]
  },
  {
   "cell_type": "markdown",
   "id": "536a425f",
   "metadata": {},
   "source": [
    "<h3><center>Literature Review</center></h3>\n",
    "Eatough et al. 2010: Used a single-layer perceptron (12:12:2) to train pulsar candidates using 259 pulsars and 1625 non-pulsars. Discovered one new pulsar!\n",
    "    \n",
    "    \n",
    "    "
   ]
  },
  {
   "cell_type": "code",
   "execution_count": 327,
   "id": "53822702",
   "metadata": {},
   "outputs": [
    {
     "data": {
      "text/html": [
       "<img src=\"images/ralph.png\" width=\"800\" height=\"800\"/>"
      ],
      "text/plain": [
       "<IPython.core.display.Image object>"
      ]
     },
     "execution_count": 327,
     "metadata": {},
     "output_type": "execute_result"
    }
   ],
   "source": [
    "#Source Eatough et al. 2010\n",
    "Image(url= \"images/ralph.png\", width=800, height=800)"
   ]
  },
  {
   "cell_type": "markdown",
   "id": "d07dc378",
   "metadata": {},
   "source": [
    "Bates et al. 2013: Single-Layer Perceptron with different features compared to Eatough et al. 2010. Rejected 99% of bad candidates and re-detected 85% of pulsars in HTRU Med-Lat"
   ]
  },
  {
   "cell_type": "code",
   "execution_count": 328,
   "id": "5dc8f7fe",
   "metadata": {},
   "outputs": [
    {
     "data": {
      "text/html": [
       "<img src=\"images/bates.png\" width=\"800\" height=\"400\"/>"
      ],
      "text/plain": [
       "<IPython.core.display.Image object>"
      ]
     },
     "execution_count": 328,
     "metadata": {},
     "output_type": "execute_result"
    }
   ],
   "source": [
    "#Source: Bates et al. 2013\n",
    "Image(url= \"images/bates.png\", width=800, height=400)"
   ]
  },
  {
   "cell_type": "markdown",
   "id": "bca67d25",
   "metadata": {},
   "source": [
    "Lee et al. 2013: Pulsar Evaluation Algorithm for Candidate Extraction (PEACE). Hand Crafted features based on domain knowledge. Discovered atleast 47 pulsars (5 MSPs)\n",
    "\n",
    "Morello et al. 2014: Straightforward Pulsar Identification using Neural Networks (SPINN). Basically a perceptron built on scores from features chosen based on domain knowledge. Successfully discovered atleast 4 pulsars from HTRU Med Lat."
   ]
  },
  {
   "cell_type": "code",
   "execution_count": 329,
   "id": "ca9fb021",
   "metadata": {},
   "outputs": [
    {
     "data": {
      "text/html": [
       "<img src=\"images/peace.png\" width=\"800\" height=\"400\"/>"
      ],
      "text/plain": [
       "<IPython.core.display.Image object>"
      ]
     },
     "execution_count": 329,
     "metadata": {},
     "output_type": "execute_result"
    }
   ],
   "source": [
    "# Source: Lee et al. 2013\n",
    "Image(url= \"images/peace.png\", width=800, height=400)"
   ]
  },
  {
   "cell_type": "markdown",
   "id": "5892cabf",
   "metadata": {},
   "source": [
    "Zhu et al. 2014: Pulsar Image Classification (PICS). Ensemble-Learning Algorithm. New model available called PICS-ResNet.\n",
    "\n",
    "https://github.com/zhuww/ubc_AI\n",
    "\n",
    "\n",
    "https://github.com/dzuwhf/PICS-ResNet"
   ]
  },
  {
   "cell_type": "code",
   "execution_count": 330,
   "id": "0a61c2d2",
   "metadata": {},
   "outputs": [
    {
     "data": {
      "text/html": [
       "<img src=\"images/pics.png\" width=\"800\" height=\"400\"/>"
      ],
      "text/plain": [
       "<IPython.core.display.Image object>"
      ]
     },
     "execution_count": 330,
     "metadata": {},
     "output_type": "execute_result"
    }
   ],
   "source": [
    "Image(url= \"images/pics.png\", width=800, height=400)"
   ]
  },
  {
   "cell_type": "markdown",
   "id": "1496dee5",
   "metadata": {},
   "source": [
    "Lyon et. al 2016: Online Machine learning built to handle large data volumes in streaming mode. Uses an algorithm called Gaussian Hellinger Very Fast Decision Tree (GHVFDT)\n",
    "\n",
    "\n",
    "https://github.com/scienceguyrob/GHVFDT"
   ]
  },
  {
   "cell_type": "code",
   "execution_count": 333,
   "id": "2f532353",
   "metadata": {
    "scrolled": true
   },
   "outputs": [
    {
     "data": {
      "text/html": [
       "<img src=\"images/lyon.png\" width=\"800\" height=\"400\"/>"
      ],
      "text/plain": [
       "<IPython.core.display.Image object>"
      ]
     },
     "execution_count": 333,
     "metadata": {},
     "output_type": "execute_result"
    }
   ],
   "source": [
    "#Source: Lyon et al. 2016\n",
    "Image(url= \"images/lyon.png\", width=800, height=400)"
   ]
  },
  {
   "cell_type": "markdown",
   "id": "5200bd56",
   "metadata": {},
   "source": [
    " Agarwal et al. 2019: Deeper neural networks for Fast Radio Burst detection. Uses Transfer-Learning on Convolutional Neural Networks to identify FRB candidates. They have made an open-source tool available (FETCH) to check your candidates with their trained model.\n",
    " \n",
    "https://github.com/devanshkv/fetch"
   ]
  },
  {
   "cell_type": "code",
   "execution_count": 334,
   "id": "93b6d3ca",
   "metadata": {},
   "outputs": [
    {
     "data": {
      "text/html": [
       "<img src=\"images/agarwal.png\" width=\"800\" height=\"400\"/>"
      ],
      "text/plain": [
       "<IPython.core.display.Image object>"
      ]
     },
     "execution_count": 334,
     "metadata": {},
     "output_type": "execute_result"
    }
   ],
   "source": [
    "#Source: Agarwal et al. 2019\n",
    "Image(url= \"images/agarwal.png\", width=800, height=400)"
   ]
  },
  {
   "cell_type": "markdown",
   "id": "a8717c60",
   "metadata": {},
   "source": [
    " <h2><center>What is Machine Learning?</center></h2>"
   ]
  },
  {
   "cell_type": "code",
   "execution_count": 299,
   "id": "eaab500f",
   "metadata": {
    "scrolled": true
   },
   "outputs": [
    {
     "data": {
      "text/html": [
       "<img src=\"images/definition.png\" width=\"800\" height=\"400\"/>"
      ],
      "text/plain": [
       "<IPython.core.display.Image object>"
      ]
     },
     "execution_count": 299,
     "metadata": {},
     "output_type": "execute_result"
    }
   ],
   "source": [
    "#Source MIT Lecture 1 Introduction to Deep Learning\n",
    "Image(url= \"images/definition.png\", width=800, height=400)"
   ]
  },
  {
   "cell_type": "code",
   "execution_count": 298,
   "id": "4e561bdc",
   "metadata": {},
   "outputs": [
    {
     "data": {
      "text/html": [
       "<img src=\"images/ml_types.jpg\" width=\"800\" height=\"400\"/>"
      ],
      "text/plain": [
       "<IPython.core.display.Image object>"
      ]
     },
     "execution_count": 298,
     "metadata": {},
     "output_type": "execute_result"
    }
   ],
   "source": [
    "Image(url= \"images/ml_types.jpg\", width=800, height=400)"
   ]
  },
  {
   "cell_type": "code",
   "execution_count": 297,
   "id": "3bd2fea6",
   "metadata": {},
   "outputs": [
    {
     "data": {
      "text/html": [
       "<img src=\"images/MLvsDL.png\" width=\"800\" height=\"400\"/>"
      ],
      "text/plain": [
       "<IPython.core.display.Image object>"
      ]
     },
     "execution_count": 297,
     "metadata": {},
     "output_type": "execute_result"
    }
   ],
   "source": [
    "Image(url= \"images/MLvsDL.png\", width=800, height=400)"
   ]
  },
  {
   "cell_type": "code",
   "execution_count": 296,
   "id": "e043c17a",
   "metadata": {},
   "outputs": [
    {
     "data": {
      "text/html": [
       "<img src=\"images/perceptron.png\" width=\"800\" height=\"400\"/>"
      ],
      "text/plain": [
       "<IPython.core.display.Image object>"
      ]
     },
     "execution_count": 296,
     "metadata": {},
     "output_type": "execute_result"
    }
   ],
   "source": [
    "Image(url= \"images/perceptron.png\", width=800, height=400)"
   ]
  },
  {
   "cell_type": "code",
   "execution_count": 295,
   "id": "52d5f4e8",
   "metadata": {},
   "outputs": [
    {
     "data": {
      "text/html": [
       "<img src=\"images/activation_fn.png\" width=\"800\" height=\"400\"/>"
      ],
      "text/plain": [
       "<IPython.core.display.Image object>"
      ]
     },
     "execution_count": 295,
     "metadata": {},
     "output_type": "execute_result"
    }
   ],
   "source": [
    "Image(url= \"images/activation_fn.png\", width=800, height=400)"
   ]
  },
  {
   "cell_type": "code",
   "execution_count": 294,
   "id": "ac114b30",
   "metadata": {},
   "outputs": [
    {
     "data": {
      "text/html": [
       "<img src=\"images/single_layer_nn.png\" width=\"800\" height=\"400\"/>"
      ],
      "text/plain": [
       "<IPython.core.display.Image object>"
      ]
     },
     "execution_count": 294,
     "metadata": {},
     "output_type": "execute_result"
    }
   ],
   "source": [
    "Image(url= \"images/single_layer_nn.png\", width=800, height=400)"
   ]
  },
  {
   "cell_type": "code",
   "execution_count": 293,
   "id": "b507345c",
   "metadata": {},
   "outputs": [
    {
     "data": {
      "text/html": [
       "<img src=\"images/deep_layer_nn.png\" width=\"800\" height=\"400\"/>"
      ],
      "text/plain": [
       "<IPython.core.display.Image object>"
      ]
     },
     "execution_count": 293,
     "metadata": {},
     "output_type": "execute_result"
    }
   ],
   "source": [
    "Image(url= \"images/deep_layer_nn.png\", width=800, height=400)"
   ]
  },
  {
   "cell_type": "markdown",
   "id": "ae7d8c5c",
   "metadata": {},
   "source": [
    "<h2><center>How do these algorithms learn?</center></h2>"
   ]
  },
  {
   "cell_type": "code",
   "execution_count": 292,
   "id": "3cd5b861",
   "metadata": {},
   "outputs": [
    {
     "data": {
      "text/html": [
       "<img src=\"images/loss_function.png\" width=\"800\" height=\"400\"/>"
      ],
      "text/plain": [
       "<IPython.core.display.Image object>"
      ]
     },
     "execution_count": 292,
     "metadata": {},
     "output_type": "execute_result"
    }
   ],
   "source": [
    "\n",
    "# \n",
    "Image(url= \"images/loss_function.png\", width=800, height=400)"
   ]
  },
  {
   "cell_type": "code",
   "execution_count": 290,
   "id": "89cd383e",
   "metadata": {},
   "outputs": [
    {
     "data": {
      "text/html": [
       "<img src=\"images/gradient_descent.png\" width=\"800\" height=\"400\"/>"
      ],
      "text/plain": [
       "<IPython.core.display.Image object>"
      ]
     },
     "execution_count": 290,
     "metadata": {},
     "output_type": "execute_result"
    }
   ],
   "source": [
    "Image(url= \"images/gradient_descent.png\", width=800, height=400)"
   ]
  },
  {
   "cell_type": "code",
   "execution_count": 289,
   "id": "ec86a148",
   "metadata": {},
   "outputs": [
    {
     "data": {
      "text/html": [
       "<img src=\"https://thumbs.gfycat.com/GrandSlimyBadger-size_restricted.gif\" width=\"1000\" height=\"500\"/>"
      ],
      "text/plain": [
       "<IPython.core.display.Image object>"
      ]
     },
     "execution_count": 289,
     "metadata": {},
     "output_type": "execute_result"
    }
   ],
   "source": [
    "Image(url=\"https://thumbs.gfycat.com/GrandSlimyBadger-size_restricted.gif\", width=1000, height=500)"
   ]
  },
  {
   "cell_type": "code",
   "execution_count": 288,
   "id": "8394946b",
   "metadata": {},
   "outputs": [
    {
     "data": {
      "text/html": [
       "<img src=\"images/overfitting.png\" width=\"800\" height=\"400\"/>"
      ],
      "text/plain": [
       "<IPython.core.display.Image object>"
      ]
     },
     "execution_count": 288,
     "metadata": {},
     "output_type": "execute_result"
    }
   ],
   "source": [
    "Image(url= \"images/overfitting.png\", width=800, height=400)"
   ]
  },
  {
   "cell_type": "code",
   "execution_count": 287,
   "id": "97ba2f5b",
   "metadata": {},
   "outputs": [
    {
     "data": {
      "text/html": [
       "<img src=\"images/dropout1.png\" width=\"800\" height=\"400\"/>"
      ],
      "text/plain": [
       "<IPython.core.display.Image object>"
      ]
     },
     "execution_count": 287,
     "metadata": {},
     "output_type": "execute_result"
    }
   ],
   "source": [
    "Image(url= \"images/dropout1.png\", width=800, height=400)"
   ]
  },
  {
   "cell_type": "code",
   "execution_count": 286,
   "id": "cbd0ef0e",
   "metadata": {},
   "outputs": [
    {
     "data": {
      "text/html": [
       "<img src=\"images/dropout2.png\" width=\"800\" height=\"400\"/>"
      ],
      "text/plain": [
       "<IPython.core.display.Image object>"
      ]
     },
     "execution_count": 286,
     "metadata": {},
     "output_type": "execute_result"
    }
   ],
   "source": [
    "Image(url= \"images/dropout2.png\", width=800, height=400)"
   ]
  },
  {
   "cell_type": "code",
   "execution_count": 137,
   "id": "8e4dfc37",
   "metadata": {},
   "outputs": [],
   "source": [
    "#Source: Gfycat\n",
    "#Image(filename=\"neural_net.gif\", width=800, height=400)"
   ]
  },
  {
   "cell_type": "code",
   "execution_count": 285,
   "id": "197682ac",
   "metadata": {},
   "outputs": [
    {
     "data": {
      "text/html": [
       "<img src=\"https://thumbs.gfycat.com/DeadlyDeafeningAtlanticblackgoby-size_restricted.gif\" width=\"1000\" height=\"500\"/>"
      ],
      "text/plain": [
       "<IPython.core.display.Image object>"
      ]
     },
     "execution_count": 285,
     "metadata": {},
     "output_type": "execute_result"
    }
   ],
   "source": [
    "Image(url=\"https://thumbs.gfycat.com/DeadlyDeafeningAtlanticblackgoby-size_restricted.gif\", width=1000, height=500)"
   ]
  },
  {
   "cell_type": "code",
   "execution_count": 284,
   "id": "b8a7ddf5",
   "metadata": {},
   "outputs": [
    {
     "data": {
      "text/html": [
       "<img src=\"https://thumbs.gfycat.com/ThirdTameBluebird-size_restricted.gif\" width=\"1000\" height=\"500\"/>"
      ],
      "text/plain": [
       "<IPython.core.display.Image object>"
      ]
     },
     "execution_count": 284,
     "metadata": {},
     "output_type": "execute_result"
    }
   ],
   "source": [
    "Image(url=\"https://thumbs.gfycat.com/ThirdTameBluebird-size_restricted.gif\", width=1000, height=500)"
   ]
  },
  {
   "cell_type": "code",
   "execution_count": 282,
   "id": "fa466898",
   "metadata": {},
   "outputs": [
    {
     "data": {
      "text/html": [
       "<img src=\"images/overview_nn.png\" width=\"1000\" height=\"400\"/>"
      ],
      "text/plain": [
       "<IPython.core.display.Image object>"
      ]
     },
     "execution_count": 282,
     "metadata": {},
     "output_type": "execute_result"
    }
   ],
   "source": [
    "Image(url= \"images/overview_nn.png\", width=1000, height=400)"
   ]
  },
  {
   "cell_type": "markdown",
   "id": "da2b3391",
   "metadata": {},
   "source": [
    "### Choosing the right algorithm for your problem is difficult!"
   ]
  },
  {
   "cell_type": "code",
   "execution_count": 281,
   "id": "ecd36da1",
   "metadata": {},
   "outputs": [
    {
     "data": {
      "text/html": [
       "<img src=\"images/sk_learn_algo_cheat_sheet.png\" width=\"1000\" height=\"400\"/>"
      ],
      "text/plain": [
       "<IPython.core.display.Image object>"
      ]
     },
     "execution_count": 281,
     "metadata": {},
     "output_type": "execute_result"
    }
   ],
   "source": [
    "Image(url= \"images/sk_learn_algo_cheat_sheet.png\", width=1000, height=400)"
   ]
  },
  {
   "cell_type": "markdown",
   "id": "98f425e9",
   "metadata": {},
   "source": [
    "### What output to expect?"
   ]
  },
  {
   "cell_type": "code",
   "execution_count": 309,
   "id": "436d5770",
   "metadata": {},
   "outputs": [
    {
     "data": {
      "text/html": [
       "<img src=\"images/binary_classification.png\" width=\"1000\" height=\"400\"/>"
      ],
      "text/plain": [
       "<IPython.core.display.Image object>"
      ]
     },
     "execution_count": 309,
     "metadata": {},
     "output_type": "execute_result"
    }
   ],
   "source": [
    "Image(url= \"images/binary_classification.png\", width=1000, height=400)"
   ]
  },
  {
   "cell_type": "code",
   "execution_count": 310,
   "id": "20f26447",
   "metadata": {},
   "outputs": [
    {
     "data": {
      "text/html": [
       "<img src=\"images/prediction_matrix.png\" width=\"1000\" height=\"400\"/>"
      ],
      "text/plain": [
       "<IPython.core.display.Image object>"
      ]
     },
     "execution_count": 310,
     "metadata": {},
     "output_type": "execute_result"
    }
   ],
   "source": [
    "Image(url= \"images/prediction_matrix.png\", width=1000, height=400)"
   ]
  },
  {
   "cell_type": "code",
   "execution_count": 311,
   "id": "8887f76b",
   "metadata": {},
   "outputs": [
    {
     "data": {
      "text/html": [
       "<img src=\"images/fscore.png\" width=\"1000\" height=\"400\"/>"
      ],
      "text/plain": [
       "<IPython.core.display.Image object>"
      ]
     },
     "execution_count": 311,
     "metadata": {},
     "output_type": "execute_result"
    }
   ],
   "source": [
    "Image(url= \"images/fscore.png\", width=1000, height=400)"
   ]
  },
  {
   "cell_type": "code",
   "execution_count": 312,
   "id": "854064c4",
   "metadata": {},
   "outputs": [
    {
     "data": {
      "text/html": [
       "<img src=\"images/imbalanced.png\" width=\"1000\" height=\"400\"/>"
      ],
      "text/plain": [
       "<IPython.core.display.Image object>"
      ]
     },
     "execution_count": 312,
     "metadata": {},
     "output_type": "execute_result"
    }
   ],
   "source": [
    "#Source: Lecture: Washington State University\n",
    "Image(url= \"images/imbalanced.png\", width=1000, height=400)"
   ]
  },
  {
   "cell_type": "code",
   "execution_count": 320,
   "id": "d89f42e3",
   "metadata": {},
   "outputs": [
    {
     "data": {
      "text/html": [
       "<img src=\"images/yann_lecun.jpg\" width=\"400\" height=\"400\"/>"
      ],
      "text/plain": [
       "<IPython.core.display.Image object>"
      ]
     },
     "execution_count": 320,
     "metadata": {},
     "output_type": "execute_result"
    }
   ],
   "source": [
    "Image(url= \"images/yann_lecun.jpg\", width=400, height=400)"
   ]
  },
  {
   "cell_type": "code",
   "execution_count": 318,
   "id": "dec4d574",
   "metadata": {},
   "outputs": [
    {
     "data": {
      "text/html": [
       "<img src=\"images/cnn_layout.png\" width=\"1000\" height=\"400\"/>"
      ],
      "text/plain": [
       "<IPython.core.display.Image object>"
      ]
     },
     "execution_count": 318,
     "metadata": {},
     "output_type": "execute_result"
    }
   ],
   "source": [
    "Image(url= \"images/cnn_layout.png\", width=1000, height=400)"
   ]
  },
  {
   "cell_type": "markdown",
   "id": "865a90f3",
   "metadata": {},
   "source": [
    "# <h2><center>Practical Session</center></h2>"
   ]
  },
  {
   "cell_type": "code",
   "execution_count": 1,
   "id": "8b76be48",
   "metadata": {},
   "outputs": [
    {
     "name": "stderr",
     "output_type": "stream",
     "text": [
      "Using TensorFlow backend.\n"
     ]
    }
   ],
   "source": [
    "import tensorflow as tf\n",
    "import matplotlib.pyplot as plt\n",
    "import numpy as np\n",
    "#from keras.models import Sequential\n",
    "from tensorflow.keras import Sequential\n",
    "\n",
    "#from keras.layers import Conv2D, MaxPooling2D\n",
    "#from keras.layers import Activation, Dropout, Flatten, Dense\n",
    "from tensorflow.keras.layers import Conv2D, Flatten, Dense, Dropout, Activation, MaxPooling2D, Input, \\\n",
    "concatenate, LeakyReLU\n",
    "from tensorflow.keras.models import Model\n",
    "from sklearn.metrics import confusion_matrix, f1_score, precision_score, recall_score\n",
    "from keras import backend as K\n",
    "from tensorflow.keras import optimizers\n",
    "import numpy as np\n",
    "import math, time\n",
    "import itertools\n",
    "from sklearn.model_selection import train_test_split\n",
    "from keras.callbacks import TensorBoard\n",
    "import pandas as pd\n",
    "from tensorflow.keras.initializers import RandomNormal\n",
    "%matplotlib inline"
   ]
  },
  {
   "cell_type": "code",
   "execution_count": 2,
   "id": "30788134",
   "metadata": {},
   "outputs": [
    {
     "name": "stdout",
     "output_type": "stream",
     "text": [
      "Total Number of Pulsar Examples is 2847\n",
      "Total Number of Non-Pulsar Examples is 3100\n"
     ]
    }
   ],
   "source": [
    "# Load all data\n",
    "\n",
    "\n",
    "pulse_profile_pulsars = np.load('input_data/pulse_profile_data_pulsars.npy')\n",
    "pulse_profile_nonpulsars = np.load('input_data/pulse_profile_data_nonpulsars.npy')\n",
    "\n",
    "dm_curve_pulsars = np.load('input_data/dm_curve_data_pulsars.npy')\n",
    "dm_curve_nonpulsars = np.load('input_data/dm_curve_data_nonpulsars.npy')\n",
    "\n",
    "pulse_profile_gbncc_pulsars = np.load('input_data/pulse_profile_gbncc_test_data_pulsars.npy')\n",
    "pulse_profile_gbncc_nonpulsars = np.load('input_data/pulse_profile_gbncc_test_data_nonpulsars_part1.npy')\n",
    "\n",
    "\n",
    "\n",
    "print('Total Number of Pulsar Examples is %d' %len(dm_curve_pulsars))\n",
    "print('Total Number of Non-Pulsar Examples is %d' %len(dm_curve_nonpulsars))\n"
   ]
  },
  {
   "cell_type": "code",
   "execution_count": 3,
   "id": "38f37338",
   "metadata": {},
   "outputs": [],
   "source": [
    "# Helper Functions \n",
    "def plot_confusion_matrix(cm, classes,\n",
    "                          normalize=False,\n",
    "                          title='Confusion matrix',\n",
    "                          cmap=plt.cm.Blues):\n",
    "    \"\"\"\n",
    "    This function prints and plots the confusion matrix.\n",
    "    Normalization can be applied by setting `normalize=True`.\n",
    "    \"\"\"\n",
    "    if normalize:\n",
    "        cm = cm.astype('float') / cm.sum(axis=1)[:, np.newaxis]\n",
    "        print(\"Normalized confusion matrix\")\n",
    "    else:\n",
    "        print('Confusion matrix, without normalization')\n",
    "\n",
    "    print(cm)\n",
    "\n",
    "    plt.imshow(cm, interpolation='nearest', cmap=cmap)\n",
    "    plt.title(title)\n",
    "    plt.colorbar()\n",
    "    tick_marks = np.arange(len(classes))\n",
    "    plt.xticks(tick_marks, classes, rotation=45)\n",
    "    plt.yticks(tick_marks, classes)\n",
    "\n",
    "    fmt = '.5f' if normalize else 'd'\n",
    "    thresh = cm.max() / 2.\n",
    "    for i, j in itertools.product(range(cm.shape[0]), range(cm.shape[1])):\n",
    "        plt.text(j, i, format(cm[i, j], fmt),\n",
    "                 horizontalalignment=\"center\",\n",
    "                 color=\"white\" if cm[i, j] > thresh else \"black\")\n",
    "\n",
    "    plt.ylabel('True label')\n",
    "    plt.xlabel('Predicted label')\n",
    "    plt.tight_layout()\n",
    "    \n",
    "def plot_images(images, cls_true, cls_pred=None):\n",
    "    assert len(images) == len(cls_true) == 9\n",
    "    \n",
    "    # Create figure with 3x3 sub-plots.\n",
    "    fig, axes = plt.subplots(3, 3)\n",
    "    fig.subplots_adjust(hspace=0.3, wspace=0.3)\n",
    "    img_shape = 48, 48\n",
    "    for i, ax in enumerate(axes.flat):\n",
    "        # Plot image.\n",
    "        ax.imshow(images[i].reshape(img_shape), cmap='binary')\n",
    "\n",
    "        # Show true and predicted classes.\n",
    "        if cls_pred is None:\n",
    "            xlabel = \"True: {0}\".format(cls_true[i])\n",
    "        else:\n",
    "            xlabel = \"True: {0}, Pred: {1}\".format(cls_true[i], cls_pred[i])\n",
    "\n",
    "        # Show the classes as the label on the x-axis.\n",
    "        ax.set_xlabel(xlabel)\n",
    "        \n",
    "        # Remove ticks from the plot.\n",
    "        ax.set_xticks([])\n",
    "        ax.set_yticks([])\n",
    "    \n",
    "    # Ensure the plot is shown correctly with multiple plots\n",
    "    # in a single Notebook cell.\n",
    "    plt.show()"
   ]
  },
  {
   "cell_type": "markdown",
   "id": "6686fa63",
   "metadata": {},
   "source": [
    "<h3><center>Let's Visualize our Input Data</center></h3>"
   ]
  },
  {
   "cell_type": "code",
   "execution_count": 4,
   "id": "dfeacccb",
   "metadata": {},
   "outputs": [
    {
     "data": {
      "image/png": "[encoded data removed]",
      "text/plain": [
       "<Figure size 1440x576 with 2 Axes>"
      ]
     },
     "metadata": {
      "needs_background": "light"
     },
     "output_type": "display_data"
    }
   ],
   "source": [
    "#Pulse Profile\n",
    "sample_pulse_profile_pulsar = pulse_profile_pulsars[0]\n",
    "sample_pulse_profile_nonpulsar = pulse_profile_nonpulsars[0]\n",
    "\n",
    "fig, axs = plt.subplots(nrows=1, ncols=2, sharex=True, figsize=(20,8))\n",
    "ax = axs[0]\n",
    "ax.plot(sample_pulse_profile_pulsar, color='black', linestyle='-.', linewidth=2)\n",
    "ax.set_title('Real Pulsar', size=18)\n",
    "ax.set_xlabel('Phase Bins')\n",
    "ax.set_ylabel('Normalised Intensity')\n",
    "ax = axs[1]\n",
    "ax.plot(sample_pulse_profile_nonpulsar, color='black', linestyle='-.', linewidth=2)\n",
    "ax.set_title('Non-Pulsar', size=18)\n",
    "ax.set_xlabel('Phase Bins')\n",
    "fig.suptitle('Normalised Pulse Profile', size=24)\n",
    "\n",
    "plt.show()"
   ]
  },
  {
   "cell_type": "code",
   "execution_count": 5,
   "id": "0dacbda9",
   "metadata": {},
   "outputs": [
    {
     "data": {
      "image/png": "[encoded data removed]",
      "text/plain": [
       "<Figure size 1440x576 with 2 Axes>"
      ]
     },
     "metadata": {
      "needs_background": "light"
     },
     "output_type": "display_data"
    }
   ],
   "source": [
    "#Pulse Profile\n",
    "sample_pulse_profile_pulsar = pulse_profile_gbncc_pulsars[0]\n",
    "sample_pulse_profile_nonpulsar = pulse_profile_gbncc_nonpulsars[0]\n",
    "\n",
    "fig, axs = plt.subplots(nrows=1, ncols=2, sharex=True, figsize=(20,8))\n",
    "ax = axs[0]\n",
    "ax.plot(sample_pulse_profile_pulsar, color='black', linestyle='-.', linewidth=2)\n",
    "ax.set_title('Real Pulsar', size=18)\n",
    "ax.set_xlabel('Phase Bins')\n",
    "ax.set_ylabel('Normalised Intensity')\n",
    "ax = axs[1]\n",
    "ax.plot(sample_pulse_profile_nonpulsar, color='black', linestyle='-.', linewidth=2)\n",
    "ax.set_title('Non-Pulsar', size=18)\n",
    "ax.set_xlabel('Phase Bins')\n",
    "fig.suptitle('Real GBNCC data Normalised Pulse Profile', size=24)\n",
    "\n",
    "plt.show()"
   ]
  },
  {
   "cell_type": "code",
   "execution_count": 6,
   "id": "8d25c193",
   "metadata": {},
   "outputs": [
    {
     "data": {
      "image/png": "[encoded data removed]",
      "text/plain": [
       "<Figure size 1440x576 with 2 Axes>"
      ]
     },
     "metadata": {
      "needs_background": "light"
     },
     "output_type": "display_data"
    }
   ],
   "source": [
    "#DM Curve\n",
    "sample_dm_curve_pulsar = dm_curve_pulsars[2]\n",
    "sample_dm_curve_nonpulsar = dm_curve_nonpulsars[22]\n",
    "\n",
    "fig, axs = plt.subplots(nrows=1, ncols=2, sharex=True, figsize=(20,8))\n",
    "ax = axs[0]\n",
    "ax.plot(sample_dm_curve_pulsar, color='black', linestyle='-.', linewidth=2)\n",
    "ax.set_title('Real Pulsar', size=18)\n",
    "ax.set_xlabel('Phase Bins')\n",
    "ax.set_ylabel('Normalised Intensity')\n",
    "ax = axs[1]\n",
    "ax.plot(sample_dm_curve_nonpulsar, color='black', linestyle='-.', linewidth=2)\n",
    "ax.set_title('Non-Pulsar', size=18)\n",
    "ax.set_xlabel('Phase Bins')\n",
    "fig.suptitle('Normalised and Centered DM Curve', size=24)\n",
    "\n",
    "plt.show()\n"
   ]
  },
  {
   "cell_type": "markdown",
   "id": "e7f76ae3",
   "metadata": {},
   "source": [
    " <h3><center>Multi-Layer Perceptron (Similar to Eatough et al.2010 and Bates et al. 2012)</center></h3>"
   ]
  },
  {
   "cell_type": "markdown",
   "id": "9a0da333",
   "metadata": {},
   "source": [
    "### Build your model and compile"
   ]
  },
  {
   "cell_type": "code",
   "execution_count": 7,
   "id": "bea12d09",
   "metadata": {},
   "outputs": [
    {
     "name": "stdout",
     "output_type": "stream",
     "text": [
      "Model: \"sequential\"\n",
      "_________________________________________________________________\n",
      "Layer (type)                 Output Shape              Param #   \n",
      "=================================================================\n",
      "dense (Dense)                (None, 64)                4160      \n",
      "_________________________________________________________________\n",
      "dropout (Dropout)            (None, 64)                0         \n",
      "_________________________________________________________________\n",
      "dense_1 (Dense)              (None, 1)                 65        \n",
      "=================================================================\n",
      "Total params: 4,225\n",
      "Trainable params: 4,225\n",
      "Non-trainable params: 0\n",
      "_________________________________________________________________\n"
     ]
    }
   ],
   "source": [
    "# Initialising the ANN\n",
    "classifier = Sequential()\n",
    "# Adding the Single Perceptron or Shallow network\n",
    "classifier.add(Dense(activation=\"relu\", input_dim=64, kernel_initializer=\"uniform\", units=64))\n",
    "# Adding dropout to prevent overfitting\n",
    "classifier.add(Dropout(rate=0.3))\n",
    "# Adding the output layer\n",
    "classifier.add(Dense(activation=\"sigmoid\", kernel_initializer=\"uniform\", units=1))\n",
    "# criterion loss and optimizer \n",
    "classifier.compile(optimizer='adam', loss='binary_crossentropy', metrics=['accuracy'])\n",
    "\n",
    "#Read about adam optimiser here: https://machinelearningmastery.com/adam-optimization-algorithm-for-deep-learning/\n",
    "classifier.summary()"
   ]
  },
  {
   "cell_type": "markdown",
   "id": "5cd86c6d",
   "metadata": {},
   "source": [
    "### Lets test this network on Pulse Profile. Step 1 is to split your data into train and test datasets"
   ]
  },
  {
   "cell_type": "code",
   "execution_count": 8,
   "id": "b94a4dbd",
   "metadata": {},
   "outputs": [
    {
     "name": "stdout",
     "output_type": "stream",
     "text": [
      "Total Samples in one epoch is 5947\n",
      "Total Number of Training Samples is 4757\n",
      "Total Number of Test Samples is 1190\n"
     ]
    }
   ],
   "source": [
    "# Pulsars are given label 1 and Non-Pulsars are given label 0\n",
    "label_pulsars = np.ones(len(dm_curve_pulsars))\n",
    "label_nonpulsars = np.zeros(len(dm_curve_nonpulsars))\n",
    "\n",
    "\n",
    "pulse_profile_data_combined = np.concatenate((pulse_profile_pulsars, pulse_profile_nonpulsars), axis = 0)\n",
    "pulse_profile_label_combined = np.concatenate((label_pulsars, label_nonpulsars), axis = 0)\n",
    "\n",
    "\n",
    "pulse_profile_train, pulse_profile_test, pulse_profile_label_train, \\\n",
    "pulse_profile_label_test = train_test_split(pulse_profile_data_combined, pulse_profile_label_combined, \\\n",
    "                                         test_size=0.2, random_state=42)\n",
    "\n",
    "print('Total Samples in one epoch is %d' %len(pulse_profile_data_combined))\n",
    "print('Total Number of Training Samples is %d' %len(pulse_profile_train))\n",
    "print('Total Number of Test Samples is %d' %len(pulse_profile_test))"
   ]
  },
  {
   "cell_type": "markdown",
   "id": "f93334b4",
   "metadata": {},
   "source": [
    "### Start Training"
   ]
  },
  {
   "cell_type": "code",
   "execution_count": 9,
   "id": "3d1b7ae3",
   "metadata": {},
   "outputs": [
    {
     "name": "stdout",
     "output_type": "stream",
     "text": [
      "Epoch 1/50\n",
      "39/39 [==============================] - 2s 26ms/step - loss: 0.6087 - accuracy: 0.8485 - val_loss: 0.3815 - val_accuracy: 0.9464\n",
      "Epoch 2/50\n",
      "39/39 [==============================] - 0s 7ms/step - loss: 0.3019 - accuracy: 0.9613 - val_loss: 0.1582 - val_accuracy: 0.9926\n",
      "Epoch 3/50\n",
      "39/39 [==============================] - 0s 7ms/step - loss: 0.1304 - accuracy: 0.9882 - val_loss: 0.0712 - val_accuracy: 0.9958\n",
      "Epoch 4/50\n",
      "39/39 [==============================] - 0s 7ms/step - loss: 0.0631 - accuracy: 0.9924 - val_loss: 0.0430 - val_accuracy: 0.9968\n",
      "Epoch 5/50\n",
      "39/39 [==============================] - 0s 8ms/step - loss: 0.0501 - accuracy: 0.9914 - val_loss: 0.0308 - val_accuracy: 0.9968\n",
      "Epoch 6/50\n",
      "39/39 [==============================] - 0s 7ms/step - loss: 0.0331 - accuracy: 0.9944 - val_loss: 0.0244 - val_accuracy: 0.9968\n",
      "Epoch 7/50\n",
      "39/39 [==============================] - 0s 6ms/step - loss: 0.0287 - accuracy: 0.9932 - val_loss: 0.0205 - val_accuracy: 0.9968\n",
      "Epoch 8/50\n",
      "39/39 [==============================] - 0s 7ms/step - loss: 0.0263 - accuracy: 0.9935 - val_loss: 0.0180 - val_accuracy: 0.9968\n",
      "Epoch 9/50\n",
      "39/39 [==============================] - 0s 6ms/step - loss: 0.0207 - accuracy: 0.9952 - val_loss: 0.0160 - val_accuracy: 0.9958\n",
      "Epoch 10/50\n",
      "39/39 [==============================] - 0s 7ms/step - loss: 0.0225 - accuracy: 0.9942 - val_loss: 0.0147 - val_accuracy: 0.9979\n",
      "Epoch 11/50\n",
      "39/39 [==============================] - 0s 6ms/step - loss: 0.0183 - accuracy: 0.9943 - val_loss: 0.0138 - val_accuracy: 0.9968\n",
      "Epoch 12/50\n",
      "39/39 [==============================] - 0s 7ms/step - loss: 0.0164 - accuracy: 0.9955 - val_loss: 0.0127 - val_accuracy: 0.9968\n",
      "Epoch 13/50\n",
      "39/39 [==============================] - 0s 7ms/step - loss: 0.0252 - accuracy: 0.9901 - val_loss: 0.0123 - val_accuracy: 0.9979\n",
      "Epoch 14/50\n",
      "39/39 [==============================] - 0s 7ms/step - loss: 0.0225 - accuracy: 0.9942 - val_loss: 0.0111 - val_accuracy: 0.9968\n",
      "Epoch 15/50\n",
      "39/39 [==============================] - 0s 8ms/step - loss: 0.0161 - accuracy: 0.9940 - val_loss: 0.0109 - val_accuracy: 0.9968\n",
      "Epoch 16/50\n",
      "39/39 [==============================] - 0s 7ms/step - loss: 0.0184 - accuracy: 0.9927 - val_loss: 0.0103 - val_accuracy: 0.9968\n",
      "Epoch 17/50\n",
      "39/39 [==============================] - 0s 8ms/step - loss: 0.0132 - accuracy: 0.9967 - val_loss: 0.0097 - val_accuracy: 0.9968\n",
      "Epoch 18/50\n",
      "39/39 [==============================] - 0s 6ms/step - loss: 0.0230 - accuracy: 0.9943 - val_loss: 0.0097 - val_accuracy: 0.9958\n",
      "Epoch 19/50\n",
      "39/39 [==============================] - 0s 6ms/step - loss: 0.0190 - accuracy: 0.9941 - val_loss: 0.0092 - val_accuracy: 0.9958\n",
      "Epoch 20/50\n",
      "39/39 [==============================] - 0s 9ms/step - loss: 0.0133 - accuracy: 0.9940 - val_loss: 0.0087 - val_accuracy: 0.9968\n",
      "Epoch 21/50\n",
      "39/39 [==============================] - 0s 9ms/step - loss: 0.0164 - accuracy: 0.9957 - val_loss: 0.0087 - val_accuracy: 0.9958\n",
      "Epoch 22/50\n",
      "39/39 [==============================] - 0s 9ms/step - loss: 0.0163 - accuracy: 0.9954 - val_loss: 0.0087 - val_accuracy: 0.9958\n",
      "Epoch 23/50\n",
      "39/39 [==============================] - 0s 12ms/step - loss: 0.0127 - accuracy: 0.9958 - val_loss: 0.0094 - val_accuracy: 0.9958\n",
      "Epoch 24/50\n",
      "39/39 [==============================] - 0s 9ms/step - loss: 0.0148 - accuracy: 0.9948 - val_loss: 0.0083 - val_accuracy: 0.9958\n",
      "Epoch 25/50\n",
      "39/39 [==============================] - 1s 17ms/step - loss: 0.0172 - accuracy: 0.9960 - val_loss: 0.0074 - val_accuracy: 0.9968\n",
      "Epoch 26/50\n",
      "39/39 [==============================] - 1s 15ms/step - loss: 0.0099 - accuracy: 0.9965 - val_loss: 0.0074 - val_accuracy: 0.9958\n",
      "Epoch 27/50\n",
      "39/39 [==============================] - 1s 14ms/step - loss: 0.0088 - accuracy: 0.9970 - val_loss: 0.0073 - val_accuracy: 0.9958\n",
      "Epoch 28/50\n",
      "39/39 [==============================] - 1s 14ms/step - loss: 0.0111 - accuracy: 0.9963 - val_loss: 0.0072 - val_accuracy: 0.9958\n",
      "Epoch 29/50\n",
      "39/39 [==============================] - 1s 15ms/step - loss: 0.0076 - accuracy: 0.9979 - val_loss: 0.0072 - val_accuracy: 0.9958\n",
      "Epoch 30/50\n",
      "39/39 [==============================] - 1s 19ms/step - loss: 0.0089 - accuracy: 0.9965 - val_loss: 0.0067 - val_accuracy: 0.9968\n",
      "Epoch 31/50\n",
      "39/39 [==============================] - 1s 15ms/step - loss: 0.0104 - accuracy: 0.9961 - val_loss: 0.0067 - val_accuracy: 0.9968\n",
      "Epoch 32/50\n",
      "39/39 [==============================] - 1s 23ms/step - loss: 0.0107 - accuracy: 0.9967 - val_loss: 0.0064 - val_accuracy: 0.9968\n",
      "Epoch 33/50\n",
      "39/39 [==============================] - 1s 23ms/step - loss: 0.0100 - accuracy: 0.9968 - val_loss: 0.0065 - val_accuracy: 0.9968\n",
      "Epoch 34/50\n",
      "39/39 [==============================] - 1s 18ms/step - loss: 0.0119 - accuracy: 0.9972 - val_loss: 0.0061 - val_accuracy: 0.9979\n",
      "Epoch 35/50\n",
      "39/39 [==============================] - 1s 15ms/step - loss: 0.0115 - accuracy: 0.9962 - val_loss: 0.0067 - val_accuracy: 0.9968\n",
      "Epoch 36/50\n",
      "39/39 [==============================] - 1s 15ms/step - loss: 0.0072 - accuracy: 0.9979 - val_loss: 0.0064 - val_accuracy: 0.9979\n",
      "Epoch 37/50\n",
      "39/39 [==============================] - 0s 12ms/step - loss: 0.0058 - accuracy: 0.9987 - val_loss: 0.0065 - val_accuracy: 0.9968\n",
      "Epoch 38/50\n",
      "39/39 [==============================] - 0s 12ms/step - loss: 0.0061 - accuracy: 0.9979 - val_loss: 0.0058 - val_accuracy: 0.9989\n",
      "Epoch 39/50\n",
      "39/39 [==============================] - 1s 17ms/step - loss: 0.0070 - accuracy: 0.9972 - val_loss: 0.0060 - val_accuracy: 0.9979\n",
      "Epoch 40/50\n",
      "39/39 [==============================] - 1s 17ms/step - loss: 0.0063 - accuracy: 0.9982 - val_loss: 0.0061 - val_accuracy: 0.9979\n",
      "Epoch 41/50\n",
      "39/39 [==============================] - 1s 15ms/step - loss: 0.0071 - accuracy: 0.9989 - val_loss: 0.0061 - val_accuracy: 0.9979\n",
      "Epoch 42/50\n",
      "39/39 [==============================] - 1s 21ms/step - loss: 0.0092 - accuracy: 0.9982 - val_loss: 0.0056 - val_accuracy: 0.9979\n",
      "Epoch 43/50\n",
      "39/39 [==============================] - 1s 19ms/step - loss: 0.0058 - accuracy: 0.9987 - val_loss: 0.0056 - val_accuracy: 0.9979\n",
      "Epoch 44/50\n",
      "39/39 [==============================] - 1s 27ms/step - loss: 0.0105 - accuracy: 0.9972 - val_loss: 0.0057 - val_accuracy: 0.9979\n",
      "Epoch 45/50\n",
      "39/39 [==============================] - 1s 19ms/step - loss: 0.0063 - accuracy: 0.9987 - val_loss: 0.0055 - val_accuracy: 0.9979\n",
      "Epoch 46/50\n",
      "39/39 [==============================] - 1s 17ms/step - loss: 0.0056 - accuracy: 0.9988 - val_loss: 0.0053 - val_accuracy: 0.9979\n",
      "Epoch 47/50\n",
      "39/39 [==============================] - 1s 19ms/step - loss: 0.0070 - accuracy: 0.9991 - val_loss: 0.0050 - val_accuracy: 0.9979\n",
      "Epoch 48/50\n",
      "39/39 [==============================] - 1s 24ms/step - loss: 0.0074 - accuracy: 0.9982 - val_loss: 0.0058 - val_accuracy: 0.9979\n",
      "Epoch 49/50\n",
      "39/39 [==============================] - 1s 18ms/step - loss: 0.0089 - accuracy: 0.9984 - val_loss: 0.0053 - val_accuracy: 0.9979\n",
      "Epoch 50/50\n",
      "39/39 [==============================] - 1s 15ms/step - loss: 0.0181 - accuracy: 0.9959 - val_loss: 0.0059 - val_accuracy: 0.9958\n"
     ]
    }
   ],
   "source": [
    "classifier.fit(pulse_profile_train, pulse_profile_label_train, validation_split=0.2, batch_size=100, epochs=50)\n",
    "classifier.save_weights('pulse_profile_perceptron.h5') # Save weights to avoid training in future"
   ]
  },
  {
   "cell_type": "markdown",
   "id": "c4eeae76",
   "metadata": {},
   "source": [
    "### Let's Test our Results"
   ]
  },
  {
   "cell_type": "code",
   "execution_count": 10,
   "id": "4d2a2fa3",
   "metadata": {},
   "outputs": [
    {
     "name": "stdout",
     "output_type": "stream",
     "text": [
      "F Score: 0.9922613929492692 Precision: 0.9914089347079038 Recall: 0.9931153184165232 Accuracy: 0.992436974789916\n"
     ]
    }
   ],
   "source": [
    "y_pred = classifier.predict(pulse_profile_test)\n",
    "classified_results = np.rint(y_pred)\n",
    "classified_results = np.reshape(classified_results, len(classified_results))\n",
    "f_score = f1_score(pulse_profile_label_test, classified_results, average='binary')\n",
    "precision = precision_score(pulse_profile_label_test, classified_results, average='binary')\n",
    "recall = recall_score(pulse_profile_label_test, classified_results, average='binary')\n",
    "accuracy = (pulse_profile_label_test == classified_results).sum()/len(pulse_profile_label_test)\n",
    "print('F Score:', f_score, 'Precision:', precision, 'Recall:', recall, 'Accuracy:', accuracy)\n",
    "\n"
   ]
  },
  {
   "cell_type": "code",
   "execution_count": 11,
   "id": "bdbc698c",
   "metadata": {},
   "outputs": [
    {
     "name": "stdout",
     "output_type": "stream",
     "text": [
      "Confusion matrix, without normalization\n",
      "[[604   5]\n",
      " [  4 577]]\n",
      "Normalized confusion matrix\n",
      "[[0.99178982 0.00821018]\n",
      " [0.00688468 0.99311532]]\n"
     ]
    },
    {
     "data": {
      "image/png": "[encoded data removed]",
      "text/plain": [
       "<Figure size 432x288 with 2 Axes>"
      ]
     },
     "metadata": {
      "needs_background": "light"
     },
     "output_type": "display_data"
    },
    {
     "data": {
      "image/png": "[encoded data removed]",
      "text/plain": [
       "<Figure size 432x288 with 2 Axes>"
      ]
     },
     "metadata": {
      "needs_background": "light"
     },
     "output_type": "display_data"
    }
   ],
   "source": [
    "class_names = ['Non-Pulsar','Pulsar']\n",
    "\n",
    "cnf_matrix = confusion_matrix(pulse_profile_label_test, classified_results)\n",
    "plt.figure()\n",
    "plot_confusion_matrix(cnf_matrix, classes=class_names, title='Confusion matrix, without normalization')\n",
    "plt.figure()\n",
    "plot_confusion_matrix(cnf_matrix, classes=class_names, normalize=True, title='Confusion matrix, with normalization')\n",
    "plt.show()"
   ]
  },
  {
   "cell_type": "code",
   "execution_count": 13,
   "id": "c3207854",
   "metadata": {},
   "outputs": [
    {
     "name": "stdout",
     "output_type": "stream",
     "text": [
      "Naive Bayes Classifier accuracy:  99.15966386554622 %.\n",
      "Support Vector Machine Classifier Accuracy: 99.41176470588235 %.\n"
     ]
    }
   ],
   "source": [
    "#Naive Bayes\n",
    "from sklearn.naive_bayes import GaussianNB\n",
    "\n",
    "classifier = GaussianNB()\n",
    "\n",
    "# First train the classifier with call to fit.\n",
    "classifier.fit(pulse_profile_train, pulse_profile_label_train)\n",
    "\n",
    "# Now obtain the classifiers 'score'\n",
    "accuracy = classifier.score(pulse_profile_test, pulse_profile_label_test)\n",
    "print (\"Naive Bayes Classifier accuracy: \", (100* accuracy), \"%.\")\n",
    "\n",
    "#Support Vector Machine\n",
    "from sklearn import svm\n",
    "clf = svm.SVC(gamma='scale')\n",
    "clf.fit(pulse_profile_train, pulse_profile_label_train)\n",
    "classified_results = clf.predict(pulse_profile_test)\n",
    "\n",
    "accuracy = (pulse_profile_label_test == classified_results).sum()/len(pulse_profile_label_test)\n",
    "print('Support Vector Machine Classifier Accuracy:', accuracy*100, \"%.\")"
   ]
  },
  {
   "cell_type": "markdown",
   "id": "d425ee43",
   "metadata": {},
   "source": [
    "# Exercise 1: Repeat the same procedure for DM Curve"
   ]
  },
  {
   "cell_type": "markdown",
   "id": "adb0d691",
   "metadata": {},
   "source": [
    "# Hard Problem: HTRU Lowlat Dataset"
   ]
  },
  {
   "cell_type": "code",
   "execution_count": 101,
   "id": "3d583fb6",
   "metadata": {},
   "outputs": [],
   "source": [
    "# Load all data and split labelled set to train and validation\n",
    "\n",
    "full_labelled_set = pd.read_csv('fundi_tutorial_training_set.csv')\n",
    "test_set = pd.read_csv('fundi_tutorial_test_set.csv')\n",
    "\n",
    "\n",
    "train_set, validation_set = train_test_split(full_labelled_set, test_size=0.2) \n",
    "\n",
    "train_set_filenames = train_set['Filename'].tolist()\n",
    "train_set_labels = train_set['Classification'].tolist()\n",
    "\n",
    "test_set_filenames = test_set['Filename'].tolist()\n",
    "test_set_labels = test_set['Classification'].tolist()\n",
    "\n",
    "validation_set_filenames = validation_set['Filename'].tolist()\n",
    "validation_set_labels = validation_set['Classification'].tolist()\n",
    "\n",
    "\n"
   ]
  },
  {
   "cell_type": "markdown",
   "id": "da761bd5",
   "metadata": {},
   "source": [
    "# Load all the data"
   ]
  },
  {
   "cell_type": "code",
   "execution_count": 106,
   "id": "0f1bacf0",
   "metadata": {},
   "outputs": [],
   "source": [
    "time_phase_train = [np.load(f[:-4] + '_time_phase.npy') for f in train_set_filenames]\n",
    "freq_phase_train = [np.load(f[:-4] + '_freq_phase.npy') for f in train_set_filenames]\n",
    "pulse_profile_train = [np.load(f[:-4] + '_pulse_profile.npy') for f in train_set_filenames]\n",
    "dm_curve_train = [np.load(f[:-4] + '_dm_curve.npy') for f in train_set_filenames]\n",
    "\n",
    "time_phase_validation = [np.load(f[:-4] + '_time_phase.npy') for f in validation_set_filenames]\n",
    "freq_phase_validation = [np.load(f[:-4] + '_freq_phase.npy') for f in validation_set_filenames]\n",
    "pulse_profile_validation = [np.load(f[:-4] + '_pulse_profile.npy') for f in validation_set_filenames]\n",
    "dm_curve_validation = [np.load(f[:-4] + '_dm_curve.npy') for f in validation_set_filenames]\n",
    "\n",
    "time_phase_test = [np.load(f[:-4] + '_time_phase.npy') for f in test_set_filenames]\n",
    "freq_phase_test = [np.load(f[:-4] + '_freq_phase.npy') for f in test_set_filenames]\n",
    "pulse_profile_test = [np.load(f[:-4] + '_pulse_profile.npy') for f in test_set_filenames]\n",
    "dm_curve_test = [np.load(f[:-4] + '_dm_curve.npy') for f in test_set_filenames]\n",
    "\n"
   ]
  },
  {
   "cell_type": "code",
   "execution_count": 251,
   "id": "c021b56f",
   "metadata": {},
   "outputs": [
    {
     "name": "stdout",
     "output_type": "stream",
     "text": [
      "Total Cands. In Train: 800, Validation: 200, Test: 1000\n"
     ]
    }
   ],
   "source": [
    "reshaped_time_phase_train = np.array([np.reshape(f,(48,48,1)) for f in time_phase_train])\n",
    "reshaped_freq_phase_train = np.array([np.reshape(f,(48,48,1)) for f in freq_phase_train])\n",
    "reshaped_pulse_profile_train = np.array(pulse_profile_train)\n",
    "reshaped_dm_curve_train = np.array(dm_curve_train)\n",
    "#reshaped_dm_curve_train = [np.reshape(f,(60,1)) for f in dm_curve_train]\n",
    "#reshaped_pulse_profile_train = [np.reshape(f,(64,1)) for f in pulse_profile_train]\n",
    "\n",
    "\n",
    "reshaped_time_phase_validation = np.array([np.reshape(f,(48,48,1)) for f in time_phase_validation])\n",
    "reshaped_freq_phase_validation = np.array([np.reshape(f,(48,48,1)) for f in freq_phase_validation])\n",
    "reshaped_pulse_profile_validation = np.array(pulse_profile_validation)\n",
    "reshaped_dm_curve_validation =  np.array(dm_curve_validation)\n",
    "\n",
    "#reshaped_pulse_profile_validation = [np.reshape(f,(64,1)) for f in pulse_profile_validation]\n",
    "#reshaped_dm_curve_validation = [np.reshape(f,(60,1)) for f in dm_curve_validation]\n",
    "\n",
    "\n",
    "reshaped_time_phase_test = np.array([np.reshape(f,(48,48,1)) for f in time_phase_test])\n",
    "reshaped_freq_phase_test= np.array([np.reshape(f,(48,48,1)) for f in freq_phase_test])\n",
    "reshaped_pulse_profile_test = np.array(pulse_profile_test)\n",
    "reshaped_dm_curve_test =  np.array(dm_curve_test)\n",
    "\n",
    "#reshaped_pulse_profile_test = [np.reshape(f,(64,1)) for f in pulse_profile_test]\n",
    "#reshaped_dm_curve_test = [np.reshape(f,(60,1)) for f in dm_curve_test]\n",
    "\n",
    "print(\"Total Cands. In Train: %d, Validation: %d, Test: %d\" %(len(dm_curve_train), len(dm_curve_validation), len(dm_curve_test)))\n"
   ]
  },
  {
   "cell_type": "code",
   "execution_count": 252,
   "id": "4bbd26c7",
   "metadata": {},
   "outputs": [],
   "source": [
    "# Helper Functions \n",
    "def plot_confusion_matrix(cm, classes,\n",
    "                          normalize=False,\n",
    "                          title='Confusion matrix',\n",
    "                          cmap=plt.cm.Blues):\n",
    "    \"\"\"\n",
    "    This function prints and plots the confusion matrix.\n",
    "    Normalization can be applied by setting `normalize=True`.\n",
    "    \"\"\"\n",
    "    if normalize:\n",
    "        cm = cm.astype('float') / cm.sum(axis=1)[:, np.newaxis]\n",
    "        print(\"Normalized confusion matrix\")\n",
    "    else:\n",
    "        print('Confusion matrix, without normalization')\n",
    "\n",
    "    print(cm)\n",
    "\n",
    "    plt.imshow(cm, interpolation='nearest', cmap=cmap)\n",
    "    plt.title(title)\n",
    "    plt.colorbar()\n",
    "    tick_marks = np.arange(len(classes))\n",
    "    plt.xticks(tick_marks, classes, rotation=45)\n",
    "    plt.yticks(tick_marks, classes)\n",
    "\n",
    "    fmt = '.5f' if normalize else 'd'\n",
    "    thresh = cm.max() / 2.\n",
    "    for i, j in itertools.product(range(cm.shape[0]), range(cm.shape[1])):\n",
    "        plt.text(j, i, format(cm[i, j], fmt),\n",
    "                 horizontalalignment=\"center\",\n",
    "                 color=\"white\" if cm[i, j] > thresh else \"black\")\n",
    "\n",
    "    plt.ylabel('True label')\n",
    "    plt.xlabel('Predicted label')\n",
    "    plt.tight_layout()\n",
    "    \n",
    "def plot_images(images, cls_true, cls_pred=None):\n",
    "    assert len(images) == len(cls_true) == 9\n",
    "    \n",
    "    # Create figure with 3x3 sub-plots.\n",
    "    fig, axes = plt.subplots(3, 3)\n",
    "    fig.subplots_adjust(hspace=0.3, wspace=0.3)\n",
    "    img_shape = 48, 48\n",
    "    for i, ax in enumerate(axes.flat):\n",
    "        # Plot image.\n",
    "        ax.imshow(images[i].reshape(img_shape), cmap='binary')\n",
    "\n",
    "        # Show true and predicted classes.\n",
    "        if cls_pred is None:\n",
    "            xlabel = \"True: {0}\".format(cls_true[i])\n",
    "        else:\n",
    "            xlabel = \"True: {0}, Pred: {1}\".format(cls_true[i], cls_pred[i])\n",
    "\n",
    "        # Show the classes as the label on the x-axis.\n",
    "        ax.set_xlabel(xlabel)\n",
    "        \n",
    "        # Remove ticks from the plot.\n",
    "        ax.set_xticks([])\n",
    "        ax.set_yticks([])\n",
    "    \n",
    "    # Ensure the plot is shown correctly with multiple plots\n",
    "    # in a single Notebook cell.\n",
    "    plt.show()"
   ]
  },
  {
   "cell_type": "code",
   "execution_count": 254,
   "id": "2fa1b581",
   "metadata": {},
   "outputs": [
    {
     "data": {
      "image/png": "[encoded data removed]",
      "text/plain": [
       "<Figure size 1440x576 with 2 Axes>"
      ]
     },
     "metadata": {
      "needs_background": "light"
     },
     "output_type": "display_data"
    }
   ],
   "source": [
    "#Pulse Profile\n",
    "pulsar_index = 0\n",
    "nonpulsar_index = 1\n",
    "\n",
    "sample_pulse_profile_pulsar = pulse_profile_train[pulsar_index]\n",
    "sample_pulse_profile_nonpulsar = pulse_profile_train[nonpulsar_index]\n",
    "\n",
    "fig, axs = plt.subplots(nrows=1, ncols=2, sharex=True, figsize=(20,8))\n",
    "ax = axs[0]\n",
    "ax.plot(sample_pulse_profile_pulsar, color='black', linestyle='-.', linewidth=2)\n",
    "ax.set_title('Real Pulsar', size=18)\n",
    "ax.set_xlabel('Phase Bins')\n",
    "ax.set_ylabel('Normalised Intensity')\n",
    "ax = axs[1]\n",
    "ax.plot(sample_pulse_profile_nonpulsar, color='black', linestyle='-.', linewidth=2)\n",
    "ax.set_title('Non-Pulsar', size=18)\n",
    "ax.set_xlabel('Phase Bins')\n",
    "fig.suptitle('Normalised Pulse Profile', size=24)\n",
    "\n",
    "plt.show()"
   ]
  },
  {
   "cell_type": "code",
   "execution_count": 255,
   "id": "47483141",
   "metadata": {},
   "outputs": [
    {
     "data": {
      "image/png": "[encoded data removed]",
      "text/plain": [
       "<Figure size 1440x576 with 2 Axes>"
      ]
     },
     "metadata": {
      "needs_background": "light"
     },
     "output_type": "display_data"
    }
   ],
   "source": [
    "#DM Curve\n",
    "\n",
    "\n",
    "sample_dm_curve_pulsar = dm_curve_train[pulsar_index]\n",
    "sample_dm_curve_nonpulsar = dm_curve_train[nonpulsar_index]\n",
    "\n",
    "fig, axs = plt.subplots(nrows=1, ncols=2, sharex=True, figsize=(20,8))\n",
    "ax = axs[0]\n",
    "ax.plot(sample_dm_curve_pulsar, color='black', linestyle='-.', linewidth=2)\n",
    "ax.set_title('Real Pulsar', size=18)\n",
    "ax.set_xlabel('Phase Bins')\n",
    "ax.set_ylabel('Normalised Intensity')\n",
    "ax = axs[1]\n",
    "ax.plot(sample_dm_curve_nonpulsar, color='black', linestyle='-.', linewidth=2)\n",
    "ax.set_title('Non-Pulsar', size=18)\n",
    "ax.set_xlabel('Phase Bins')\n",
    "fig.suptitle('Normalised and Centered DM Curve', size=24)\n",
    "\n",
    "plt.show()\n"
   ]
  },
  {
   "cell_type": "code",
   "execution_count": 256,
   "id": "2e500015",
   "metadata": {},
   "outputs": [
    {
     "data": {
      "image/png": "[encoded data removed]",
      "text/plain": [
       "<Figure size 1440x576 with 2 Axes>"
      ]
     },
     "metadata": {
      "needs_background": "light"
     },
     "output_type": "display_data"
    }
   ],
   "source": [
    "#Time vs Phase plot\n",
    "i = 160\n",
    "sample_time_phase_pulsar = np.reshape(time_phase_train[pulsar_index],(48,48))\n",
    "sample_time_phase_nonpulsar = np.reshape(time_phase_train[nonpulsar_index], (48,48))\n",
    "\n",
    "fig, axs = plt.subplots(nrows=1, ncols=2, sharex=True, figsize=(20,8))\n",
    "ax = axs[0]\n",
    "ax.imshow(sample_time_phase_pulsar, origin='lower')\n",
    "ax.set_title('Real Pulsar', size=18)\n",
    "ax.set_xlabel('Phase')\n",
    "ax.set_ylabel('Obs.Time')\n",
    "ax = axs[1]\n",
    "ax.imshow(sample_time_phase_nonpulsar, origin='lower')\n",
    "ax.set_title('Non-Pulsar', size=18)\n",
    "ax.set_xlabel('Phase')\n",
    "fig.suptitle('Time vs Phase Curve', size=24)\n",
    "\n",
    "plt.show()"
   ]
  },
  {
   "cell_type": "code",
   "execution_count": 257,
   "id": "b91a1d0e",
   "metadata": {},
   "outputs": [
    {
     "data": {
      "image/png": "[encoded data removed]",
      "text/plain": [
       "<Figure size 1440x576 with 2 Axes>"
      ]
     },
     "metadata": {
      "needs_background": "light"
     },
     "output_type": "display_data"
    }
   ],
   "source": [
    "i = 160\n",
    "#Freq vs Phase plot\n",
    "sample_freq_phase_pulsar = np.reshape(freq_phase_train[pulsar_index],(48,48))\n",
    "sample_freq_phase_nonpulsar = np.reshape(freq_phase_train[nonpulsar_index], (48,48))\n",
    "\n",
    "fig, axs = plt.subplots(nrows=1, ncols=2, sharex=True, figsize=(20,8))\n",
    "ax = axs[0]\n",
    "ax.imshow(sample_freq_phase_pulsar, origin='lower')\n",
    "ax.set_title('Real Pulsar', size=18)\n",
    "ax.set_xlabel('Phase')\n",
    "ax.set_ylabel('Obs.Frequency')\n",
    "ax = axs[1]\n",
    "ax.imshow(sample_freq_phase_nonpulsar, origin='lower')\n",
    "ax.set_title('Non-Pulsar', size=18)\n",
    "ax.set_xlabel('Phase')\n",
    "fig.suptitle('Frequency vs Phase Curve', size=24)\n",
    "\n",
    "plt.show()"
   ]
  },
  {
   "cell_type": "code",
   "execution_count": 258,
   "id": "48b1ac7c",
   "metadata": {},
   "outputs": [
    {
     "name": "stdout",
     "output_type": "stream",
     "text": [
      "Model: \"sequential_16\"\n",
      "_________________________________________________________________\n",
      "Layer (type)                 Output Shape              Param #   \n",
      "=================================================================\n",
      "dense_191 (Dense)            (None, 60)                3660      \n",
      "_________________________________________________________________\n",
      "dropout_40 (Dropout)         (None, 60)                0         \n",
      "_________________________________________________________________\n",
      "dense_192 (Dense)            (None, 30)                1830      \n",
      "_________________________________________________________________\n",
      "dropout_41 (Dropout)         (None, 30)                0         \n",
      "_________________________________________________________________\n",
      "dense_193 (Dense)            (None, 15)                465       \n",
      "_________________________________________________________________\n",
      "dropout_42 (Dropout)         (None, 15)                0         \n",
      "_________________________________________________________________\n",
      "dense_194 (Dense)            (None, 1)                 16        \n",
      "=================================================================\n",
      "Total params: 5,971\n",
      "Trainable params: 5,971\n",
      "Non-trainable params: 0\n",
      "_________________________________________________________________\n"
     ]
    }
   ],
   "source": [
    "# Initialising the ANN\n",
    "classifier = Sequential()\n",
    "# Adding the Single Perceptron or Shallow network\n",
    "classifier.add(Dense(activation=\"relu\", input_dim=60, kernel_initializer=\"uniform\", units=60))\n",
    "classifier.add(Dropout(rate=0.1))\n",
    "\n",
    "classifier.add(Dense(activation=\"relu\", input_dim=60, kernel_initializer=\"uniform\", units=30))\n",
    "classifier.add(Dropout(rate=0.2))\n",
    "\n",
    "classifier.add(Dense(activation=\"relu\", input_dim=60, kernel_initializer=\"uniform\", units=15))\n",
    "\n",
    "\n",
    "\n",
    "# Adding dropout to prevent overfitting\n",
    "classifier.add(Dropout(rate=0.4))\n",
    "# Adding the output layer\n",
    "classifier.add(Dense(activation=\"sigmoid\", kernel_initializer=\"uniform\", units=1))\n",
    "# criterion loss and optimizer \n",
    "classifier.compile(optimizer='adam', loss='binary_crossentropy', metrics=['accuracy'])\n",
    "\n",
    "#Read about adam optimiser here: https://machinelearningmastery.com/adam-optimization-algorithm-for-deep-learning/\n",
    "classifier.summary()"
   ]
  },
  {
   "cell_type": "markdown",
   "id": "3d9cdedc",
   "metadata": {},
   "source": [
    "# DM Curve"
   ]
  },
  {
   "cell_type": "code",
   "execution_count": 259,
   "id": "0260a5e2",
   "metadata": {},
   "outputs": [
    {
     "name": "stdout",
     "output_type": "stream",
     "text": [
      "Epoch 1/200\n",
      "4/4 [==============================] - 1s 163ms/step - loss: 0.6931 - accuracy: 0.4700 - val_loss: 0.6928 - val_accuracy: 0.4550\n",
      "Epoch 2/200\n",
      "4/4 [==============================] - 0s 33ms/step - loss: 0.6923 - accuracy: 0.5842 - val_loss: 0.6919 - val_accuracy: 0.4800\n",
      "Epoch 3/200\n",
      "4/4 [==============================] - 0s 49ms/step - loss: 0.6912 - accuracy: 0.6573 - val_loss: 0.6901 - val_accuracy: 0.8100\n",
      "Epoch 4/200\n",
      "4/4 [==============================] - 0s 52ms/step - loss: 0.6888 - accuracy: 0.7988 - val_loss: 0.6866 - val_accuracy: 0.8900\n",
      "Epoch 5/200\n",
      "4/4 [==============================] - 0s 52ms/step - loss: 0.6848 - accuracy: 0.8912 - val_loss: 0.6800 - val_accuracy: 0.9100\n",
      "Epoch 6/200\n",
      "4/4 [==============================] - 0s 55ms/step - loss: 0.6779 - accuracy: 0.9280 - val_loss: 0.6686 - val_accuracy: 0.9250\n",
      "Epoch 7/200\n",
      "4/4 [==============================] - 0s 48ms/step - loss: 0.6653 - accuracy: 0.9493 - val_loss: 0.6498 - val_accuracy: 0.9350\n",
      "Epoch 8/200\n",
      "4/4 [==============================] - 0s 46ms/step - loss: 0.6451 - accuracy: 0.9535 - val_loss: 0.6200 - val_accuracy: 0.9400\n",
      "Epoch 9/200\n",
      "4/4 [==============================] - 0s 49ms/step - loss: 0.6165 - accuracy: 0.9480 - val_loss: 0.5758 - val_accuracy: 0.9450\n",
      "Epoch 10/200\n",
      "4/4 [==============================] - 0s 49ms/step - loss: 0.5726 - accuracy: 0.9510 - val_loss: 0.5157 - val_accuracy: 0.9450\n",
      "Epoch 11/200\n",
      "4/4 [==============================] - 0s 32ms/step - loss: 0.5146 - accuracy: 0.9475 - val_loss: 0.4429 - val_accuracy: 0.9450\n",
      "Epoch 12/200\n",
      "4/4 [==============================] - 0s 36ms/step - loss: 0.4521 - accuracy: 0.9553 - val_loss: 0.3657 - val_accuracy: 0.9450\n",
      "Epoch 13/200\n",
      "4/4 [==============================] - 0s 53ms/step - loss: 0.3740 - accuracy: 0.9523 - val_loss: 0.2956 - val_accuracy: 0.9450\n",
      "Epoch 14/200\n",
      "4/4 [==============================] - 0s 56ms/step - loss: 0.3096 - accuracy: 0.9518 - val_loss: 0.2388 - val_accuracy: 0.9450\n",
      "Epoch 15/200\n",
      "4/4 [==============================] - 0s 47ms/step - loss: 0.2507 - accuracy: 0.9557 - val_loss: 0.1934 - val_accuracy: 0.9450\n",
      "Epoch 16/200\n",
      "4/4 [==============================] - 0s 46ms/step - loss: 0.2162 - accuracy: 0.9565 - val_loss: 0.1604 - val_accuracy: 0.9500\n",
      "Epoch 17/200\n",
      "4/4 [==============================] - 0s 57ms/step - loss: 0.1708 - accuracy: 0.9608 - val_loss: 0.1378 - val_accuracy: 0.9550\n",
      "Epoch 18/200\n",
      "4/4 [==============================] - 0s 47ms/step - loss: 0.1663 - accuracy: 0.9517 - val_loss: 0.1213 - val_accuracy: 0.9550\n",
      "Epoch 19/200\n",
      "4/4 [==============================] - 0s 57ms/step - loss: 0.1566 - accuracy: 0.9495 - val_loss: 0.1099 - val_accuracy: 0.9600\n",
      "Epoch 20/200\n",
      "4/4 [==============================] - 0s 49ms/step - loss: 0.1072 - accuracy: 0.9738 - val_loss: 0.1013 - val_accuracy: 0.9600\n",
      "Epoch 21/200\n",
      "4/4 [==============================] - 0s 47ms/step - loss: 0.1231 - accuracy: 0.9600 - val_loss: 0.0925 - val_accuracy: 0.9650\n",
      "Epoch 22/200\n",
      "4/4 [==============================] - 0s 46ms/step - loss: 0.1027 - accuracy: 0.9698 - val_loss: 0.0845 - val_accuracy: 0.9650\n",
      "Epoch 23/200\n",
      "4/4 [==============================] - 0s 54ms/step - loss: 0.0946 - accuracy: 0.9743 - val_loss: 0.0777 - val_accuracy: 0.9650\n",
      "Epoch 24/200\n",
      "4/4 [==============================] - 0s 52ms/step - loss: 0.0840 - accuracy: 0.9780 - val_loss: 0.0700 - val_accuracy: 0.9750\n",
      "Epoch 25/200\n",
      "4/4 [==============================] - 0s 49ms/step - loss: 0.0728 - accuracy: 0.9873 - val_loss: 0.0642 - val_accuracy: 0.9800\n",
      "Epoch 26/200\n",
      "4/4 [==============================] - 0s 48ms/step - loss: 0.0754 - accuracy: 0.9868 - val_loss: 0.0606 - val_accuracy: 0.9800\n",
      "Epoch 27/200\n",
      "4/4 [==============================] - 0s 55ms/step - loss: 0.0845 - accuracy: 0.9768 - val_loss: 0.0558 - val_accuracy: 0.9800\n",
      "Epoch 28/200\n",
      "4/4 [==============================] - 0s 50ms/step - loss: 0.0671 - accuracy: 0.9857 - val_loss: 0.0534 - val_accuracy: 0.9800\n",
      "Epoch 29/200\n",
      "4/4 [==============================] - 0s 47ms/step - loss: 0.0733 - accuracy: 0.9805 - val_loss: 0.0479 - val_accuracy: 0.9800\n",
      "Epoch 30/200\n",
      "4/4 [==============================] - 0s 50ms/step - loss: 0.0636 - accuracy: 0.9872 - val_loss: 0.0420 - val_accuracy: 0.9800\n",
      "Epoch 31/200\n",
      "4/4 [==============================] - 0s 49ms/step - loss: 0.0512 - accuracy: 0.9868 - val_loss: 0.0364 - val_accuracy: 0.9900\n",
      "Epoch 32/200\n",
      "4/4 [==============================] - 0s 51ms/step - loss: 0.0426 - accuracy: 0.9925 - val_loss: 0.0326 - val_accuracy: 0.9900\n",
      "Epoch 33/200\n",
      "4/4 [==============================] - 0s 51ms/step - loss: 0.0458 - accuracy: 0.9928 - val_loss: 0.0289 - val_accuracy: 0.9900\n",
      "Epoch 34/200\n",
      "4/4 [==============================] - 0s 59ms/step - loss: 0.0513 - accuracy: 0.9890 - val_loss: 0.0255 - val_accuracy: 0.9900\n",
      "Epoch 35/200\n",
      "4/4 [==============================] - 0s 31ms/step - loss: 0.0426 - accuracy: 0.9902 - val_loss: 0.0210 - val_accuracy: 0.9900\n",
      "Epoch 36/200\n",
      "4/4 [==============================] - 0s 47ms/step - loss: 0.0360 - accuracy: 0.9925 - val_loss: 0.0186 - val_accuracy: 0.9900\n",
      "Epoch 37/200\n",
      "4/4 [==============================] - 0s 49ms/step - loss: 0.0452 - accuracy: 0.9890 - val_loss: 0.0144 - val_accuracy: 0.9900\n",
      "Epoch 38/200\n",
      "4/4 [==============================] - 0s 60ms/step - loss: 0.0400 - accuracy: 0.9853 - val_loss: 0.0121 - val_accuracy: 0.9950\n",
      "Epoch 39/200\n",
      "4/4 [==============================] - 0s 49ms/step - loss: 0.0244 - accuracy: 0.9945 - val_loss: 0.0105 - val_accuracy: 0.9950\n",
      "Epoch 40/200\n",
      "4/4 [==============================] - 0s 49ms/step - loss: 0.0220 - accuracy: 0.9947 - val_loss: 0.0095 - val_accuracy: 0.9950\n",
      "Epoch 41/200\n",
      "4/4 [==============================] - 0s 54ms/step - loss: 0.0214 - accuracy: 0.9960 - val_loss: 0.0074 - val_accuracy: 1.0000\n",
      "Epoch 42/200\n",
      "4/4 [==============================] - 0s 52ms/step - loss: 0.0270 - accuracy: 0.9908 - val_loss: 0.0058 - val_accuracy: 1.0000\n",
      "Epoch 43/200\n",
      "4/4 [==============================] - 0s 63ms/step - loss: 0.0171 - accuracy: 0.9973 - val_loss: 0.0045 - val_accuracy: 1.0000\n",
      "Epoch 44/200\n",
      "4/4 [==============================] - 0s 66ms/step - loss: 0.0162 - accuracy: 0.9963 - val_loss: 0.0039 - val_accuracy: 1.0000\n",
      "Epoch 45/200\n",
      "4/4 [==============================] - 0s 67ms/step - loss: 0.0122 - accuracy: 1.0000 - val_loss: 0.0032 - val_accuracy: 1.0000\n",
      "Epoch 46/200\n",
      "4/4 [==============================] - 0s 59ms/step - loss: 0.0116 - accuracy: 0.9987 - val_loss: 0.0029 - val_accuracy: 1.0000\n",
      "Epoch 47/200\n",
      "4/4 [==============================] - 0s 55ms/step - loss: 0.0104 - accuracy: 0.9987 - val_loss: 0.0023 - val_accuracy: 1.0000\n",
      "Epoch 48/200\n",
      "4/4 [==============================] - 0s 59ms/step - loss: 0.0097 - accuracy: 1.0000 - val_loss: 0.0018 - val_accuracy: 1.0000\n",
      "Epoch 49/200\n",
      "4/4 [==============================] - 0s 60ms/step - loss: 0.0124 - accuracy: 0.9977 - val_loss: 0.0015 - val_accuracy: 1.0000\n",
      "Epoch 50/200\n",
      "4/4 [==============================] - 0s 51ms/step - loss: 0.0111 - accuracy: 1.0000 - val_loss: 0.0014 - val_accuracy: 1.0000\n",
      "Epoch 51/200\n",
      "4/4 [==============================] - 0s 52ms/step - loss: 0.0088 - accuracy: 1.0000 - val_loss: 0.0016 - val_accuracy: 1.0000\n",
      "Epoch 52/200\n",
      "4/4 [==============================] - 0s 53ms/step - loss: 0.0067 - accuracy: 0.9983 - val_loss: 0.0016 - val_accuracy: 1.0000\n",
      "Epoch 53/200\n",
      "4/4 [==============================] - 0s 65ms/step - loss: 0.0077 - accuracy: 1.0000 - val_loss: 0.0014 - val_accuracy: 1.0000\n",
      "Epoch 54/200\n",
      "1/4 [======>.......................] - ETA: 0s - loss: 0.0047 - accuracy: 1.0000"
     ]
    },
    {
     "ename": "KeyboardInterrupt",
     "evalue": "",
     "output_type": "error",
     "traceback": [
      "\u001b[0;31m---------------------------------------------------------------------------\u001b[0m",
      "\u001b[0;31mKeyboardInterrupt\u001b[0m                         Traceback (most recent call last)",
      "\u001b[0;32m<ipython-input-259-83697289c539>\u001b[0m in \u001b[0;36m<module>\u001b[0;34m\u001b[0m\n\u001b[0;32m----> 1\u001b[0;31m classifier.fit(x = np.array(reshaped_dm_curve_train), y = np.array(train_set_labels), \\\n\u001b[0m\u001b[1;32m      2\u001b[0m                \u001b[0mvalidation_data\u001b[0m\u001b[0;34m=\u001b[0m\u001b[0;34m(\u001b[0m\u001b[0mnp\u001b[0m\u001b[0;34m.\u001b[0m\u001b[0marray\u001b[0m\u001b[0;34m(\u001b[0m\u001b[0mreshaped_dm_curve_validation\u001b[0m\u001b[0;34m)\u001b[0m\u001b[0;34m,\u001b[0m \u001b[0mnp\u001b[0m\u001b[0;34m.\u001b[0m\u001b[0marray\u001b[0m\u001b[0;34m(\u001b[0m\u001b[0mvalidation_set_labels\u001b[0m\u001b[0;34m)\u001b[0m\u001b[0;34m)\u001b[0m\u001b[0;34m,\u001b[0m\u001b[0;31m \u001b[0m\u001b[0;31m\\\u001b[0m\u001b[0;34m\u001b[0m\u001b[0;34m\u001b[0m\u001b[0m\n\u001b[1;32m      3\u001b[0m                batch_size=200, epochs=200, shuffle=True)\n\u001b[1;32m      4\u001b[0m \u001b[0;31m#classifier.save_weights('pulse_profile_perceptron.h5') # Save weights to avoid training in future\u001b[0m\u001b[0;34m\u001b[0m\u001b[0;34m\u001b[0m\u001b[0;34m\u001b[0m\u001b[0m\n\u001b[1;32m      5\u001b[0m \u001b[0;31m#validation_data = (dm_curve_validation, validation_set_labels)\u001b[0m\u001b[0;34m\u001b[0m\u001b[0;34m\u001b[0m\u001b[0;34m\u001b[0m\u001b[0m\n",
      "\u001b[0;32m/opt/conda/lib/python3.8/site-packages/tensorflow/python/keras/engine/training.py\u001b[0m in \u001b[0;36mfit\u001b[0;34m(self, x, y, batch_size, epochs, verbose, callbacks, validation_split, validation_data, shuffle, class_weight, sample_weight, initial_epoch, steps_per_epoch, validation_steps, validation_batch_size, validation_freq, max_queue_size, workers, use_multiprocessing)\u001b[0m\n\u001b[1;32m   1129\u001b[0m                 \u001b[0mmodel\u001b[0m\u001b[0;34m=\u001b[0m\u001b[0mself\u001b[0m\u001b[0;34m,\u001b[0m\u001b[0;34m\u001b[0m\u001b[0;34m\u001b[0m\u001b[0m\n\u001b[1;32m   1130\u001b[0m                 steps_per_execution=self._steps_per_execution)\n\u001b[0;32m-> 1131\u001b[0;31m           val_logs = self.evaluate(\n\u001b[0m\u001b[1;32m   1132\u001b[0m               \u001b[0mx\u001b[0m\u001b[0;34m=\u001b[0m\u001b[0mval_x\u001b[0m\u001b[0;34m,\u001b[0m\u001b[0;34m\u001b[0m\u001b[0;34m\u001b[0m\u001b[0m\n\u001b[1;32m   1133\u001b[0m               \u001b[0my\u001b[0m\u001b[0;34m=\u001b[0m\u001b[0mval_y\u001b[0m\u001b[0;34m,\u001b[0m\u001b[0;34m\u001b[0m\u001b[0;34m\u001b[0m\u001b[0m\n",
      "\u001b[0;32m/opt/conda/lib/python3.8/site-packages/tensorflow/python/keras/engine/training.py\u001b[0m in \u001b[0;36mevaluate\u001b[0;34m(self, x, y, batch_size, verbose, sample_weight, steps, callbacks, max_queue_size, workers, use_multiprocessing, return_dict)\u001b[0m\n\u001b[1;32m   1381\u001b[0m       \u001b[0mself\u001b[0m\u001b[0;34m.\u001b[0m\u001b[0m_test_counter\u001b[0m\u001b[0;34m.\u001b[0m\u001b[0massign\u001b[0m\u001b[0;34m(\u001b[0m\u001b[0;36m0\u001b[0m\u001b[0;34m)\u001b[0m\u001b[0;34m\u001b[0m\u001b[0;34m\u001b[0m\u001b[0m\n\u001b[1;32m   1382\u001b[0m       \u001b[0mcallbacks\u001b[0m\u001b[0;34m.\u001b[0m\u001b[0mon_test_begin\u001b[0m\u001b[0;34m(\u001b[0m\u001b[0;34m)\u001b[0m\u001b[0;34m\u001b[0m\u001b[0;34m\u001b[0m\u001b[0m\n\u001b[0;32m-> 1383\u001b[0;31m       \u001b[0;32mfor\u001b[0m \u001b[0m_\u001b[0m\u001b[0;34m,\u001b[0m \u001b[0miterator\u001b[0m \u001b[0;32min\u001b[0m \u001b[0mdata_handler\u001b[0m\u001b[0;34m.\u001b[0m\u001b[0menumerate_epochs\u001b[0m\u001b[0;34m(\u001b[0m\u001b[0;34m)\u001b[0m\u001b[0;34m:\u001b[0m  \u001b[0;31m# Single epoch.\u001b[0m\u001b[0;34m\u001b[0m\u001b[0;34m\u001b[0m\u001b[0m\n\u001b[0m\u001b[1;32m   1384\u001b[0m         \u001b[0mself\u001b[0m\u001b[0;34m.\u001b[0m\u001b[0mreset_metrics\u001b[0m\u001b[0;34m(\u001b[0m\u001b[0;34m)\u001b[0m\u001b[0;34m\u001b[0m\u001b[0;34m\u001b[0m\u001b[0m\n\u001b[1;32m   1385\u001b[0m         \u001b[0;32mwith\u001b[0m \u001b[0mdata_handler\u001b[0m\u001b[0;34m.\u001b[0m\u001b[0mcatch_stop_iteration\u001b[0m\u001b[0;34m(\u001b[0m\u001b[0;34m)\u001b[0m\u001b[0;34m:\u001b[0m\u001b[0;34m\u001b[0m\u001b[0;34m\u001b[0m\u001b[0m\n",
      "\u001b[0;32m/opt/conda/lib/python3.8/site-packages/tensorflow/python/keras/engine/data_adapter.py\u001b[0m in \u001b[0;36menumerate_epochs\u001b[0;34m(self)\u001b[0m\n\u001b[1;32m   1131\u001b[0m     \u001b[0;34m\"\"\"Yields `(epoch, tf.data.Iterator)`.\"\"\"\u001b[0m\u001b[0;34m\u001b[0m\u001b[0;34m\u001b[0m\u001b[0m\n\u001b[1;32m   1132\u001b[0m     \u001b[0;32mwith\u001b[0m \u001b[0mself\u001b[0m\u001b[0;34m.\u001b[0m\u001b[0m_truncate_execution_to_epoch\u001b[0m\u001b[0;34m(\u001b[0m\u001b[0;34m)\u001b[0m\u001b[0;34m:\u001b[0m\u001b[0;34m\u001b[0m\u001b[0;34m\u001b[0m\u001b[0m\n\u001b[0;32m-> 1133\u001b[0;31m       \u001b[0mdata_iterator\u001b[0m \u001b[0;34m=\u001b[0m \u001b[0miter\u001b[0m\u001b[0;34m(\u001b[0m\u001b[0mself\u001b[0m\u001b[0;34m.\u001b[0m\u001b[0m_dataset\u001b[0m\u001b[0;34m)\u001b[0m\u001b[0;34m\u001b[0m\u001b[0;34m\u001b[0m\u001b[0m\n\u001b[0m\u001b[1;32m   1134\u001b[0m       \u001b[0;32mfor\u001b[0m \u001b[0mepoch\u001b[0m \u001b[0;32min\u001b[0m \u001b[0mrange\u001b[0m\u001b[0;34m(\u001b[0m\u001b[0mself\u001b[0m\u001b[0;34m.\u001b[0m\u001b[0m_initial_epoch\u001b[0m\u001b[0;34m,\u001b[0m \u001b[0mself\u001b[0m\u001b[0;34m.\u001b[0m\u001b[0m_epochs\u001b[0m\u001b[0;34m)\u001b[0m\u001b[0;34m:\u001b[0m\u001b[0;34m\u001b[0m\u001b[0;34m\u001b[0m\u001b[0m\n\u001b[1;32m   1135\u001b[0m         \u001b[0;32mif\u001b[0m \u001b[0mself\u001b[0m\u001b[0;34m.\u001b[0m\u001b[0m_insufficient_data\u001b[0m\u001b[0;34m:\u001b[0m  \u001b[0;31m# Set by `catch_stop_iteration`.\u001b[0m\u001b[0;34m\u001b[0m\u001b[0;34m\u001b[0m\u001b[0m\n",
      "\u001b[0;32m/opt/conda/lib/python3.8/site-packages/tensorflow/python/data/ops/dataset_ops.py\u001b[0m in \u001b[0;36m__iter__\u001b[0;34m(self)\u001b[0m\n\u001b[1;32m    420\u001b[0m     \u001b[0;32mif\u001b[0m \u001b[0mcontext\u001b[0m\u001b[0;34m.\u001b[0m\u001b[0mexecuting_eagerly\u001b[0m\u001b[0;34m(\u001b[0m\u001b[0;34m)\u001b[0m \u001b[0;32mor\u001b[0m \u001b[0mops\u001b[0m\u001b[0;34m.\u001b[0m\u001b[0minside_function\u001b[0m\u001b[0;34m(\u001b[0m\u001b[0;34m)\u001b[0m\u001b[0;34m:\u001b[0m\u001b[0;34m\u001b[0m\u001b[0;34m\u001b[0m\u001b[0m\n\u001b[1;32m    421\u001b[0m       \u001b[0;32mwith\u001b[0m \u001b[0mops\u001b[0m\u001b[0;34m.\u001b[0m\u001b[0mcolocate_with\u001b[0m\u001b[0;34m(\u001b[0m\u001b[0mself\u001b[0m\u001b[0;34m.\u001b[0m\u001b[0m_variant_tensor\u001b[0m\u001b[0;34m)\u001b[0m\u001b[0;34m:\u001b[0m\u001b[0;34m\u001b[0m\u001b[0;34m\u001b[0m\u001b[0m\n\u001b[0;32m--> 422\u001b[0;31m         \u001b[0;32mreturn\u001b[0m \u001b[0miterator_ops\u001b[0m\u001b[0;34m.\u001b[0m\u001b[0mOwnedIterator\u001b[0m\u001b[0;34m(\u001b[0m\u001b[0mself\u001b[0m\u001b[0;34m)\u001b[0m\u001b[0;34m\u001b[0m\u001b[0;34m\u001b[0m\u001b[0m\n\u001b[0m\u001b[1;32m    423\u001b[0m     \u001b[0;32melse\u001b[0m\u001b[0;34m:\u001b[0m\u001b[0;34m\u001b[0m\u001b[0;34m\u001b[0m\u001b[0m\n\u001b[1;32m    424\u001b[0m       raise RuntimeError(\"__iter__() is only supported inside of tf.function \"\n",
      "\u001b[0;32m/opt/conda/lib/python3.8/site-packages/tensorflow/python/data/ops/iterator_ops.py\u001b[0m in \u001b[0;36m__init__\u001b[0;34m(self, dataset, components, element_spec)\u001b[0m\n\u001b[1;32m    680\u001b[0m       \u001b[0;32mif\u001b[0m \u001b[0;34m(\u001b[0m\u001b[0mcomponents\u001b[0m \u001b[0;32mis\u001b[0m \u001b[0;32mnot\u001b[0m \u001b[0;32mNone\u001b[0m \u001b[0;32mor\u001b[0m \u001b[0melement_spec\u001b[0m \u001b[0;32mis\u001b[0m \u001b[0;32mnot\u001b[0m \u001b[0;32mNone\u001b[0m\u001b[0;34m)\u001b[0m\u001b[0;34m:\u001b[0m\u001b[0;34m\u001b[0m\u001b[0;34m\u001b[0m\u001b[0m\n\u001b[1;32m    681\u001b[0m         \u001b[0;32mraise\u001b[0m \u001b[0mValueError\u001b[0m\u001b[0;34m(\u001b[0m\u001b[0merror_message\u001b[0m\u001b[0;34m)\u001b[0m\u001b[0;34m\u001b[0m\u001b[0;34m\u001b[0m\u001b[0m\n\u001b[0;32m--> 682\u001b[0;31m       \u001b[0mself\u001b[0m\u001b[0;34m.\u001b[0m\u001b[0m_create_iterator\u001b[0m\u001b[0;34m(\u001b[0m\u001b[0mdataset\u001b[0m\u001b[0;34m)\u001b[0m\u001b[0;34m\u001b[0m\u001b[0;34m\u001b[0m\u001b[0m\n\u001b[0m\u001b[1;32m    683\u001b[0m \u001b[0;34m\u001b[0m\u001b[0m\n\u001b[1;32m    684\u001b[0m   \u001b[0;32mdef\u001b[0m \u001b[0m_create_iterator\u001b[0m\u001b[0;34m(\u001b[0m\u001b[0mself\u001b[0m\u001b[0;34m,\u001b[0m \u001b[0mdataset\u001b[0m\u001b[0;34m)\u001b[0m\u001b[0;34m:\u001b[0m\u001b[0;34m\u001b[0m\u001b[0;34m\u001b[0m\u001b[0m\n",
      "\u001b[0;32m/opt/conda/lib/python3.8/site-packages/tensorflow/python/data/ops/iterator_ops.py\u001b[0m in \u001b[0;36m_create_iterator\u001b[0;34m(self, dataset)\u001b[0m\n\u001b[1;32m    703\u001b[0m               \u001b[0moutput_types\u001b[0m\u001b[0;34m=\u001b[0m\u001b[0mself\u001b[0m\u001b[0;34m.\u001b[0m\u001b[0m_flat_output_types\u001b[0m\u001b[0;34m,\u001b[0m\u001b[0;34m\u001b[0m\u001b[0;34m\u001b[0m\u001b[0m\n\u001b[1;32m    704\u001b[0m               output_shapes=self._flat_output_shapes))\n\u001b[0;32m--> 705\u001b[0;31m       \u001b[0mgen_dataset_ops\u001b[0m\u001b[0;34m.\u001b[0m\u001b[0mmake_iterator\u001b[0m\u001b[0;34m(\u001b[0m\u001b[0mds_variant\u001b[0m\u001b[0;34m,\u001b[0m \u001b[0mself\u001b[0m\u001b[0;34m.\u001b[0m\u001b[0m_iterator_resource\u001b[0m\u001b[0;34m)\u001b[0m\u001b[0;34m\u001b[0m\u001b[0;34m\u001b[0m\u001b[0m\n\u001b[0m\u001b[1;32m    706\u001b[0m       \u001b[0;31m# Delete the resource when this object is deleted\u001b[0m\u001b[0;34m\u001b[0m\u001b[0;34m\u001b[0m\u001b[0;34m\u001b[0m\u001b[0m\n\u001b[1;32m    707\u001b[0m       self._resource_deleter = IteratorResourceDeleter(\n",
      "\u001b[0;32m/opt/conda/lib/python3.8/site-packages/tensorflow/python/ops/gen_dataset_ops.py\u001b[0m in \u001b[0;36mmake_iterator\u001b[0;34m(dataset, iterator, name)\u001b[0m\n\u001b[1;32m   2969\u001b[0m   \u001b[0;32mif\u001b[0m \u001b[0mtld\u001b[0m\u001b[0;34m.\u001b[0m\u001b[0mis_eager\u001b[0m\u001b[0;34m:\u001b[0m\u001b[0;34m\u001b[0m\u001b[0;34m\u001b[0m\u001b[0m\n\u001b[1;32m   2970\u001b[0m     \u001b[0;32mtry\u001b[0m\u001b[0;34m:\u001b[0m\u001b[0;34m\u001b[0m\u001b[0;34m\u001b[0m\u001b[0m\n\u001b[0;32m-> 2971\u001b[0;31m       _result = pywrap_tfe.TFE_Py_FastPathExecute(\n\u001b[0m\u001b[1;32m   2972\u001b[0m         _ctx, \"MakeIterator\", name, dataset, iterator)\n\u001b[1;32m   2973\u001b[0m       \u001b[0;32mreturn\u001b[0m \u001b[0m_result\u001b[0m\u001b[0;34m\u001b[0m\u001b[0;34m\u001b[0m\u001b[0m\n",
      "\u001b[0;31mKeyboardInterrupt\u001b[0m: "
     ]
    }
   ],
   "source": [
    "classifier.fit(x = np.array(reshaped_dm_curve_train), y = np.array(train_set_labels), \\\n",
    "               validation_data=(np.array(reshaped_dm_curve_validation), np.array(validation_set_labels)), \\\n",
    "               batch_size=200, epochs=200, shuffle=True)\n",
    "#classifier.save_weights('pulse_profile_perceptron.h5') # Save weights to avoid training in future\n",
    "#validation_data = (dm_curve_validation, validation_set_labels)\n",
    "#dm_curve_train.shape"
   ]
  },
  {
   "cell_type": "code",
   "execution_count": 262,
   "id": "a34340ff",
   "metadata": {},
   "outputs": [
    {
     "name": "stdout",
     "output_type": "stream",
     "text": [
      "Epoch 1/400\n",
      "25/25 [==============================] - 1s 29ms/step - loss: 0.6932 - accuracy: 0.2754 - val_loss: 0.6932 - val_accuracy: 0.4550\n",
      "Epoch 2/400\n",
      "25/25 [==============================] - 0s 10ms/step - loss: 0.6932 - accuracy: 0.5264 - val_loss: 0.6932 - val_accuracy: 0.4550\n",
      "Epoch 3/400\n",
      "25/25 [==============================] - 0s 9ms/step - loss: 0.6931 - accuracy: 0.5276 - val_loss: 0.6932 - val_accuracy: 0.4550\n",
      "Epoch 4/400\n",
      "25/25 [==============================] - 0s 11ms/step - loss: 0.6931 - accuracy: 0.5562 - val_loss: 0.6932 - val_accuracy: 0.4550\n",
      "Epoch 5/400\n",
      "25/25 [==============================] - 0s 10ms/step - loss: 0.6931 - accuracy: 0.5468 - val_loss: 0.6932 - val_accuracy: 0.4550\n",
      "Epoch 6/400\n",
      "25/25 [==============================] - 0s 9ms/step - loss: 0.6931 - accuracy: 0.5102 - val_loss: 0.6932 - val_accuracy: 0.4550\n",
      "Epoch 7/400\n",
      "25/25 [==============================] - 0s 9ms/step - loss: 0.6931 - accuracy: 0.5539 - val_loss: 0.6932 - val_accuracy: 0.4550\n",
      "Epoch 8/400\n",
      "25/25 [==============================] - 0s 9ms/step - loss: 0.6931 - accuracy: 0.5283 - val_loss: 0.6932 - val_accuracy: 0.4550\n",
      "Epoch 9/400\n",
      "25/25 [==============================] - 0s 12ms/step - loss: 0.6931 - accuracy: 0.5541 - val_loss: 0.6932 - val_accuracy: 0.4550\n",
      "Epoch 10/400\n",
      "25/25 [==============================] - 0s 11ms/step - loss: 0.6931 - accuracy: 0.5201 - val_loss: 0.6932 - val_accuracy: 0.4550\n",
      "Epoch 11/400\n",
      "25/25 [==============================] - 0s 11ms/step - loss: 0.6931 - accuracy: 0.5631 - val_loss: 0.6932 - val_accuracy: 0.4550\n",
      "Epoch 12/400\n",
      "25/25 [==============================] - 0s 11ms/step - loss: 0.6931 - accuracy: 0.5364 - val_loss: 0.6932 - val_accuracy: 0.4550\n",
      "Epoch 13/400\n",
      "25/25 [==============================] - 0s 10ms/step - loss: 0.6931 - accuracy: 0.5278 - val_loss: 0.6932 - val_accuracy: 0.4550\n",
      "Epoch 14/400\n",
      "25/25 [==============================] - 0s 11ms/step - loss: 0.6931 - accuracy: 0.5473 - val_loss: 0.6932 - val_accuracy: 0.4550\n",
      "Epoch 15/400\n",
      "25/25 [==============================] - 0s 9ms/step - loss: 0.6931 - accuracy: 0.4931 - val_loss: 0.6932 - val_accuracy: 0.4550\n",
      "Epoch 16/400\n",
      "25/25 [==============================] - 0s 10ms/step - loss: 0.6931 - accuracy: 0.5515 - val_loss: 0.6931 - val_accuracy: 0.4550\n",
      "Epoch 17/400\n",
      "25/25 [==============================] - 0s 10ms/step - loss: 0.6931 - accuracy: 0.5364 - val_loss: 0.6931 - val_accuracy: 0.4550\n",
      "Epoch 18/400\n",
      "25/25 [==============================] - 0s 9ms/step - loss: 0.6931 - accuracy: 0.5504 - val_loss: 0.6931 - val_accuracy: 0.4550\n",
      "Epoch 19/400\n",
      "25/25 [==============================] - 0s 11ms/step - loss: 0.6931 - accuracy: 0.5264 - val_loss: 0.6931 - val_accuracy: 0.4550\n",
      "Epoch 20/400\n",
      "25/25 [==============================] - 0s 10ms/step - loss: 0.6931 - accuracy: 0.5436 - val_loss: 0.6931 - val_accuracy: 0.4550\n",
      "Epoch 21/400\n",
      "25/25 [==============================] - 0s 9ms/step - loss: 0.6931 - accuracy: 0.5422 - val_loss: 0.6931 - val_accuracy: 0.4550\n",
      "Epoch 22/400\n",
      "25/25 [==============================] - 0s 9ms/step - loss: 0.6931 - accuracy: 0.5114 - val_loss: 0.6931 - val_accuracy: 0.4550\n",
      "Epoch 23/400\n",
      "25/25 [==============================] - 0s 9ms/step - loss: 0.6931 - accuracy: 0.5309 - val_loss: 0.6931 - val_accuracy: 0.4550\n",
      "Epoch 24/400\n",
      "25/25 [==============================] - 0s 9ms/step - loss: 0.6931 - accuracy: 0.5327 - val_loss: 0.6931 - val_accuracy: 0.4550\n",
      "Epoch 25/400\n",
      "25/25 [==============================] - 0s 9ms/step - loss: 0.6930 - accuracy: 0.5429 - val_loss: 0.6931 - val_accuracy: 0.4550\n",
      "Epoch 26/400\n",
      "25/25 [==============================] - 0s 9ms/step - loss: 0.6930 - accuracy: 0.5496 - val_loss: 0.6931 - val_accuracy: 0.4550\n",
      "Epoch 27/400\n",
      "25/25 [==============================] - 0s 9ms/step - loss: 0.6930 - accuracy: 0.5463 - val_loss: 0.6931 - val_accuracy: 0.4550\n",
      "Epoch 28/400\n",
      "25/25 [==============================] - 0s 10ms/step - loss: 0.6930 - accuracy: 0.5411 - val_loss: 0.6931 - val_accuracy: 0.4550\n",
      "Epoch 29/400\n",
      "25/25 [==============================] - 0s 6ms/step - loss: 0.6930 - accuracy: 0.5339 - val_loss: 0.6931 - val_accuracy: 0.4550\n",
      "Epoch 30/400\n",
      "25/25 [==============================] - 0s 7ms/step - loss: 0.6930 - accuracy: 0.5358 - val_loss: 0.6931 - val_accuracy: 0.4550\n",
      "Epoch 31/400\n",
      "25/25 [==============================] - 0s 9ms/step - loss: 0.6930 - accuracy: 0.5279 - val_loss: 0.6931 - val_accuracy: 0.4550\n",
      "Epoch 32/400\n",
      "25/25 [==============================] - 0s 6ms/step - loss: 0.6930 - accuracy: 0.5274 - val_loss: 0.6931 - val_accuracy: 0.4550\n",
      "Epoch 33/400\n",
      "25/25 [==============================] - 0s 9ms/step - loss: 0.6930 - accuracy: 0.5269 - val_loss: 0.6931 - val_accuracy: 0.4550\n",
      "Epoch 34/400\n",
      "25/25 [==============================] - 0s 9ms/step - loss: 0.6930 - accuracy: 0.5280 - val_loss: 0.6931 - val_accuracy: 0.4550\n",
      "Epoch 35/400\n",
      "25/25 [==============================] - 0s 9ms/step - loss: 0.6929 - accuracy: 0.5421 - val_loss: 0.6931 - val_accuracy: 0.4550\n",
      "Epoch 36/400\n",
      "25/25 [==============================] - 0s 9ms/step - loss: 0.6929 - accuracy: 0.5342 - val_loss: 0.6931 - val_accuracy: 0.4550\n",
      "Epoch 37/400\n",
      "25/25 [==============================] - 0s 9ms/step - loss: 0.6929 - accuracy: 0.5395 - val_loss: 0.6930 - val_accuracy: 0.4550\n",
      "Epoch 38/400\n",
      "25/25 [==============================] - 0s 9ms/step - loss: 0.6929 - accuracy: 0.5423 - val_loss: 0.6930 - val_accuracy: 0.4550\n",
      "Epoch 39/400\n",
      "25/25 [==============================] - 0s 8ms/step - loss: 0.6929 - accuracy: 0.5428 - val_loss: 0.6930 - val_accuracy: 0.4550\n",
      "Epoch 40/400\n",
      "25/25 [==============================] - 0s 8ms/step - loss: 0.6929 - accuracy: 0.5335 - val_loss: 0.6930 - val_accuracy: 0.4550\n",
      "Epoch 41/400\n",
      "25/25 [==============================] - 0s 8ms/step - loss: 0.6929 - accuracy: 0.5374 - val_loss: 0.6930 - val_accuracy: 0.4550\n",
      "Epoch 42/400\n",
      "25/25 [==============================] - 0s 7ms/step - loss: 0.6928 - accuracy: 0.5382 - val_loss: 0.6930 - val_accuracy: 0.4550\n",
      "Epoch 43/400\n",
      "25/25 [==============================] - 0s 8ms/step - loss: 0.6928 - accuracy: 0.5295 - val_loss: 0.6930 - val_accuracy: 0.4550\n",
      "Epoch 44/400\n",
      "25/25 [==============================] - 0s 8ms/step - loss: 0.6928 - accuracy: 0.5117 - val_loss: 0.6929 - val_accuracy: 0.4550\n",
      "Epoch 45/400\n",
      "25/25 [==============================] - 0s 9ms/step - loss: 0.6927 - accuracy: 0.5594 - val_loss: 0.6929 - val_accuracy: 0.4550\n",
      "Epoch 46/400\n",
      "25/25 [==============================] - 0s 11ms/step - loss: 0.6928 - accuracy: 0.5116 - val_loss: 0.6929 - val_accuracy: 0.4550\n",
      "Epoch 47/400\n",
      "25/25 [==============================] - 0s 7ms/step - loss: 0.6927 - accuracy: 0.5307 - val_loss: 0.6929 - val_accuracy: 0.4550\n",
      "Epoch 48/400\n",
      "25/25 [==============================] - 0s 8ms/step - loss: 0.6927 - accuracy: 0.5310 - val_loss: 0.6929 - val_accuracy: 0.4550\n",
      "Epoch 49/400\n",
      "25/25 [==============================] - 0s 8ms/step - loss: 0.6926 - accuracy: 0.5582 - val_loss: 0.6928 - val_accuracy: 0.4550\n",
      "Epoch 50/400\n",
      "25/25 [==============================] - 0s 8ms/step - loss: 0.6927 - accuracy: 0.5374 - val_loss: 0.6928 - val_accuracy: 0.4550\n",
      "Epoch 51/400\n",
      "25/25 [==============================] - 0s 9ms/step - loss: 0.6927 - accuracy: 0.5091 - val_loss: 0.6928 - val_accuracy: 0.4550\n",
      "Epoch 52/400\n",
      "25/25 [==============================] - 0s 8ms/step - loss: 0.6926 - accuracy: 0.5441 - val_loss: 0.6928 - val_accuracy: 0.4550\n",
      "Epoch 53/400\n",
      "25/25 [==============================] - 0s 8ms/step - loss: 0.6926 - accuracy: 0.5269 - val_loss: 0.6927 - val_accuracy: 0.4550\n",
      "Epoch 54/400\n",
      "25/25 [==============================] - 0s 9ms/step - loss: 0.6925 - accuracy: 0.5603 - val_loss: 0.6927 - val_accuracy: 0.4550\n",
      "Epoch 55/400\n",
      "25/25 [==============================] - 0s 11ms/step - loss: 0.6925 - accuracy: 0.5314 - val_loss: 0.6927 - val_accuracy: 0.4550\n",
      "Epoch 56/400\n",
      "25/25 [==============================] - 0s 14ms/step - loss: 0.6925 - accuracy: 0.5377 - val_loss: 0.6927 - val_accuracy: 0.4600\n",
      "Epoch 57/400\n",
      "25/25 [==============================] - 0s 14ms/step - loss: 0.6925 - accuracy: 0.5307 - val_loss: 0.6926 - val_accuracy: 0.4750\n",
      "Epoch 58/400\n",
      "25/25 [==============================] - 0s 10ms/step - loss: 0.6925 - accuracy: 0.5292 - val_loss: 0.6926 - val_accuracy: 0.4900\n",
      "Epoch 59/400\n",
      "25/25 [==============================] - 0s 8ms/step - loss: 0.6923 - accuracy: 0.5741 - val_loss: 0.6926 - val_accuracy: 0.5100\n",
      "Epoch 60/400\n",
      "25/25 [==============================] - 0s 8ms/step - loss: 0.6924 - accuracy: 0.5806 - val_loss: 0.6925 - val_accuracy: 0.5200\n",
      "Epoch 61/400\n",
      "25/25 [==============================] - 0s 8ms/step - loss: 0.6923 - accuracy: 0.6103 - val_loss: 0.6925 - val_accuracy: 0.5500\n",
      "Epoch 62/400\n",
      "25/25 [==============================] - 0s 8ms/step - loss: 0.6922 - accuracy: 0.6513 - val_loss: 0.6924 - val_accuracy: 0.5850\n",
      "Epoch 63/400\n",
      "25/25 [==============================] - 0s 8ms/step - loss: 0.6922 - accuracy: 0.6401 - val_loss: 0.6924 - val_accuracy: 0.6150\n",
      "Epoch 64/400\n",
      "25/25 [==============================] - 0s 9ms/step - loss: 0.6922 - accuracy: 0.6630 - val_loss: 0.6924 - val_accuracy: 0.6650\n",
      "Epoch 65/400\n",
      "25/25 [==============================] - 0s 8ms/step - loss: 0.6922 - accuracy: 0.7082 - val_loss: 0.6923 - val_accuracy: 0.6900\n",
      "Epoch 66/400\n",
      "25/25 [==============================] - 0s 9ms/step - loss: 0.6920 - accuracy: 0.7471 - val_loss: 0.6923 - val_accuracy: 0.7200\n",
      "Epoch 67/400\n",
      "25/25 [==============================] - 0s 8ms/step - loss: 0.6920 - accuracy: 0.7816 - val_loss: 0.6922 - val_accuracy: 0.7250\n",
      "Epoch 68/400\n",
      "25/25 [==============================] - 0s 9ms/step - loss: 0.6919 - accuracy: 0.7934 - val_loss: 0.6922 - val_accuracy: 0.7500\n",
      "Epoch 69/400\n",
      "25/25 [==============================] - 0s 9ms/step - loss: 0.6920 - accuracy: 0.8068 - val_loss: 0.6921 - val_accuracy: 0.7700\n",
      "Epoch 70/400\n",
      "25/25 [==============================] - 0s 8ms/step - loss: 0.6919 - accuracy: 0.8282 - val_loss: 0.6921 - val_accuracy: 0.7850\n",
      "Epoch 71/400\n",
      "25/25 [==============================] - 0s 8ms/step - loss: 0.6918 - accuracy: 0.8347 - val_loss: 0.6920 - val_accuracy: 0.7950\n",
      "Epoch 72/400\n",
      "25/25 [==============================] - 0s 8ms/step - loss: 0.6918 - accuracy: 0.8319 - val_loss: 0.6919 - val_accuracy: 0.8050\n",
      "Epoch 73/400\n",
      "25/25 [==============================] - 0s 9ms/step - loss: 0.6917 - accuracy: 0.8417 - val_loss: 0.6919 - val_accuracy: 0.8200\n",
      "Epoch 74/400\n",
      "25/25 [==============================] - 0s 9ms/step - loss: 0.6917 - accuracy: 0.8528 - val_loss: 0.6918 - val_accuracy: 0.8250\n",
      "Epoch 75/400\n",
      "25/25 [==============================] - 0s 10ms/step - loss: 0.6915 - accuracy: 0.8760 - val_loss: 0.6918 - val_accuracy: 0.8300\n",
      "Epoch 76/400\n",
      "25/25 [==============================] - 0s 9ms/step - loss: 0.6914 - accuracy: 0.8838 - val_loss: 0.6917 - val_accuracy: 0.8300\n",
      "Epoch 77/400\n",
      "25/25 [==============================] - 0s 9ms/step - loss: 0.6914 - accuracy: 0.8721 - val_loss: 0.6916 - val_accuracy: 0.8300\n",
      "Epoch 78/400\n",
      "25/25 [==============================] - 0s 9ms/step - loss: 0.6912 - accuracy: 0.9025 - val_loss: 0.6916 - val_accuracy: 0.8350\n",
      "Epoch 79/400\n",
      "25/25 [==============================] - 0s 9ms/step - loss: 0.6913 - accuracy: 0.8670 - val_loss: 0.6915 - val_accuracy: 0.8400\n",
      "Epoch 80/400\n",
      "25/25 [==============================] - 0s 8ms/step - loss: 0.6912 - accuracy: 0.8748 - val_loss: 0.6914 - val_accuracy: 0.8400\n",
      "Epoch 81/400\n",
      "25/25 [==============================] - 0s 8ms/step - loss: 0.6911 - accuracy: 0.8727 - val_loss: 0.6913 - val_accuracy: 0.8450\n",
      "Epoch 82/400\n",
      "25/25 [==============================] - 0s 9ms/step - loss: 0.6910 - accuracy: 0.8730 - val_loss: 0.6912 - val_accuracy: 0.8450\n",
      "Epoch 83/400\n",
      "25/25 [==============================] - 0s 8ms/step - loss: 0.6909 - accuracy: 0.9005 - val_loss: 0.6912 - val_accuracy: 0.8500\n",
      "Epoch 84/400\n",
      "25/25 [==============================] - 0s 9ms/step - loss: 0.6909 - accuracy: 0.8632 - val_loss: 0.6911 - val_accuracy: 0.8600\n",
      "Epoch 85/400\n",
      "25/25 [==============================] - 0s 8ms/step - loss: 0.6908 - accuracy: 0.8720 - val_loss: 0.6910 - val_accuracy: 0.8600\n",
      "Epoch 86/400\n",
      "25/25 [==============================] - 0s 9ms/step - loss: 0.6907 - accuracy: 0.8762 - val_loss: 0.6909 - val_accuracy: 0.8600\n",
      "Epoch 87/400\n",
      "25/25 [==============================] - 0s 9ms/step - loss: 0.6907 - accuracy: 0.8793 - val_loss: 0.6908 - val_accuracy: 0.8650\n",
      "Epoch 88/400\n",
      "25/25 [==============================] - 0s 9ms/step - loss: 0.6906 - accuracy: 0.8732 - val_loss: 0.6907 - val_accuracy: 0.8700\n",
      "Epoch 89/400\n",
      "25/25 [==============================] - 0s 9ms/step - loss: 0.6903 - accuracy: 0.8948 - val_loss: 0.6906 - val_accuracy: 0.8700\n",
      "Epoch 90/400\n",
      "25/25 [==============================] - 0s 8ms/step - loss: 0.6902 - accuracy: 0.9074 - val_loss: 0.6905 - val_accuracy: 0.8700\n",
      "Epoch 91/400\n",
      "25/25 [==============================] - 0s 8ms/step - loss: 0.6901 - accuracy: 0.8929 - val_loss: 0.6904 - val_accuracy: 0.8700\n",
      "Epoch 92/400\n",
      "25/25 [==============================] - 0s 10ms/step - loss: 0.6900 - accuracy: 0.9043 - val_loss: 0.6903 - val_accuracy: 0.8700\n",
      "Epoch 93/400\n",
      "25/25 [==============================] - 0s 8ms/step - loss: 0.6899 - accuracy: 0.8869 - val_loss: 0.6902 - val_accuracy: 0.8700\n",
      "Epoch 94/400\n",
      "25/25 [==============================] - 0s 8ms/step - loss: 0.6899 - accuracy: 0.8880 - val_loss: 0.6901 - val_accuracy: 0.8750\n",
      "Epoch 95/400\n",
      "25/25 [==============================] - 0s 9ms/step - loss: 0.6897 - accuracy: 0.9027 - val_loss: 0.6900 - val_accuracy: 0.8750\n",
      "Epoch 96/400\n",
      "25/25 [==============================] - 0s 8ms/step - loss: 0.6897 - accuracy: 0.8936 - val_loss: 0.6898 - val_accuracy: 0.8750\n",
      "Epoch 97/400\n",
      "25/25 [==============================] - 0s 8ms/step - loss: 0.6896 - accuracy: 0.8987 - val_loss: 0.6897 - val_accuracy: 0.8750\n",
      "Epoch 98/400\n",
      "25/25 [==============================] - 0s 6ms/step - loss: 0.6895 - accuracy: 0.8818 - val_loss: 0.6896 - val_accuracy: 0.8750\n",
      "Epoch 99/400\n",
      "25/25 [==============================] - 0s 7ms/step - loss: 0.6893 - accuracy: 0.8969 - val_loss: 0.6895 - val_accuracy: 0.8750\n",
      "Epoch 100/400\n",
      "25/25 [==============================] - 0s 8ms/step - loss: 0.6890 - accuracy: 0.9104 - val_loss: 0.6893 - val_accuracy: 0.8800\n",
      "Epoch 101/400\n",
      "25/25 [==============================] - 0s 9ms/step - loss: 0.6890 - accuracy: 0.9098 - val_loss: 0.6892 - val_accuracy: 0.8850\n",
      "Epoch 102/400\n",
      "25/25 [==============================] - 0s 9ms/step - loss: 0.6888 - accuracy: 0.9163 - val_loss: 0.6891 - val_accuracy: 0.8850\n",
      "Epoch 103/400\n",
      "25/25 [==============================] - 0s 8ms/step - loss: 0.6888 - accuracy: 0.9037 - val_loss: 0.6889 - val_accuracy: 0.8850\n",
      "Epoch 104/400\n",
      "25/25 [==============================] - 0s 10ms/step - loss: 0.6886 - accuracy: 0.9067 - val_loss: 0.6888 - val_accuracy: 0.8850\n",
      "Epoch 105/400\n",
      "25/25 [==============================] - 0s 7ms/step - loss: 0.6886 - accuracy: 0.8912 - val_loss: 0.6886 - val_accuracy: 0.8900\n",
      "Epoch 106/400\n",
      "25/25 [==============================] - 0s 9ms/step - loss: 0.6884 - accuracy: 0.8906 - val_loss: 0.6885 - val_accuracy: 0.8900\n",
      "Epoch 107/400\n",
      "25/25 [==============================] - 0s 6ms/step - loss: 0.6882 - accuracy: 0.9081 - val_loss: 0.6883 - val_accuracy: 0.8900\n",
      "Epoch 108/400\n",
      "25/25 [==============================] - 0s 9ms/step - loss: 0.6881 - accuracy: 0.9024 - val_loss: 0.6882 - val_accuracy: 0.8900\n",
      "Epoch 109/400\n",
      "25/25 [==============================] - 0s 7ms/step - loss: 0.6880 - accuracy: 0.8979 - val_loss: 0.6880 - val_accuracy: 0.8900\n",
      "Epoch 110/400\n",
      "25/25 [==============================] - 0s 9ms/step - loss: 0.6876 - accuracy: 0.9157 - val_loss: 0.6879 - val_accuracy: 0.8900\n",
      "Epoch 111/400\n",
      "25/25 [==============================] - 0s 9ms/step - loss: 0.6875 - accuracy: 0.9147 - val_loss: 0.6877 - val_accuracy: 0.8900\n",
      "Epoch 112/400\n",
      "25/25 [==============================] - 0s 9ms/step - loss: 0.6874 - accuracy: 0.9045 - val_loss: 0.6875 - val_accuracy: 0.8900\n",
      "Epoch 113/400\n",
      "25/25 [==============================] - 0s 10ms/step - loss: 0.6873 - accuracy: 0.9006 - val_loss: 0.6874 - val_accuracy: 0.8900\n",
      "Epoch 114/400\n",
      "25/25 [==============================] - 1s 25ms/step - loss: 0.6868 - accuracy: 0.9266 - val_loss: 0.6872 - val_accuracy: 0.8900\n",
      "Epoch 115/400\n"
     ]
    },
    {
     "name": "stdout",
     "output_type": "stream",
     "text": [
      "25/25 [==============================] - 0s 10ms/step - loss: 0.6869 - accuracy: 0.9041 - val_loss: 0.6870 - val_accuracy: 0.8900\n",
      "Epoch 116/400\n",
      "25/25 [==============================] - 0s 9ms/step - loss: 0.6866 - accuracy: 0.9188 - val_loss: 0.6868 - val_accuracy: 0.8950\n",
      "Epoch 117/400\n",
      "25/25 [==============================] - 0s 9ms/step - loss: 0.6864 - accuracy: 0.9098 - val_loss: 0.6866 - val_accuracy: 0.8950\n",
      "Epoch 118/400\n",
      "25/25 [==============================] - 0s 10ms/step - loss: 0.6864 - accuracy: 0.9110 - val_loss: 0.6864 - val_accuracy: 0.8950\n",
      "Epoch 119/400\n",
      "25/25 [==============================] - 0s 9ms/step - loss: 0.6861 - accuracy: 0.9188 - val_loss: 0.6862 - val_accuracy: 0.8950\n",
      "Epoch 120/400\n",
      "25/25 [==============================] - 0s 9ms/step - loss: 0.6860 - accuracy: 0.9159 - val_loss: 0.6860 - val_accuracy: 0.8950\n",
      "Epoch 121/400\n",
      "25/25 [==============================] - 0s 9ms/step - loss: 0.6858 - accuracy: 0.9132 - val_loss: 0.6858 - val_accuracy: 0.8950\n",
      "Epoch 122/400\n",
      "25/25 [==============================] - 0s 8ms/step - loss: 0.6855 - accuracy: 0.9213 - val_loss: 0.6856 - val_accuracy: 0.8950\n",
      "Epoch 123/400\n",
      "25/25 [==============================] - 0s 9ms/step - loss: 0.6851 - accuracy: 0.9305 - val_loss: 0.6854 - val_accuracy: 0.9000\n",
      "Epoch 124/400\n",
      "25/25 [==============================] - 0s 10ms/step - loss: 0.6850 - accuracy: 0.9191 - val_loss: 0.6852 - val_accuracy: 0.9000\n",
      "Epoch 125/400\n",
      "25/25 [==============================] - 0s 9ms/step - loss: 0.6846 - accuracy: 0.9297 - val_loss: 0.6850 - val_accuracy: 0.9000\n",
      "Epoch 126/400\n",
      "25/25 [==============================] - 0s 11ms/step - loss: 0.6845 - accuracy: 0.9289 - val_loss: 0.6847 - val_accuracy: 0.9000\n",
      "Epoch 127/400\n",
      "25/25 [==============================] - 0s 9ms/step - loss: 0.6842 - accuracy: 0.9324 - val_loss: 0.6845 - val_accuracy: 0.9000\n",
      "Epoch 128/400\n",
      "25/25 [==============================] - 0s 10ms/step - loss: 0.6840 - accuracy: 0.9218 - val_loss: 0.6843 - val_accuracy: 0.9000\n",
      "Epoch 129/400\n",
      "25/25 [==============================] - 0s 13ms/step - loss: 0.6841 - accuracy: 0.9166 - val_loss: 0.6840 - val_accuracy: 0.9000\n",
      "Epoch 130/400\n",
      "25/25 [==============================] - 0s 9ms/step - loss: 0.6836 - accuracy: 0.9305 - val_loss: 0.6838 - val_accuracy: 0.9000\n",
      "Epoch 131/400\n",
      "25/25 [==============================] - 0s 10ms/step - loss: 0.6832 - accuracy: 0.9319 - val_loss: 0.6835 - val_accuracy: 0.9000\n",
      "Epoch 132/400\n",
      "25/25 [==============================] - 0s 11ms/step - loss: 0.6831 - accuracy: 0.9259 - val_loss: 0.6833 - val_accuracy: 0.9000\n",
      "Epoch 133/400\n",
      "25/25 [==============================] - 0s 9ms/step - loss: 0.6829 - accuracy: 0.9355 - val_loss: 0.6830 - val_accuracy: 0.9050\n",
      "Epoch 134/400\n",
      "25/25 [==============================] - 0s 11ms/step - loss: 0.6827 - accuracy: 0.9339 - val_loss: 0.6828 - val_accuracy: 0.9050\n",
      "Epoch 135/400\n",
      "25/25 [==============================] - 0s 12ms/step - loss: 0.6823 - accuracy: 0.9305 - val_loss: 0.6825 - val_accuracy: 0.9050\n",
      "Epoch 136/400\n",
      "25/25 [==============================] - 0s 13ms/step - loss: 0.6821 - accuracy: 0.9279 - val_loss: 0.6822 - val_accuracy: 0.9050\n",
      "Epoch 137/400\n",
      "25/25 [==============================] - 0s 11ms/step - loss: 0.6816 - accuracy: 0.9303 - val_loss: 0.6820 - val_accuracy: 0.9050\n",
      "Epoch 138/400\n",
      "25/25 [==============================] - 0s 9ms/step - loss: 0.6813 - accuracy: 0.9425 - val_loss: 0.6817 - val_accuracy: 0.9050\n",
      "Epoch 139/400\n",
      "25/25 [==============================] - 0s 9ms/step - loss: 0.6815 - accuracy: 0.9245 - val_loss: 0.6814 - val_accuracy: 0.9050\n",
      "Epoch 140/400\n",
      "25/25 [==============================] - 0s 11ms/step - loss: 0.6812 - accuracy: 0.9210 - val_loss: 0.6811 - val_accuracy: 0.9100\n",
      "Epoch 141/400\n",
      "25/25 [==============================] - 0s 10ms/step - loss: 0.6809 - accuracy: 0.9259 - val_loss: 0.6808 - val_accuracy: 0.9100\n",
      "Epoch 142/400\n",
      "25/25 [==============================] - 0s 10ms/step - loss: 0.6809 - accuracy: 0.9229 - val_loss: 0.6805 - val_accuracy: 0.9100\n",
      "Epoch 143/400\n",
      "25/25 [==============================] - 0s 9ms/step - loss: 0.6801 - accuracy: 0.9351 - val_loss: 0.6802 - val_accuracy: 0.9100\n",
      "Epoch 144/400\n",
      "25/25 [==============================] - 0s 9ms/step - loss: 0.6798 - accuracy: 0.9264 - val_loss: 0.6799 - val_accuracy: 0.9100\n",
      "Epoch 145/400\n",
      "25/25 [==============================] - 0s 9ms/step - loss: 0.6798 - accuracy: 0.9292 - val_loss: 0.6796 - val_accuracy: 0.9100\n",
      "Epoch 146/400\n",
      "25/25 [==============================] - 0s 9ms/step - loss: 0.6793 - accuracy: 0.9344 - val_loss: 0.6793 - val_accuracy: 0.9100\n",
      "Epoch 147/400\n",
      "25/25 [==============================] - 0s 9ms/step - loss: 0.6788 - accuracy: 0.9367 - val_loss: 0.6790 - val_accuracy: 0.9100\n",
      "Epoch 148/400\n",
      "25/25 [==============================] - 0s 8ms/step - loss: 0.6784 - accuracy: 0.9447 - val_loss: 0.6786 - val_accuracy: 0.9100\n",
      "Epoch 149/400\n",
      "25/25 [==============================] - 0s 9ms/step - loss: 0.6778 - accuracy: 0.9481 - val_loss: 0.6783 - val_accuracy: 0.9100\n",
      "Epoch 150/400\n",
      "25/25 [==============================] - 1s 21ms/step - loss: 0.6777 - accuracy: 0.9372 - val_loss: 0.6780 - val_accuracy: 0.9100\n",
      "Epoch 151/400\n",
      "25/25 [==============================] - 0s 12ms/step - loss: 0.6776 - accuracy: 0.9346 - val_loss: 0.6776 - val_accuracy: 0.9100\n",
      "Epoch 152/400\n",
      "25/25 [==============================] - 1s 21ms/step - loss: 0.6773 - accuracy: 0.9365 - val_loss: 0.6773 - val_accuracy: 0.9100\n",
      "Epoch 153/400\n",
      "25/25 [==============================] - 0s 16ms/step - loss: 0.6776 - accuracy: 0.9140 - val_loss: 0.6769 - val_accuracy: 0.9100\n",
      "Epoch 154/400\n",
      "25/25 [==============================] - 1s 23ms/step - loss: 0.6771 - accuracy: 0.9311 - val_loss: 0.6766 - val_accuracy: 0.9100\n",
      "Epoch 155/400\n",
      "25/25 [==============================] - 1s 22ms/step - loss: 0.6767 - accuracy: 0.9254 - val_loss: 0.6762 - val_accuracy: 0.9100\n",
      "Epoch 156/400\n",
      "25/25 [==============================] - 1s 20ms/step - loss: 0.6760 - accuracy: 0.9292 - val_loss: 0.6758 - val_accuracy: 0.9100\n",
      "Epoch 157/400\n",
      "25/25 [==============================] - 0s 16ms/step - loss: 0.6761 - accuracy: 0.9320 - val_loss: 0.6755 - val_accuracy: 0.9100\n",
      "Epoch 158/400\n",
      "25/25 [==============================] - 0s 9ms/step - loss: 0.6751 - accuracy: 0.9334 - val_loss: 0.6751 - val_accuracy: 0.9100\n",
      "Epoch 159/400\n",
      "25/25 [==============================] - 0s 8ms/step - loss: 0.6744 - accuracy: 0.9426 - val_loss: 0.6747 - val_accuracy: 0.9100\n",
      "Epoch 160/400\n",
      "25/25 [==============================] - 0s 9ms/step - loss: 0.6747 - accuracy: 0.9344 - val_loss: 0.6743 - val_accuracy: 0.9100\n",
      "Epoch 161/400\n",
      "25/25 [==============================] - 0s 9ms/step - loss: 0.6743 - accuracy: 0.9336 - val_loss: 0.6739 - val_accuracy: 0.9100\n",
      "Epoch 162/400\n",
      "25/25 [==============================] - 0s 7ms/step - loss: 0.6735 - accuracy: 0.9463 - val_loss: 0.6735 - val_accuracy: 0.9100\n",
      "Epoch 163/400\n",
      "25/25 [==============================] - 0s 8ms/step - loss: 0.6731 - accuracy: 0.9478 - val_loss: 0.6731 - val_accuracy: 0.9100\n",
      "Epoch 164/400\n",
      "25/25 [==============================] - 0s 10ms/step - loss: 0.6729 - accuracy: 0.9274 - val_loss: 0.6727 - val_accuracy: 0.9100\n",
      "Epoch 165/400\n",
      "25/25 [==============================] - 0s 11ms/step - loss: 0.6718 - accuracy: 0.9523 - val_loss: 0.6723 - val_accuracy: 0.9100\n",
      "Epoch 166/400\n",
      "25/25 [==============================] - 0s 7ms/step - loss: 0.6720 - accuracy: 0.9418 - val_loss: 0.6719 - val_accuracy: 0.9100\n",
      "Epoch 167/400\n",
      "25/25 [==============================] - 0s 9ms/step - loss: 0.6719 - accuracy: 0.9515 - val_loss: 0.6715 - val_accuracy: 0.9100\n",
      "Epoch 168/400\n",
      "25/25 [==============================] - 0s 9ms/step - loss: 0.6708 - accuracy: 0.9426 - val_loss: 0.6710 - val_accuracy: 0.9100\n",
      "Epoch 169/400\n",
      "25/25 [==============================] - 0s 8ms/step - loss: 0.6706 - accuracy: 0.9444 - val_loss: 0.6706 - val_accuracy: 0.9100\n",
      "Epoch 170/400\n",
      "25/25 [==============================] - 0s 9ms/step - loss: 0.6708 - accuracy: 0.9331 - val_loss: 0.6702 - val_accuracy: 0.9100\n",
      "Epoch 171/400\n",
      "25/25 [==============================] - 0s 9ms/step - loss: 0.6696 - accuracy: 0.9461 - val_loss: 0.6697 - val_accuracy: 0.9100\n",
      "Epoch 172/400\n",
      "25/25 [==============================] - 0s 8ms/step - loss: 0.6698 - accuracy: 0.9266 - val_loss: 0.6693 - val_accuracy: 0.9100\n",
      "Epoch 173/400\n",
      "25/25 [==============================] - 0s 8ms/step - loss: 0.6687 - accuracy: 0.9447 - val_loss: 0.6688 - val_accuracy: 0.9100\n",
      "Epoch 174/400\n",
      "25/25 [==============================] - 0s 9ms/step - loss: 0.6689 - accuracy: 0.9371 - val_loss: 0.6683 - val_accuracy: 0.9100\n",
      "Epoch 175/400\n",
      "25/25 [==============================] - 0s 8ms/step - loss: 0.6690 - accuracy: 0.9414 - val_loss: 0.6679 - val_accuracy: 0.9100\n",
      "Epoch 176/400\n",
      "25/25 [==============================] - 0s 9ms/step - loss: 0.6675 - accuracy: 0.9416 - val_loss: 0.6674 - val_accuracy: 0.9100\n",
      "Epoch 177/400\n",
      "25/25 [==============================] - 0s 8ms/step - loss: 0.6682 - accuracy: 0.9194 - val_loss: 0.6669 - val_accuracy: 0.9100\n",
      "Epoch 178/400\n",
      "25/25 [==============================] - 0s 7ms/step - loss: 0.6676 - accuracy: 0.9276 - val_loss: 0.6664 - val_accuracy: 0.9100\n",
      "Epoch 179/400\n",
      "25/25 [==============================] - 0s 8ms/step - loss: 0.6668 - accuracy: 0.9412 - val_loss: 0.6659 - val_accuracy: 0.9100\n",
      "Epoch 180/400\n",
      "25/25 [==============================] - 0s 10ms/step - loss: 0.6654 - accuracy: 0.9481 - val_loss: 0.6655 - val_accuracy: 0.9100\n",
      "Epoch 181/400\n",
      "25/25 [==============================] - 0s 9ms/step - loss: 0.6659 - accuracy: 0.9312 - val_loss: 0.6649 - val_accuracy: 0.9100\n",
      "Epoch 182/400\n",
      "25/25 [==============================] - 0s 9ms/step - loss: 0.6640 - accuracy: 0.9484 - val_loss: 0.6644 - val_accuracy: 0.9100\n",
      "Epoch 183/400\n",
      "25/25 [==============================] - 0s 10ms/step - loss: 0.6651 - accuracy: 0.9314 - val_loss: 0.6639 - val_accuracy: 0.9100\n",
      "Epoch 184/400\n",
      "25/25 [==============================] - 0s 9ms/step - loss: 0.6636 - accuracy: 0.9384 - val_loss: 0.6634 - val_accuracy: 0.9100\n",
      "Epoch 185/400\n",
      "25/25 [==============================] - 0s 8ms/step - loss: 0.6632 - accuracy: 0.9426 - val_loss: 0.6629 - val_accuracy: 0.9100\n",
      "Epoch 186/400\n",
      "25/25 [==============================] - 0s 9ms/step - loss: 0.6629 - accuracy: 0.9476 - val_loss: 0.6624 - val_accuracy: 0.9100\n",
      "Epoch 187/400\n",
      "25/25 [==============================] - 0s 8ms/step - loss: 0.6623 - accuracy: 0.9306 - val_loss: 0.6618 - val_accuracy: 0.9100\n",
      "Epoch 188/400\n",
      "25/25 [==============================] - 0s 9ms/step - loss: 0.6621 - accuracy: 0.9356 - val_loss: 0.6613 - val_accuracy: 0.9100\n",
      "Epoch 189/400\n",
      "25/25 [==============================] - 0s 9ms/step - loss: 0.6619 - accuracy: 0.9345 - val_loss: 0.6608 - val_accuracy: 0.9100\n",
      "Epoch 190/400\n",
      "25/25 [==============================] - 0s 14ms/step - loss: 0.6606 - accuracy: 0.9472 - val_loss: 0.6602 - val_accuracy: 0.9100\n",
      "Epoch 191/400\n",
      "25/25 [==============================] - 0s 9ms/step - loss: 0.6605 - accuracy: 0.9369 - val_loss: 0.6596 - val_accuracy: 0.9100\n",
      "Epoch 192/400\n",
      "25/25 [==============================] - 0s 9ms/step - loss: 0.6587 - accuracy: 0.9493 - val_loss: 0.6591 - val_accuracy: 0.9100\n",
      "Epoch 193/400\n",
      "25/25 [==============================] - 0s 9ms/step - loss: 0.6599 - accuracy: 0.9261 - val_loss: 0.6585 - val_accuracy: 0.9100\n",
      "Epoch 194/400\n",
      "25/25 [==============================] - 0s 8ms/step - loss: 0.6579 - accuracy: 0.9466 - val_loss: 0.6579 - val_accuracy: 0.9100\n",
      "Epoch 195/400\n",
      "25/25 [==============================] - 0s 8ms/step - loss: 0.6580 - accuracy: 0.9414 - val_loss: 0.6574 - val_accuracy: 0.9100\n",
      "Epoch 196/400\n",
      "25/25 [==============================] - 0s 9ms/step - loss: 0.6566 - accuracy: 0.9433 - val_loss: 0.6568 - val_accuracy: 0.9100\n",
      "Epoch 197/400\n",
      "25/25 [==============================] - 0s 8ms/step - loss: 0.6566 - accuracy: 0.9373 - val_loss: 0.6562 - val_accuracy: 0.9100\n",
      "Epoch 198/400\n",
      "25/25 [==============================] - 0s 8ms/step - loss: 0.6568 - accuracy: 0.9387 - val_loss: 0.6556 - val_accuracy: 0.9100\n",
      "Epoch 199/400\n",
      "25/25 [==============================] - 0s 8ms/step - loss: 0.6558 - accuracy: 0.9358 - val_loss: 0.6550 - val_accuracy: 0.9100\n",
      "Epoch 200/400\n",
      "25/25 [==============================] - 0s 9ms/step - loss: 0.6556 - accuracy: 0.9378 - val_loss: 0.6544 - val_accuracy: 0.9150\n",
      "Epoch 201/400\n",
      "25/25 [==============================] - 0s 9ms/step - loss: 0.6548 - accuracy: 0.9466 - val_loss: 0.6538 - val_accuracy: 0.9150\n",
      "Epoch 202/400\n",
      "25/25 [==============================] - 0s 9ms/step - loss: 0.6540 - accuracy: 0.9410 - val_loss: 0.6531 - val_accuracy: 0.9150\n",
      "Epoch 203/400\n",
      "25/25 [==============================] - 0s 9ms/step - loss: 0.6542 - accuracy: 0.9342 - val_loss: 0.6525 - val_accuracy: 0.9150\n",
      "Epoch 204/400\n",
      "25/25 [==============================] - 0s 8ms/step - loss: 0.6516 - accuracy: 0.9459 - val_loss: 0.6519 - val_accuracy: 0.9200\n",
      "Epoch 205/400\n",
      "25/25 [==============================] - 0s 8ms/step - loss: 0.6534 - accuracy: 0.9447 - val_loss: 0.6512 - val_accuracy: 0.9200\n",
      "Epoch 206/400\n",
      "25/25 [==============================] - 0s 8ms/step - loss: 0.6512 - accuracy: 0.9450 - val_loss: 0.6506 - val_accuracy: 0.9200\n",
      "Epoch 207/400\n",
      "25/25 [==============================] - 0s 8ms/step - loss: 0.6515 - accuracy: 0.9490 - val_loss: 0.6500 - val_accuracy: 0.9200\n",
      "Epoch 208/400\n",
      "25/25 [==============================] - 0s 9ms/step - loss: 0.6486 - accuracy: 0.9424 - val_loss: 0.6493 - val_accuracy: 0.9200\n",
      "Epoch 209/400\n",
      "25/25 [==============================] - 0s 8ms/step - loss: 0.6493 - accuracy: 0.9308 - val_loss: 0.6486 - val_accuracy: 0.9200\n",
      "Epoch 210/400\n",
      "25/25 [==============================] - 0s 8ms/step - loss: 0.6481 - accuracy: 0.9417 - val_loss: 0.6480 - val_accuracy: 0.9200\n",
      "Epoch 211/400\n",
      "25/25 [==============================] - 0s 8ms/step - loss: 0.6479 - accuracy: 0.9446 - val_loss: 0.6473 - val_accuracy: 0.9200\n",
      "Epoch 212/400\n",
      "25/25 [==============================] - 0s 8ms/step - loss: 0.6470 - accuracy: 0.9393 - val_loss: 0.6466 - val_accuracy: 0.9200\n",
      "Epoch 213/400\n",
      "25/25 [==============================] - 0s 9ms/step - loss: 0.6480 - accuracy: 0.9393 - val_loss: 0.6459 - val_accuracy: 0.9200\n",
      "Epoch 214/400\n",
      "25/25 [==============================] - 0s 9ms/step - loss: 0.6448 - accuracy: 0.9395 - val_loss: 0.6452 - val_accuracy: 0.9200\n",
      "Epoch 215/400\n",
      "25/25 [==============================] - 0s 9ms/step - loss: 0.6463 - accuracy: 0.9402 - val_loss: 0.6445 - val_accuracy: 0.9200\n",
      "Epoch 216/400\n",
      "25/25 [==============================] - 0s 8ms/step - loss: 0.6448 - accuracy: 0.9501 - val_loss: 0.6438 - val_accuracy: 0.9200\n",
      "Epoch 217/400\n",
      "25/25 [==============================] - 0s 9ms/step - loss: 0.6450 - accuracy: 0.9366 - val_loss: 0.6431 - val_accuracy: 0.9200\n",
      "Epoch 218/400\n",
      "25/25 [==============================] - 0s 10ms/step - loss: 0.6439 - accuracy: 0.9424 - val_loss: 0.6424 - val_accuracy: 0.9200\n",
      "Epoch 219/400\n",
      "25/25 [==============================] - 0s 11ms/step - loss: 0.6430 - accuracy: 0.9340 - val_loss: 0.6417 - val_accuracy: 0.9200\n",
      "Epoch 220/400\n",
      "25/25 [==============================] - 0s 10ms/step - loss: 0.6419 - accuracy: 0.9478 - val_loss: 0.6409 - val_accuracy: 0.9200\n",
      "Epoch 221/400\n",
      "25/25 [==============================] - 0s 11ms/step - loss: 0.6417 - accuracy: 0.9496 - val_loss: 0.6402 - val_accuracy: 0.9200\n",
      "Epoch 222/400\n",
      "25/25 [==============================] - 0s 10ms/step - loss: 0.6402 - accuracy: 0.9508 - val_loss: 0.6395 - val_accuracy: 0.9200\n",
      "Epoch 223/400\n",
      "25/25 [==============================] - 0s 10ms/step - loss: 0.6406 - accuracy: 0.9402 - val_loss: 0.6387 - val_accuracy: 0.9200\n",
      "Epoch 224/400\n",
      "25/25 [==============================] - 0s 10ms/step - loss: 0.6380 - accuracy: 0.9438 - val_loss: 0.6380 - val_accuracy: 0.9200\n",
      "Epoch 225/400\n",
      "25/25 [==============================] - 0s 10ms/step - loss: 0.6406 - accuracy: 0.9382 - val_loss: 0.6372 - val_accuracy: 0.9200\n",
      "Epoch 226/400\n",
      "25/25 [==============================] - 0s 10ms/step - loss: 0.6365 - accuracy: 0.9325 - val_loss: 0.6364 - val_accuracy: 0.9200\n",
      "Epoch 227/400\n",
      "25/25 [==============================] - 0s 10ms/step - loss: 0.6367 - accuracy: 0.9453 - val_loss: 0.6357 - val_accuracy: 0.9200\n",
      "Epoch 228/400\n",
      "25/25 [==============================] - 0s 11ms/step - loss: 0.6349 - accuracy: 0.9443 - val_loss: 0.6349 - val_accuracy: 0.9200\n",
      "Epoch 229/400\n"
     ]
    },
    {
     "name": "stdout",
     "output_type": "stream",
     "text": [
      "25/25 [==============================] - 0s 12ms/step - loss: 0.6355 - accuracy: 0.9434 - val_loss: 0.6341 - val_accuracy: 0.9200\n",
      "Epoch 230/400\n",
      "25/25 [==============================] - 0s 20ms/step - loss: 0.6361 - accuracy: 0.9367 - val_loss: 0.6333 - val_accuracy: 0.9200\n",
      "Epoch 231/400\n",
      "25/25 [==============================] - 1s 24ms/step - loss: 0.6345 - accuracy: 0.9478 - val_loss: 0.6325 - val_accuracy: 0.9200\n",
      "Epoch 232/400\n",
      "25/25 [==============================] - 1s 23ms/step - loss: 0.6330 - accuracy: 0.9318 - val_loss: 0.6317 - val_accuracy: 0.9200\n",
      "Epoch 233/400\n",
      "25/25 [==============================] - 0s 17ms/step - loss: 0.6352 - accuracy: 0.9263 - val_loss: 0.6309 - val_accuracy: 0.9200\n",
      "Epoch 234/400\n",
      "25/25 [==============================] - 0s 10ms/step - loss: 0.6314 - accuracy: 0.9374 - val_loss: 0.6301 - val_accuracy: 0.9200\n",
      "Epoch 235/400\n",
      "25/25 [==============================] - 0s 10ms/step - loss: 0.6295 - accuracy: 0.9384 - val_loss: 0.6293 - val_accuracy: 0.9200\n",
      "Epoch 236/400\n",
      "25/25 [==============================] - 0s 10ms/step - loss: 0.6293 - accuracy: 0.9500 - val_loss: 0.6284 - val_accuracy: 0.9200\n",
      "Epoch 237/400\n",
      "25/25 [==============================] - 0s 10ms/step - loss: 0.6294 - accuracy: 0.9489 - val_loss: 0.6276 - val_accuracy: 0.9200\n",
      "Epoch 238/400\n",
      "25/25 [==============================] - 0s 10ms/step - loss: 0.6301 - accuracy: 0.9356 - val_loss: 0.6268 - val_accuracy: 0.9200\n",
      "Epoch 239/400\n",
      "25/25 [==============================] - 0s 10ms/step - loss: 0.6272 - accuracy: 0.9437 - val_loss: 0.6259 - val_accuracy: 0.9200\n",
      "Epoch 240/400\n",
      "25/25 [==============================] - 0s 11ms/step - loss: 0.6276 - accuracy: 0.9438 - val_loss: 0.6251 - val_accuracy: 0.9200\n",
      "Epoch 241/400\n",
      "25/25 [==============================] - 1s 30ms/step - loss: 0.6238 - accuracy: 0.9592 - val_loss: 0.6242 - val_accuracy: 0.9200\n",
      "Epoch 242/400\n",
      "25/25 [==============================] - 1s 29ms/step - loss: 0.6259 - accuracy: 0.9428 - val_loss: 0.6234 - val_accuracy: 0.9200\n",
      "Epoch 243/400\n",
      "25/25 [==============================] - 1s 29ms/step - loss: 0.6264 - accuracy: 0.9370 - val_loss: 0.6225 - val_accuracy: 0.9200\n",
      "Epoch 244/400\n",
      "25/25 [==============================] - 1s 27ms/step - loss: 0.6229 - accuracy: 0.9500 - val_loss: 0.6216 - val_accuracy: 0.9200\n",
      "Epoch 245/400\n",
      "25/25 [==============================] - 0s 7ms/step - loss: 0.6247 - accuracy: 0.9378 - val_loss: 0.6207 - val_accuracy: 0.9200\n",
      "Epoch 246/400\n",
      "25/25 [==============================] - 0s 10ms/step - loss: 0.6223 - accuracy: 0.9343 - val_loss: 0.6198 - val_accuracy: 0.9200\n",
      "Epoch 247/400\n",
      "25/25 [==============================] - 0s 10ms/step - loss: 0.6178 - accuracy: 0.9502 - val_loss: 0.6189 - val_accuracy: 0.9200\n",
      "Epoch 248/400\n",
      "25/25 [==============================] - 0s 9ms/step - loss: 0.6213 - accuracy: 0.9475 - val_loss: 0.6181 - val_accuracy: 0.9200\n",
      "Epoch 249/400\n",
      "25/25 [==============================] - 0s 10ms/step - loss: 0.6213 - accuracy: 0.9429 - val_loss: 0.6172 - val_accuracy: 0.9200\n",
      "Epoch 250/400\n",
      "25/25 [==============================] - 0s 11ms/step - loss: 0.6165 - accuracy: 0.9438 - val_loss: 0.6162 - val_accuracy: 0.9200\n",
      "Epoch 251/400\n",
      "25/25 [==============================] - 0s 10ms/step - loss: 0.6188 - accuracy: 0.9448 - val_loss: 0.6153 - val_accuracy: 0.9200\n",
      "Epoch 252/400\n",
      "25/25 [==============================] - 0s 10ms/step - loss: 0.6168 - accuracy: 0.9471 - val_loss: 0.6144 - val_accuracy: 0.9200\n",
      "Epoch 253/400\n",
      "25/25 [==============================] - 0s 10ms/step - loss: 0.6158 - accuracy: 0.9461 - val_loss: 0.6135 - val_accuracy: 0.9200\n",
      "Epoch 254/400\n",
      "25/25 [==============================] - 0s 9ms/step - loss: 0.6155 - accuracy: 0.9385 - val_loss: 0.6126 - val_accuracy: 0.9200\n",
      "Epoch 255/400\n",
      "25/25 [==============================] - 0s 10ms/step - loss: 0.6156 - accuracy: 0.9411 - val_loss: 0.6116 - val_accuracy: 0.9200\n",
      "Epoch 256/400\n",
      "25/25 [==============================] - 0s 11ms/step - loss: 0.6120 - accuracy: 0.9491 - val_loss: 0.6107 - val_accuracy: 0.9200\n",
      "Epoch 257/400\n",
      "25/25 [==============================] - 0s 9ms/step - loss: 0.6098 - accuracy: 0.9508 - val_loss: 0.6097 - val_accuracy: 0.9200\n",
      "Epoch 258/400\n",
      "25/25 [==============================] - 0s 10ms/step - loss: 0.6105 - accuracy: 0.9529 - val_loss: 0.6088 - val_accuracy: 0.9200\n",
      "Epoch 259/400\n",
      "25/25 [==============================] - 0s 10ms/step - loss: 0.6106 - accuracy: 0.9470 - val_loss: 0.6078 - val_accuracy: 0.9200\n",
      "Epoch 260/400\n",
      "25/25 [==============================] - 0s 12ms/step - loss: 0.6110 - accuracy: 0.9202 - val_loss: 0.6069 - val_accuracy: 0.9200\n",
      "Epoch 261/400\n",
      "25/25 [==============================] - 0s 11ms/step - loss: 0.6062 - accuracy: 0.9454 - val_loss: 0.6059 - val_accuracy: 0.9200\n",
      "Epoch 262/400\n",
      "25/25 [==============================] - 0s 11ms/step - loss: 0.6090 - accuracy: 0.9344 - val_loss: 0.6049 - val_accuracy: 0.9200\n",
      "Epoch 263/400\n",
      "25/25 [==============================] - 0s 10ms/step - loss: 0.6101 - accuracy: 0.9290 - val_loss: 0.6039 - val_accuracy: 0.9200\n",
      "Epoch 264/400\n",
      "25/25 [==============================] - 0s 12ms/step - loss: 0.6047 - accuracy: 0.9468 - val_loss: 0.6029 - val_accuracy: 0.9200\n",
      "Epoch 265/400\n",
      "25/25 [==============================] - 0s 11ms/step - loss: 0.6044 - accuracy: 0.9393 - val_loss: 0.6020 - val_accuracy: 0.9200\n",
      "Epoch 266/400\n",
      "25/25 [==============================] - 0s 11ms/step - loss: 0.6031 - accuracy: 0.9484 - val_loss: 0.6009 - val_accuracy: 0.9200\n",
      "Epoch 267/400\n",
      "25/25 [==============================] - 0s 11ms/step - loss: 0.6025 - accuracy: 0.9424 - val_loss: 0.5999 - val_accuracy: 0.9200\n",
      "Epoch 268/400\n",
      "25/25 [==============================] - 0s 12ms/step - loss: 0.6005 - accuracy: 0.9529 - val_loss: 0.5989 - val_accuracy: 0.9200\n",
      "Epoch 269/400\n",
      "25/25 [==============================] - 0s 11ms/step - loss: 0.5973 - accuracy: 0.9451 - val_loss: 0.5979 - val_accuracy: 0.9200\n",
      "Epoch 270/400\n",
      "25/25 [==============================] - 0s 11ms/step - loss: 0.5967 - accuracy: 0.9502 - val_loss: 0.5969 - val_accuracy: 0.9200\n",
      "Epoch 271/400\n",
      "25/25 [==============================] - 0s 11ms/step - loss: 0.5994 - accuracy: 0.9332 - val_loss: 0.5959 - val_accuracy: 0.9200\n",
      "Epoch 272/400\n",
      "25/25 [==============================] - 0s 10ms/step - loss: 0.5968 - accuracy: 0.9497 - val_loss: 0.5949 - val_accuracy: 0.9200\n",
      "Epoch 273/400\n",
      "25/25 [==============================] - 0s 11ms/step - loss: 0.5963 - accuracy: 0.9445 - val_loss: 0.5938 - val_accuracy: 0.9200\n",
      "Epoch 274/400\n",
      "25/25 [==============================] - 0s 12ms/step - loss: 0.5982 - accuracy: 0.9324 - val_loss: 0.5928 - val_accuracy: 0.9200\n",
      "Epoch 275/400\n",
      "25/25 [==============================] - 0s 11ms/step - loss: 0.5943 - accuracy: 0.9467 - val_loss: 0.5917 - val_accuracy: 0.9200\n",
      "Epoch 276/400\n",
      "25/25 [==============================] - 0s 9ms/step - loss: 0.5911 - accuracy: 0.9464 - val_loss: 0.5907 - val_accuracy: 0.9200\n",
      "Epoch 277/400\n",
      "25/25 [==============================] - 0s 10ms/step - loss: 0.5935 - accuracy: 0.9489 - val_loss: 0.5896 - val_accuracy: 0.9200\n",
      "Epoch 278/400\n",
      "25/25 [==============================] - 0s 11ms/step - loss: 0.5935 - accuracy: 0.9466 - val_loss: 0.5885 - val_accuracy: 0.9200\n",
      "Epoch 279/400\n",
      "25/25 [==============================] - 0s 12ms/step - loss: 0.5882 - accuracy: 0.9378 - val_loss: 0.5875 - val_accuracy: 0.9200\n",
      "Epoch 280/400\n",
      "25/25 [==============================] - 0s 9ms/step - loss: 0.5930 - accuracy: 0.9326 - val_loss: 0.5864 - val_accuracy: 0.9200\n",
      "Epoch 281/400\n",
      "25/25 [==============================] - 0s 9ms/step - loss: 0.5843 - accuracy: 0.9539 - val_loss: 0.5853 - val_accuracy: 0.9200\n",
      "Epoch 282/400\n",
      "25/25 [==============================] - 0s 10ms/step - loss: 0.5858 - accuracy: 0.9458 - val_loss: 0.5842 - val_accuracy: 0.9200\n",
      "Epoch 283/400\n",
      "25/25 [==============================] - 0s 11ms/step - loss: 0.5860 - accuracy: 0.9410 - val_loss: 0.5832 - val_accuracy: 0.9200\n",
      "Epoch 284/400\n",
      "25/25 [==============================] - 0s 11ms/step - loss: 0.5870 - accuracy: 0.9426 - val_loss: 0.5820 - val_accuracy: 0.9200\n",
      "Epoch 285/400\n",
      "25/25 [==============================] - 0s 11ms/step - loss: 0.5871 - accuracy: 0.9424 - val_loss: 0.5809 - val_accuracy: 0.9200\n",
      "Epoch 286/400\n"
     ]
    },
    {
     "name": "stdout",
     "output_type": "stream",
     "text": [
      "25/25 [==============================] - 0s 11ms/step - loss: 0.5809 - accuracy: 0.9636 - val_loss: 0.5798 - val_accuracy: 0.9200\n",
      "Epoch 287/400\n",
      "25/25 [==============================] - 0s 12ms/step - loss: 0.5816 - accuracy: 0.9444 - val_loss: 0.5787 - val_accuracy: 0.9200\n",
      "Epoch 288/400\n",
      "25/25 [==============================] - 0s 13ms/step - loss: 0.5830 - accuracy: 0.9351 - val_loss: 0.5775 - val_accuracy: 0.9200\n",
      "Epoch 289/400\n",
      "25/25 [==============================] - 1s 33ms/step - loss: 0.5756 - accuracy: 0.9525 - val_loss: 0.5764 - val_accuracy: 0.9200\n",
      "Epoch 290/400\n",
      "25/25 [==============================] - 0s 11ms/step - loss: 0.5818 - accuracy: 0.9310 - val_loss: 0.5753 - val_accuracy: 0.9200\n",
      "Epoch 291/400\n",
      "25/25 [==============================] - 0s 12ms/step - loss: 0.5765 - accuracy: 0.9556 - val_loss: 0.5741 - val_accuracy: 0.9200\n",
      "Epoch 292/400\n",
      "25/25 [==============================] - 0s 11ms/step - loss: 0.5765 - accuracy: 0.9369 - val_loss: 0.5730 - val_accuracy: 0.9200\n",
      "Epoch 293/400\n",
      "25/25 [==============================] - 0s 10ms/step - loss: 0.5784 - accuracy: 0.9322 - val_loss: 0.5718 - val_accuracy: 0.9200\n",
      "Epoch 294/400\n",
      "25/25 [==============================] - 0s 12ms/step - loss: 0.5786 - accuracy: 0.9342 - val_loss: 0.5706 - val_accuracy: 0.9200\n",
      "Epoch 295/400\n",
      "25/25 [==============================] - 0s 9ms/step - loss: 0.5728 - accuracy: 0.9369 - val_loss: 0.5695 - val_accuracy: 0.9200\n",
      "Epoch 296/400\n",
      "25/25 [==============================] - 0s 10ms/step - loss: 0.5677 - accuracy: 0.9531 - val_loss: 0.5683 - val_accuracy: 0.9200\n",
      "Epoch 297/400\n",
      "25/25 [==============================] - 0s 10ms/step - loss: 0.5705 - accuracy: 0.9436 - val_loss: 0.5671 - val_accuracy: 0.9200\n",
      "Epoch 298/400\n",
      "25/25 [==============================] - 0s 9ms/step - loss: 0.5711 - accuracy: 0.9544 - val_loss: 0.5660 - val_accuracy: 0.9200\n",
      "Epoch 299/400\n",
      "25/25 [==============================] - 0s 9ms/step - loss: 0.5651 - accuracy: 0.9450 - val_loss: 0.5648 - val_accuracy: 0.9200\n",
      "Epoch 300/400\n",
      "25/25 [==============================] - 0s 9ms/step - loss: 0.5659 - accuracy: 0.9406 - val_loss: 0.5636 - val_accuracy: 0.9200\n",
      "Epoch 301/400\n",
      "25/25 [==============================] - 0s 9ms/step - loss: 0.5652 - accuracy: 0.9464 - val_loss: 0.5624 - val_accuracy: 0.9200\n",
      "Epoch 302/400\n",
      "25/25 [==============================] - 0s 9ms/step - loss: 0.5667 - accuracy: 0.9421 - val_loss: 0.5612 - val_accuracy: 0.9200\n",
      "Epoch 303/400\n",
      "25/25 [==============================] - 0s 9ms/step - loss: 0.5622 - accuracy: 0.9378 - val_loss: 0.5600 - val_accuracy: 0.9200\n",
      "Epoch 304/400\n",
      "25/25 [==============================] - 0s 10ms/step - loss: 0.5631 - accuracy: 0.9404 - val_loss: 0.5588 - val_accuracy: 0.9200\n",
      "Epoch 305/400\n",
      "25/25 [==============================] - 0s 10ms/step - loss: 0.5605 - accuracy: 0.9510 - val_loss: 0.5576 - val_accuracy: 0.9200\n",
      "Epoch 306/400\n",
      "25/25 [==============================] - 0s 10ms/step - loss: 0.5601 - accuracy: 0.9515 - val_loss: 0.5564 - val_accuracy: 0.9200\n",
      "Epoch 307/400\n",
      "25/25 [==============================] - 0s 11ms/step - loss: 0.5589 - accuracy: 0.9498 - val_loss: 0.5552 - val_accuracy: 0.9200\n",
      "Epoch 308/400\n",
      "25/25 [==============================] - 0s 11ms/step - loss: 0.5545 - accuracy: 0.9556 - val_loss: 0.5539 - val_accuracy: 0.9200\n",
      "Epoch 309/400\n",
      "25/25 [==============================] - 0s 10ms/step - loss: 0.5555 - accuracy: 0.9363 - val_loss: 0.5527 - val_accuracy: 0.9200\n",
      "Epoch 310/400\n",
      "25/25 [==============================] - 0s 9ms/step - loss: 0.5531 - accuracy: 0.9457 - val_loss: 0.5515 - val_accuracy: 0.9200\n",
      "Epoch 311/400\n",
      "25/25 [==============================] - 0s 15ms/step - loss: 0.5555 - accuracy: 0.9352 - val_loss: 0.5503 - val_accuracy: 0.9200\n",
      "Epoch 312/400\n",
      "25/25 [==============================] - 0s 12ms/step - loss: 0.5501 - accuracy: 0.9522 - val_loss: 0.5490 - val_accuracy: 0.9200\n",
      "Epoch 313/400\n",
      "25/25 [==============================] - 0s 11ms/step - loss: 0.5511 - accuracy: 0.9431 - val_loss: 0.5478 - val_accuracy: 0.9200\n",
      "Epoch 314/400\n",
      "25/25 [==============================] - 0s 11ms/step - loss: 0.5571 - accuracy: 0.9400 - val_loss: 0.5465 - val_accuracy: 0.9200\n",
      "Epoch 315/400\n",
      "25/25 [==============================] - 0s 9ms/step - loss: 0.5500 - accuracy: 0.9436 - val_loss: 0.5453 - val_accuracy: 0.9200\n",
      "Epoch 316/400\n",
      "25/25 [==============================] - 0s 10ms/step - loss: 0.5542 - accuracy: 0.9274 - val_loss: 0.5440 - val_accuracy: 0.9200\n",
      "Epoch 317/400\n",
      "25/25 [==============================] - 0s 10ms/step - loss: 0.5509 - accuracy: 0.9421 - val_loss: 0.5428 - val_accuracy: 0.9200\n",
      "Epoch 318/400\n",
      "25/25 [==============================] - 0s 11ms/step - loss: 0.5441 - accuracy: 0.9387 - val_loss: 0.5415 - val_accuracy: 0.9200\n",
      "Epoch 319/400\n",
      "25/25 [==============================] - 0s 10ms/step - loss: 0.5461 - accuracy: 0.9525 - val_loss: 0.5402 - val_accuracy: 0.9200\n",
      "Epoch 320/400\n",
      "25/25 [==============================] - 0s 11ms/step - loss: 0.5388 - accuracy: 0.9517 - val_loss: 0.5390 - val_accuracy: 0.9200\n",
      "Epoch 321/400\n",
      "25/25 [==============================] - 0s 9ms/step - loss: 0.5448 - accuracy: 0.9413 - val_loss: 0.5377 - val_accuracy: 0.9200\n",
      "Epoch 322/400\n",
      "25/25 [==============================] - 0s 9ms/step - loss: 0.5404 - accuracy: 0.9420 - val_loss: 0.5364 - val_accuracy: 0.9200\n",
      "Epoch 323/400\n",
      "25/25 [==============================] - 0s 9ms/step - loss: 0.5367 - accuracy: 0.9537 - val_loss: 0.5351 - val_accuracy: 0.9200\n",
      "Epoch 324/400\n",
      "25/25 [==============================] - 0s 10ms/step - loss: 0.5372 - accuracy: 0.9324 - val_loss: 0.5339 - val_accuracy: 0.9200\n",
      "Epoch 325/400\n",
      "25/25 [==============================] - 0s 10ms/step - loss: 0.5379 - accuracy: 0.9414 - val_loss: 0.5326 - val_accuracy: 0.9200\n",
      "Epoch 326/400\n",
      "25/25 [==============================] - 0s 10ms/step - loss: 0.5332 - accuracy: 0.9501 - val_loss: 0.5313 - val_accuracy: 0.9200\n",
      "Epoch 327/400\n",
      "25/25 [==============================] - 0s 11ms/step - loss: 0.5370 - accuracy: 0.9334 - val_loss: 0.5300 - val_accuracy: 0.9200\n",
      "Epoch 328/400\n",
      "25/25 [==============================] - 0s 10ms/step - loss: 0.5326 - accuracy: 0.9483 - val_loss: 0.5287 - val_accuracy: 0.9200\n",
      "Epoch 329/400\n",
      "25/25 [==============================] - 0s 9ms/step - loss: 0.5288 - accuracy: 0.9500 - val_loss: 0.5274 - val_accuracy: 0.9200\n",
      "Epoch 330/400\n",
      "25/25 [==============================] - 0s 10ms/step - loss: 0.5307 - accuracy: 0.9428 - val_loss: 0.5261 - val_accuracy: 0.9200\n",
      "Epoch 331/400\n",
      "25/25 [==============================] - 0s 10ms/step - loss: 0.5301 - accuracy: 0.9436 - val_loss: 0.5248 - val_accuracy: 0.9200\n",
      "Epoch 332/400\n",
      "25/25 [==============================] - 1s 23ms/step - loss: 0.5248 - accuracy: 0.9413 - val_loss: 0.5235 - val_accuracy: 0.9200\n",
      "Epoch 333/400\n",
      "25/25 [==============================] - 1s 26ms/step - loss: 0.5300 - accuracy: 0.9288 - val_loss: 0.5222 - val_accuracy: 0.9200\n",
      "Epoch 334/400\n",
      "25/25 [==============================] - 1s 20ms/step - loss: 0.5326 - accuracy: 0.9318 - val_loss: 0.5209 - val_accuracy: 0.9200\n",
      "Epoch 335/400\n",
      "25/25 [==============================] - 0s 11ms/step - loss: 0.5240 - accuracy: 0.9384 - val_loss: 0.5196 - val_accuracy: 0.9200\n",
      "Epoch 336/400\n",
      "25/25 [==============================] - 0s 18ms/step - loss: 0.5269 - accuracy: 0.9376 - val_loss: 0.5183 - val_accuracy: 0.9200\n",
      "Epoch 337/400\n",
      "25/25 [==============================] - 1s 29ms/step - loss: 0.5171 - accuracy: 0.9426 - val_loss: 0.5169 - val_accuracy: 0.9200\n",
      "Epoch 338/400\n",
      "25/25 [==============================] - 0s 10ms/step - loss: 0.5237 - accuracy: 0.9392 - val_loss: 0.5156 - val_accuracy: 0.9200\n",
      "Epoch 339/400\n",
      "25/25 [==============================] - 1s 23ms/step - loss: 0.5162 - accuracy: 0.9480 - val_loss: 0.5143 - val_accuracy: 0.9200\n",
      "Epoch 340/400\n",
      "25/25 [==============================] - 0s 18ms/step - loss: 0.5186 - accuracy: 0.9383 - val_loss: 0.5129 - val_accuracy: 0.9200\n",
      "Epoch 341/400\n",
      "25/25 [==============================] - 0s 10ms/step - loss: 0.5153 - accuracy: 0.9508 - val_loss: 0.5116 - val_accuracy: 0.9200\n",
      "Epoch 342/400\n",
      "25/25 [==============================] - 0s 11ms/step - loss: 0.5176 - accuracy: 0.9396 - val_loss: 0.5103 - val_accuracy: 0.9200\n",
      "Epoch 343/400\n"
     ]
    },
    {
     "name": "stdout",
     "output_type": "stream",
     "text": [
      "25/25 [==============================] - 0s 15ms/step - loss: 0.5114 - accuracy: 0.9431 - val_loss: 0.5089 - val_accuracy: 0.9200\n",
      "Epoch 344/400\n",
      "25/25 [==============================] - 0s 16ms/step - loss: 0.5140 - accuracy: 0.9454 - val_loss: 0.5076 - val_accuracy: 0.9200\n",
      "Epoch 345/400\n",
      "25/25 [==============================] - 0s 17ms/step - loss: 0.5090 - accuracy: 0.9399 - val_loss: 0.5063 - val_accuracy: 0.9200\n",
      "Epoch 346/400\n",
      "25/25 [==============================] - 1s 26ms/step - loss: 0.5121 - accuracy: 0.9411 - val_loss: 0.5049 - val_accuracy: 0.9200\n",
      "Epoch 347/400\n",
      "25/25 [==============================] - 0s 7ms/step - loss: 0.5086 - accuracy: 0.9371 - val_loss: 0.5036 - val_accuracy: 0.9200\n",
      "Epoch 348/400\n",
      "25/25 [==============================] - 0s 9ms/step - loss: 0.5082 - accuracy: 0.9423 - val_loss: 0.5022 - val_accuracy: 0.9200\n",
      "Epoch 349/400\n",
      "25/25 [==============================] - 1s 29ms/step - loss: 0.5050 - accuracy: 0.9441 - val_loss: 0.5009 - val_accuracy: 0.9200\n",
      "Epoch 350/400\n",
      "25/25 [==============================] - 1s 23ms/step - loss: 0.5018 - accuracy: 0.9352 - val_loss: 0.4995 - val_accuracy: 0.9200\n",
      "Epoch 351/400\n",
      "25/25 [==============================] - 0s 10ms/step - loss: 0.5026 - accuracy: 0.9475 - val_loss: 0.4982 - val_accuracy: 0.9200\n",
      "Epoch 352/400\n",
      "25/25 [==============================] - 0s 9ms/step - loss: 0.5038 - accuracy: 0.9457 - val_loss: 0.4968 - val_accuracy: 0.9200\n",
      "Epoch 353/400\n",
      "25/25 [==============================] - 0s 9ms/step - loss: 0.4993 - accuracy: 0.9480 - val_loss: 0.4954 - val_accuracy: 0.9200\n",
      "Epoch 354/400\n",
      "25/25 [==============================] - 0s 9ms/step - loss: 0.5003 - accuracy: 0.9474 - val_loss: 0.4941 - val_accuracy: 0.9200\n",
      "Epoch 355/400\n",
      "25/25 [==============================] - 0s 9ms/step - loss: 0.4948 - accuracy: 0.9496 - val_loss: 0.4927 - val_accuracy: 0.9200\n",
      "Epoch 356/400\n",
      "25/25 [==============================] - 0s 6ms/step - loss: 0.4916 - accuracy: 0.9623 - val_loss: 0.4913 - val_accuracy: 0.9200\n",
      "Epoch 357/400\n",
      "25/25 [==============================] - 0s 6ms/step - loss: 0.4986 - accuracy: 0.9440 - val_loss: 0.4900 - val_accuracy: 0.9200\n",
      "Epoch 358/400\n",
      "25/25 [==============================] - 0s 9ms/step - loss: 0.4951 - accuracy: 0.9389 - val_loss: 0.4886 - val_accuracy: 0.9200\n",
      "Epoch 359/400\n",
      "25/25 [==============================] - 0s 9ms/step - loss: 0.4856 - accuracy: 0.9522 - val_loss: 0.4872 - val_accuracy: 0.9200\n",
      "Epoch 360/400\n",
      "25/25 [==============================] - 0s 9ms/step - loss: 0.4897 - accuracy: 0.9489 - val_loss: 0.4859 - val_accuracy: 0.9200\n",
      "Epoch 361/400\n",
      "25/25 [==============================] - 0s 9ms/step - loss: 0.4910 - accuracy: 0.9475 - val_loss: 0.4845 - val_accuracy: 0.9200\n",
      "Epoch 362/400\n",
      "25/25 [==============================] - 0s 9ms/step - loss: 0.4915 - accuracy: 0.9370 - val_loss: 0.4831 - val_accuracy: 0.9200\n",
      "Epoch 363/400\n",
      "25/25 [==============================] - 0s 9ms/step - loss: 0.4822 - accuracy: 0.9384 - val_loss: 0.4817 - val_accuracy: 0.9200\n",
      "Epoch 364/400\n",
      "25/25 [==============================] - 0s 9ms/step - loss: 0.4883 - accuracy: 0.9290 - val_loss: 0.4804 - val_accuracy: 0.9200\n",
      "Epoch 365/400\n",
      "25/25 [==============================] - 0s 7ms/step - loss: 0.4845 - accuracy: 0.9458 - val_loss: 0.4790 - val_accuracy: 0.9200\n",
      "Epoch 366/400\n",
      "25/25 [==============================] - 0s 9ms/step - loss: 0.4829 - accuracy: 0.9490 - val_loss: 0.4776 - val_accuracy: 0.9200\n",
      "Epoch 367/400\n",
      "25/25 [==============================] - 0s 9ms/step - loss: 0.4828 - accuracy: 0.9430 - val_loss: 0.4762 - val_accuracy: 0.9200\n",
      "Epoch 368/400\n",
      "25/25 [==============================] - 0s 10ms/step - loss: 0.4814 - accuracy: 0.9331 - val_loss: 0.4748 - val_accuracy: 0.9200\n",
      "Epoch 369/400\n",
      "25/25 [==============================] - 0s 9ms/step - loss: 0.4772 - accuracy: 0.9411 - val_loss: 0.4735 - val_accuracy: 0.9200\n",
      "Epoch 370/400\n",
      "25/25 [==============================] - 0s 9ms/step - loss: 0.4719 - accuracy: 0.9518 - val_loss: 0.4721 - val_accuracy: 0.9200\n",
      "Epoch 371/400\n",
      "25/25 [==============================] - 0s 9ms/step - loss: 0.4770 - accuracy: 0.9398 - val_loss: 0.4707 - val_accuracy: 0.9200\n",
      "Epoch 372/400\n",
      "25/25 [==============================] - 0s 9ms/step - loss: 0.4743 - accuracy: 0.9403 - val_loss: 0.4693 - val_accuracy: 0.9200\n",
      "Epoch 373/400\n",
      "25/25 [==============================] - 0s 9ms/step - loss: 0.4770 - accuracy: 0.9503 - val_loss: 0.4679 - val_accuracy: 0.9200\n",
      "Epoch 374/400\n",
      "25/25 [==============================] - 0s 9ms/step - loss: 0.4733 - accuracy: 0.9482 - val_loss: 0.4665 - val_accuracy: 0.9200\n",
      "Epoch 375/400\n",
      "25/25 [==============================] - 0s 9ms/step - loss: 0.4700 - accuracy: 0.9428 - val_loss: 0.4652 - val_accuracy: 0.9200\n",
      "Epoch 376/400\n",
      "25/25 [==============================] - 0s 10ms/step - loss: 0.4708 - accuracy: 0.9397 - val_loss: 0.4638 - val_accuracy: 0.9200\n",
      "Epoch 377/400\n",
      "25/25 [==============================] - 0s 9ms/step - loss: 0.4711 - accuracy: 0.9426 - val_loss: 0.4624 - val_accuracy: 0.9200\n",
      "Epoch 378/400\n",
      "25/25 [==============================] - 0s 9ms/step - loss: 0.4652 - accuracy: 0.9410 - val_loss: 0.4610 - val_accuracy: 0.9200\n",
      "Epoch 379/400\n",
      "25/25 [==============================] - 0s 10ms/step - loss: 0.4698 - accuracy: 0.9318 - val_loss: 0.4596 - val_accuracy: 0.9200\n",
      "Epoch 380/400\n",
      "25/25 [==============================] - 0s 12ms/step - loss: 0.4635 - accuracy: 0.9433 - val_loss: 0.4582 - val_accuracy: 0.9200\n",
      "Epoch 381/400\n",
      "25/25 [==============================] - 0s 10ms/step - loss: 0.4572 - accuracy: 0.9439 - val_loss: 0.4568 - val_accuracy: 0.9200\n",
      "Epoch 382/400\n",
      "25/25 [==============================] - 0s 12ms/step - loss: 0.4610 - accuracy: 0.9495 - val_loss: 0.4554 - val_accuracy: 0.9200\n",
      "Epoch 383/400\n",
      "25/25 [==============================] - 0s 11ms/step - loss: 0.4566 - accuracy: 0.9402 - val_loss: 0.4540 - val_accuracy: 0.9200\n",
      "Epoch 384/400\n",
      "25/25 [==============================] - 0s 12ms/step - loss: 0.4500 - accuracy: 0.9545 - val_loss: 0.4526 - val_accuracy: 0.9200\n",
      "Epoch 385/400\n",
      "25/25 [==============================] - 0s 17ms/step - loss: 0.4565 - accuracy: 0.9437 - val_loss: 0.4512 - val_accuracy: 0.9200\n",
      "Epoch 386/400\n",
      "25/25 [==============================] - 0s 10ms/step - loss: 0.4546 - accuracy: 0.9372 - val_loss: 0.4499 - val_accuracy: 0.9200\n",
      "Epoch 387/400\n",
      "25/25 [==============================] - 0s 9ms/step - loss: 0.4511 - accuracy: 0.9466 - val_loss: 0.4485 - val_accuracy: 0.9200\n",
      "Epoch 388/400\n",
      "25/25 [==============================] - 0s 11ms/step - loss: 0.4471 - accuracy: 0.9434 - val_loss: 0.4471 - val_accuracy: 0.9200\n",
      "Epoch 389/400\n",
      "25/25 [==============================] - 0s 11ms/step - loss: 0.4543 - accuracy: 0.9306 - val_loss: 0.4457 - val_accuracy: 0.9200\n",
      "Epoch 390/400\n",
      "25/25 [==============================] - 0s 11ms/step - loss: 0.4444 - accuracy: 0.9434 - val_loss: 0.4443 - val_accuracy: 0.9200\n",
      "Epoch 391/400\n",
      "25/25 [==============================] - 0s 12ms/step - loss: 0.4502 - accuracy: 0.9491 - val_loss: 0.4429 - val_accuracy: 0.9200\n",
      "Epoch 392/400\n",
      "25/25 [==============================] - 1s 21ms/step - loss: 0.4443 - accuracy: 0.9411 - val_loss: 0.4415 - val_accuracy: 0.9200\n",
      "Epoch 393/400\n",
      "25/25 [==============================] - 0s 13ms/step - loss: 0.4406 - accuracy: 0.9499 - val_loss: 0.4401 - val_accuracy: 0.9200\n",
      "Epoch 394/400\n",
      "25/25 [==============================] - 0s 8ms/step - loss: 0.4434 - accuracy: 0.9468 - val_loss: 0.4387 - val_accuracy: 0.9200\n",
      "Epoch 395/400\n",
      "25/25 [==============================] - 0s 13ms/step - loss: 0.4411 - accuracy: 0.9420 - val_loss: 0.4374 - val_accuracy: 0.9200\n",
      "Epoch 396/400\n",
      "25/25 [==============================] - 0s 10ms/step - loss: 0.4396 - accuracy: 0.9510 - val_loss: 0.4360 - val_accuracy: 0.9200\n",
      "Epoch 397/400\n",
      "25/25 [==============================] - 0s 8ms/step - loss: 0.4449 - accuracy: 0.9387 - val_loss: 0.4346 - val_accuracy: 0.9200\n",
      "Epoch 398/400\n",
      "25/25 [==============================] - 0s 11ms/step - loss: 0.4398 - accuracy: 0.9367 - val_loss: 0.4332 - val_accuracy: 0.9200\n",
      "Epoch 399/400\n",
      "25/25 [==============================] - 0s 11ms/step - loss: 0.4346 - accuracy: 0.9448 - val_loss: 0.4318 - val_accuracy: 0.9200\n",
      "Epoch 400/400\n",
      "25/25 [==============================] - 0s 10ms/step - loss: 0.4315 - accuracy: 0.9441 - val_loss: 0.4305 - val_accuracy: 0.9200\n"
     ]
    },
    {
     "data": {
      "text/plain": [
       "<tensorflow.python.keras.callbacks.History at 0x7effff496160>"
      ]
     },
     "execution_count": 262,
     "metadata": {},
     "output_type": "execute_result"
    }
   ],
   "source": [
    "model.fit(x = reshaped_dm_curve_train, y = np.array(train_set_labels), \\\n",
    "               validation_data=(reshaped_dm_curve_validation, np.array(validation_set_labels)), \\\n",
    "                epochs=400, shuffle=True)\n"
   ]
  },
  {
   "cell_type": "code",
   "execution_count": 263,
   "id": "439fd6f6",
   "metadata": {},
   "outputs": [
    {
     "name": "stdout",
     "output_type": "stream",
     "text": [
      "F Score: 0.7861471861471861 Precision: 0.7115987460815048 Recall: 0.8781431334622823 Accuracy: 0.753\n"
     ]
    }
   ],
   "source": [
    "y_pred = model.predict(np.array(dm_curve_test))\n",
    "classified_results = np.rint(y_pred)\n",
    "classified_results = np.reshape(classified_results, len(classified_results))\n",
    "f_score = f1_score(test_set_labels, classified_results, average='binary')\n",
    "precision = precision_score(test_set_labels, classified_results, average='binary')\n",
    "recall = recall_score(test_set_labels, classified_results, average='binary')\n",
    "accuracy = (test_set_labels == classified_results).sum()/len(test_set_labels)\n",
    "print('F Score:', f_score, 'Precision:', precision, 'Recall:', recall, 'Accuracy:', accuracy)\n",
    "\n",
    "\n"
   ]
  },
  {
   "cell_type": "markdown",
   "id": "fd4d882f",
   "metadata": {},
   "source": [
    "# Combine Multiple Features"
   ]
  },
  {
   "cell_type": "code",
   "execution_count": 300,
   "id": "ed07fced",
   "metadata": {},
   "outputs": [],
   "source": [
    "def create_perceptron_layer(input_data):\n",
    "    init = RandomNormal(mean=0.0, stddev=0.02)\n",
    "    model = Dense(64, activation=\"relu\", kernel_initializer=init)(input_data)\n",
    "    model = Dense(32, activation=\"relu\", kernel_initializer=init)(model)\n",
    "    model = Dense(16, activation=\"relu\", kernel_initializer=init)(model)\n",
    "    #model = Dropout(rate=0.4)(model)\n",
    "    #output = Dense(1, activation=\"sigmoid\", kernel_initializer=init)(model)\n",
    "    return model\n",
    "\n",
    "# def create_convolution_layers(input_img):\n",
    "#   model = Conv2D(32, (3, 3), padding='same', input_shape=input_shape)(input_img)\n",
    "#   model = LeakyReLU(alpha=0.1)(model)\n",
    "#   model = MaxPooling2D((2, 2),padding='same')(model)\n",
    "#   model = Dropout(0.25)(model)\n",
    "\n",
    "#   model = Conv2D(64, (3, 3), padding='same')(model)\n",
    "#   model = LeakyReLU(alpha=0.1)(model)\n",
    "#   model = MaxPooling2D(pool_size=(2, 2),padding='same')(model)\n",
    "#   model = Dropout(0.25)(model)\n",
    "\n",
    "#   model = Conv2D(128, (3, 3), padding='same')(model)\n",
    "#   model = LeakyReLU(alpha=0.1)(model)\n",
    "#   model = MaxPooling2D(pool_size=(2, 2),padding='same')(model)\n",
    "#   model = Dropout(0.4)(model)\n",
    "#   model = Flatten()(model)\n",
    "#   model = Dense(48)(model)\n",
    "#   model = LeakyReLU(alpha=0.1)(model)\n",
    "\n",
    "#   return model\n",
    "\n",
    "def create_convolution_layers(input_img):\n",
    "    init = RandomNormal(mean=0.0, stddev=0.02)\n",
    "    model = Conv2D(32, (7, 7), padding='same', input_shape=input_shape)(input_img)\n",
    "    model = LeakyReLU(alpha=0.1)(model)\n",
    "    model = MaxPooling2D((2, 2),padding='same')(model)\n",
    "    model = Dropout(0.25)(model)\n",
    "\n",
    "    model = Conv2D(64, (7, 7), padding='same')(model)\n",
    "    model = LeakyReLU(alpha=0.1)(model)\n",
    "    model = MaxPooling2D(pool_size=(2, 2),padding='same')(model)\n",
    "    model = Dropout(0.25)(model)\n",
    "\n",
    "    model = Conv2D(128, (7, 7), padding='same')(model)\n",
    "    model = LeakyReLU(alpha=0.1)(model)\n",
    "    model = MaxPooling2D(pool_size=(2, 2),padding='same')(model)\n",
    "    model = Dropout(0.4)(model)\n",
    "    model = Flatten()(model)\n",
    "    #model = Dense(48)(model)\n",
    "    model = LeakyReLU(alpha=0.1)(model)\n",
    "\n",
    "    return model\n",
    "\n",
    "\n"
   ]
  },
  {
   "cell_type": "code",
   "execution_count": 309,
   "id": "cb148d90",
   "metadata": {},
   "outputs": [
    {
     "name": "stdout",
     "output_type": "stream",
     "text": [
      "Model: \"model_39\"\n",
      "_________________________________________________________________\n",
      "Layer (type)                 Output Shape              Param #   \n",
      "=================================================================\n",
      "input_105 (InputLayer)       [(None, 48, 48, 1)]       0         \n",
      "_________________________________________________________________\n",
      "conv2d_109 (Conv2D)          (None, 48, 48, 32)        1600      \n",
      "_________________________________________________________________\n",
      "leaky_re_lu_159 (LeakyReLU)  (None, 48, 48, 32)        0         \n",
      "_________________________________________________________________\n",
      "max_pooling2d_108 (MaxPoolin (None, 24, 24, 32)        0         \n",
      "_________________________________________________________________\n",
      "dropout_145 (Dropout)        (None, 24, 24, 32)        0         \n",
      "_________________________________________________________________\n",
      "conv2d_110 (Conv2D)          (None, 24, 24, 64)        100416    \n",
      "_________________________________________________________________\n",
      "leaky_re_lu_160 (LeakyReLU)  (None, 24, 24, 64)        0         \n",
      "_________________________________________________________________\n",
      "max_pooling2d_109 (MaxPoolin (None, 12, 12, 64)        0         \n",
      "_________________________________________________________________\n",
      "dropout_146 (Dropout)        (None, 12, 12, 64)        0         \n",
      "_________________________________________________________________\n",
      "conv2d_111 (Conv2D)          (None, 12, 12, 128)       401536    \n",
      "_________________________________________________________________\n",
      "leaky_re_lu_161 (LeakyReLU)  (None, 12, 12, 128)       0         \n",
      "_________________________________________________________________\n",
      "max_pooling2d_110 (MaxPoolin (None, 6, 6, 128)         0         \n",
      "_________________________________________________________________\n",
      "dropout_147 (Dropout)        (None, 6, 6, 128)         0         \n",
      "_________________________________________________________________\n",
      "flatten_36 (Flatten)         (None, 4608)              0         \n",
      "_________________________________________________________________\n",
      "leaky_re_lu_162 (LeakyReLU)  (None, 4608)              0         \n",
      "_________________________________________________________________\n",
      "dense_341 (Dense)            (None, 128)               589952    \n",
      "_________________________________________________________________\n",
      "leaky_re_lu_167 (LeakyReLU)  (None, 128)               0         \n",
      "_________________________________________________________________\n",
      "dropout_151 (Dropout)        (None, 128)               0         \n",
      "_________________________________________________________________\n",
      "dense_342 (Dense)            (None, 1)                 129       \n",
      "=================================================================\n",
      "Total params: 1,093,633\n",
      "Trainable params: 1,093,633\n",
      "Non-trainable params: 0\n",
      "_________________________________________________________________\n",
      "None\n"
     ]
    }
   ],
   "source": [
    "num_classes = 1\n",
    "input_shape = (48, 48, 1)\n",
    "batch_size = 200\n",
    "\n",
    "time_phase_input = Input(shape=input_shape)\n",
    "time_phase_model = create_convolution_layers(time_phase_input)\n",
    "\n",
    "freq_phase_input = Input(shape=input_shape)\n",
    "freq_phase_model = create_convolution_layers(freq_phase_input)\n",
    "\n",
    "pulse_profile_input = Input(shape=(64,))\n",
    "pulse_profile_model = create_perceptron_layer(pulse_profile_input)\n",
    "\n",
    "dm_curve_input = Input(shape=(60,))\n",
    "dm_curve_model = create_perceptron_layer(dm_curve_input)\n",
    "\n",
    "#conv = concatenate([time_phase_model, freq_phase_model, pulse_profile_model, dm_curve_model])\n",
    "#conv = concatenate([time_phase_model, pulse_profile_model, dm_curve_model])\n",
    "#conv = concatenate([time_phase_model, dm_curve_model])\n",
    "#conv = concatenate([time_phase_model, dm_curve_model])\n",
    "conv = time_phase_model\n",
    "dense = Dense(128)(conv)\n",
    "dense = LeakyReLU(alpha=0.1)(dense)\n",
    "dense = Dropout(0.5)(dense)\n",
    "\n",
    "output = Dense(num_classes, activation='sigmoid')(dense)\n",
    "\n",
    "#model = Model(inputs=[time_phase_input, freq_phase_input, pulse_profile_input, dm_curve_input], outputs=[output])\n",
    "model = Model(inputs=[time_phase_input], outputs=[output])\n",
    "\n",
    "opt = tf.keras.optimizers.Adam(0.0002, 0.5)\n",
    "\n",
    "model.compile(loss='binary_crossentropy',\n",
    "              optimizer=opt,\n",
    "              metrics=['accuracy'])\n",
    "\n",
    "print(model.summary())"
   ]
  },
  {
   "cell_type": "code",
   "execution_count": 307,
   "id": "58980d1f",
   "metadata": {},
   "outputs": [
    {
     "name": "stdout",
     "output_type": "stream",
     "text": [
      "Epoch 1/40\n"
     ]
    },
    {
     "ename": "ValueError",
     "evalue": "in user code:\n\n    /opt/conda/lib/python3.8/site-packages/tensorflow/python/keras/engine/training.py:805 train_function  *\n        return step_function(self, iterator)\n    /opt/conda/lib/python3.8/site-packages/tensorflow/python/keras/engine/training.py:795 step_function  **\n        outputs = model.distribute_strategy.run(run_step, args=(data,))\n    /opt/conda/lib/python3.8/site-packages/tensorflow/python/distribute/distribute_lib.py:1259 run\n        return self._extended.call_for_each_replica(fn, args=args, kwargs=kwargs)\n    /opt/conda/lib/python3.8/site-packages/tensorflow/python/distribute/distribute_lib.py:2730 call_for_each_replica\n        return self._call_for_each_replica(fn, args, kwargs)\n    /opt/conda/lib/python3.8/site-packages/tensorflow/python/distribute/distribute_lib.py:3417 _call_for_each_replica\n        return fn(*args, **kwargs)\n    /opt/conda/lib/python3.8/site-packages/tensorflow/python/keras/engine/training.py:788 run_step  **\n        outputs = model.train_step(data)\n    /opt/conda/lib/python3.8/site-packages/tensorflow/python/keras/engine/training.py:754 train_step\n        y_pred = self(x, training=True)\n    /opt/conda/lib/python3.8/site-packages/tensorflow/python/keras/engine/base_layer.py:998 __call__\n        input_spec.assert_input_compatibility(self.input_spec, inputs, self.name)\n    /opt/conda/lib/python3.8/site-packages/tensorflow/python/keras/engine/input_spec.py:204 assert_input_compatibility\n        raise ValueError('Layer ' + layer_name + ' expects ' +\n\n    ValueError: Layer model_38 expects 1 input(s), but it received 4 input tensors. Inputs received: [<tf.Tensor 'IteratorGetNext:0' shape=(32, 48, 48, 1) dtype=float32>, <tf.Tensor 'IteratorGetNext:1' shape=(32, 48, 48, 1) dtype=float32>, <tf.Tensor 'IteratorGetNext:2' shape=(32, 64) dtype=float32>, <tf.Tensor 'IteratorGetNext:3' shape=(32, 60) dtype=float32>]\n",
     "output_type": "error",
     "traceback": [
      "\u001b[0;31m---------------------------------------------------------------------------\u001b[0m",
      "\u001b[0;31mValueError\u001b[0m                                Traceback (most recent call last)",
      "\u001b[0;32m<ipython-input-307-43bc094e8677>\u001b[0m in \u001b[0;36m<module>\u001b[0;34m\u001b[0m\n\u001b[0;32m----> 1\u001b[0;31m model.fit([reshaped_time_phase_train, reshaped_freq_phase_train, reshaped_pulse_profile_train, reshaped_dm_curve_train], np.array(train_set_labels) , epochs=40, \\\n\u001b[0m\u001b[1;32m      2\u001b[0m           validation_data=([reshaped_time_phase_validation, reshaped_freq_phase_validation,reshaped_pulse_profile_validation, reshaped_dm_curve_validation], \\\n\u001b[1;32m      3\u001b[0m                           np.array(validation_set_labels)), shuffle=True\n\u001b[1;32m      4\u001b[0m          )\n\u001b[1;32m      5\u001b[0m \u001b[0;31m#model.fit(reshaped_time_phase_train, np.array(trai))\u001b[0m\u001b[0;34m\u001b[0m\u001b[0;34m\u001b[0m\u001b[0;34m\u001b[0m\u001b[0m\n",
      "\u001b[0;32m/opt/conda/lib/python3.8/site-packages/tensorflow/python/keras/engine/training.py\u001b[0m in \u001b[0;36mfit\u001b[0;34m(self, x, y, batch_size, epochs, verbose, callbacks, validation_split, validation_data, shuffle, class_weight, sample_weight, initial_epoch, steps_per_epoch, validation_steps, validation_batch_size, validation_freq, max_queue_size, workers, use_multiprocessing)\u001b[0m\n\u001b[1;32m   1098\u001b[0m                 _r=1):\n\u001b[1;32m   1099\u001b[0m               \u001b[0mcallbacks\u001b[0m\u001b[0;34m.\u001b[0m\u001b[0mon_train_batch_begin\u001b[0m\u001b[0;34m(\u001b[0m\u001b[0mstep\u001b[0m\u001b[0;34m)\u001b[0m\u001b[0;34m\u001b[0m\u001b[0;34m\u001b[0m\u001b[0m\n\u001b[0;32m-> 1100\u001b[0;31m               \u001b[0mtmp_logs\u001b[0m \u001b[0;34m=\u001b[0m \u001b[0mself\u001b[0m\u001b[0;34m.\u001b[0m\u001b[0mtrain_function\u001b[0m\u001b[0;34m(\u001b[0m\u001b[0miterator\u001b[0m\u001b[0;34m)\u001b[0m\u001b[0;34m\u001b[0m\u001b[0;34m\u001b[0m\u001b[0m\n\u001b[0m\u001b[1;32m   1101\u001b[0m               \u001b[0;32mif\u001b[0m \u001b[0mdata_handler\u001b[0m\u001b[0;34m.\u001b[0m\u001b[0mshould_sync\u001b[0m\u001b[0;34m:\u001b[0m\u001b[0;34m\u001b[0m\u001b[0;34m\u001b[0m\u001b[0m\n\u001b[1;32m   1102\u001b[0m                 \u001b[0mcontext\u001b[0m\u001b[0;34m.\u001b[0m\u001b[0masync_wait\u001b[0m\u001b[0;34m(\u001b[0m\u001b[0;34m)\u001b[0m\u001b[0;34m\u001b[0m\u001b[0;34m\u001b[0m\u001b[0m\n",
      "\u001b[0;32m/opt/conda/lib/python3.8/site-packages/tensorflow/python/eager/def_function.py\u001b[0m in \u001b[0;36m__call__\u001b[0;34m(self, *args, **kwds)\u001b[0m\n\u001b[1;32m    826\u001b[0m     \u001b[0mtracing_count\u001b[0m \u001b[0;34m=\u001b[0m \u001b[0mself\u001b[0m\u001b[0;34m.\u001b[0m\u001b[0mexperimental_get_tracing_count\u001b[0m\u001b[0;34m(\u001b[0m\u001b[0;34m)\u001b[0m\u001b[0;34m\u001b[0m\u001b[0;34m\u001b[0m\u001b[0m\n\u001b[1;32m    827\u001b[0m     \u001b[0;32mwith\u001b[0m \u001b[0mtrace\u001b[0m\u001b[0;34m.\u001b[0m\u001b[0mTrace\u001b[0m\u001b[0;34m(\u001b[0m\u001b[0mself\u001b[0m\u001b[0;34m.\u001b[0m\u001b[0m_name\u001b[0m\u001b[0;34m)\u001b[0m \u001b[0;32mas\u001b[0m \u001b[0mtm\u001b[0m\u001b[0;34m:\u001b[0m\u001b[0;34m\u001b[0m\u001b[0;34m\u001b[0m\u001b[0m\n\u001b[0;32m--> 828\u001b[0;31m       \u001b[0mresult\u001b[0m \u001b[0;34m=\u001b[0m \u001b[0mself\u001b[0m\u001b[0;34m.\u001b[0m\u001b[0m_call\u001b[0m\u001b[0;34m(\u001b[0m\u001b[0;34m*\u001b[0m\u001b[0margs\u001b[0m\u001b[0;34m,\u001b[0m \u001b[0;34m**\u001b[0m\u001b[0mkwds\u001b[0m\u001b[0;34m)\u001b[0m\u001b[0;34m\u001b[0m\u001b[0;34m\u001b[0m\u001b[0m\n\u001b[0m\u001b[1;32m    829\u001b[0m       \u001b[0mcompiler\u001b[0m \u001b[0;34m=\u001b[0m \u001b[0;34m\"xla\"\u001b[0m \u001b[0;32mif\u001b[0m \u001b[0mself\u001b[0m\u001b[0;34m.\u001b[0m\u001b[0m_experimental_compile\u001b[0m \u001b[0;32melse\u001b[0m \u001b[0;34m\"nonXla\"\u001b[0m\u001b[0;34m\u001b[0m\u001b[0;34m\u001b[0m\u001b[0m\n\u001b[1;32m    830\u001b[0m       \u001b[0mnew_tracing_count\u001b[0m \u001b[0;34m=\u001b[0m \u001b[0mself\u001b[0m\u001b[0;34m.\u001b[0m\u001b[0mexperimental_get_tracing_count\u001b[0m\u001b[0;34m(\u001b[0m\u001b[0;34m)\u001b[0m\u001b[0;34m\u001b[0m\u001b[0;34m\u001b[0m\u001b[0m\n",
      "\u001b[0;32m/opt/conda/lib/python3.8/site-packages/tensorflow/python/eager/def_function.py\u001b[0m in \u001b[0;36m_call\u001b[0;34m(self, *args, **kwds)\u001b[0m\n\u001b[1;32m    869\u001b[0m       \u001b[0;31m# This is the first call of __call__, so we have to initialize.\u001b[0m\u001b[0;34m\u001b[0m\u001b[0;34m\u001b[0m\u001b[0;34m\u001b[0m\u001b[0m\n\u001b[1;32m    870\u001b[0m       \u001b[0minitializers\u001b[0m \u001b[0;34m=\u001b[0m \u001b[0;34m[\u001b[0m\u001b[0;34m]\u001b[0m\u001b[0;34m\u001b[0m\u001b[0;34m\u001b[0m\u001b[0m\n\u001b[0;32m--> 871\u001b[0;31m       \u001b[0mself\u001b[0m\u001b[0;34m.\u001b[0m\u001b[0m_initialize\u001b[0m\u001b[0;34m(\u001b[0m\u001b[0margs\u001b[0m\u001b[0;34m,\u001b[0m \u001b[0mkwds\u001b[0m\u001b[0;34m,\u001b[0m \u001b[0madd_initializers_to\u001b[0m\u001b[0;34m=\u001b[0m\u001b[0minitializers\u001b[0m\u001b[0;34m)\u001b[0m\u001b[0;34m\u001b[0m\u001b[0;34m\u001b[0m\u001b[0m\n\u001b[0m\u001b[1;32m    872\u001b[0m     \u001b[0;32mfinally\u001b[0m\u001b[0;34m:\u001b[0m\u001b[0;34m\u001b[0m\u001b[0;34m\u001b[0m\u001b[0m\n\u001b[1;32m    873\u001b[0m       \u001b[0;31m# At this point we know that the initialization is complete (or less\u001b[0m\u001b[0;34m\u001b[0m\u001b[0;34m\u001b[0m\u001b[0;34m\u001b[0m\u001b[0m\n",
      "\u001b[0;32m/opt/conda/lib/python3.8/site-packages/tensorflow/python/eager/def_function.py\u001b[0m in \u001b[0;36m_initialize\u001b[0;34m(self, args, kwds, add_initializers_to)\u001b[0m\n\u001b[1;32m    723\u001b[0m     \u001b[0mself\u001b[0m\u001b[0;34m.\u001b[0m\u001b[0m_graph_deleter\u001b[0m \u001b[0;34m=\u001b[0m \u001b[0mFunctionDeleter\u001b[0m\u001b[0;34m(\u001b[0m\u001b[0mself\u001b[0m\u001b[0;34m.\u001b[0m\u001b[0m_lifted_initializer_graph\u001b[0m\u001b[0;34m)\u001b[0m\u001b[0;34m\u001b[0m\u001b[0;34m\u001b[0m\u001b[0m\n\u001b[1;32m    724\u001b[0m     self._concrete_stateful_fn = (\n\u001b[0;32m--> 725\u001b[0;31m         self._stateful_fn._get_concrete_function_internal_garbage_collected(  # pylint: disable=protected-access\n\u001b[0m\u001b[1;32m    726\u001b[0m             *args, **kwds))\n\u001b[1;32m    727\u001b[0m \u001b[0;34m\u001b[0m\u001b[0m\n",
      "\u001b[0;32m/opt/conda/lib/python3.8/site-packages/tensorflow/python/eager/function.py\u001b[0m in \u001b[0;36m_get_concrete_function_internal_garbage_collected\u001b[0;34m(self, *args, **kwargs)\u001b[0m\n\u001b[1;32m   2967\u001b[0m       \u001b[0margs\u001b[0m\u001b[0;34m,\u001b[0m \u001b[0mkwargs\u001b[0m \u001b[0;34m=\u001b[0m \u001b[0;32mNone\u001b[0m\u001b[0;34m,\u001b[0m \u001b[0;32mNone\u001b[0m\u001b[0;34m\u001b[0m\u001b[0;34m\u001b[0m\u001b[0m\n\u001b[1;32m   2968\u001b[0m     \u001b[0;32mwith\u001b[0m \u001b[0mself\u001b[0m\u001b[0;34m.\u001b[0m\u001b[0m_lock\u001b[0m\u001b[0;34m:\u001b[0m\u001b[0;34m\u001b[0m\u001b[0;34m\u001b[0m\u001b[0m\n\u001b[0;32m-> 2969\u001b[0;31m       \u001b[0mgraph_function\u001b[0m\u001b[0;34m,\u001b[0m \u001b[0m_\u001b[0m \u001b[0;34m=\u001b[0m \u001b[0mself\u001b[0m\u001b[0;34m.\u001b[0m\u001b[0m_maybe_define_function\u001b[0m\u001b[0;34m(\u001b[0m\u001b[0margs\u001b[0m\u001b[0;34m,\u001b[0m \u001b[0mkwargs\u001b[0m\u001b[0;34m)\u001b[0m\u001b[0;34m\u001b[0m\u001b[0;34m\u001b[0m\u001b[0m\n\u001b[0m\u001b[1;32m   2970\u001b[0m     \u001b[0;32mreturn\u001b[0m \u001b[0mgraph_function\u001b[0m\u001b[0;34m\u001b[0m\u001b[0;34m\u001b[0m\u001b[0m\n\u001b[1;32m   2971\u001b[0m \u001b[0;34m\u001b[0m\u001b[0m\n",
      "\u001b[0;32m/opt/conda/lib/python3.8/site-packages/tensorflow/python/eager/function.py\u001b[0m in \u001b[0;36m_maybe_define_function\u001b[0;34m(self, args, kwargs)\u001b[0m\n\u001b[1;32m   3359\u001b[0m \u001b[0;34m\u001b[0m\u001b[0m\n\u001b[1;32m   3360\u001b[0m           \u001b[0mself\u001b[0m\u001b[0;34m.\u001b[0m\u001b[0m_function_cache\u001b[0m\u001b[0;34m.\u001b[0m\u001b[0mmissed\u001b[0m\u001b[0;34m.\u001b[0m\u001b[0madd\u001b[0m\u001b[0;34m(\u001b[0m\u001b[0mcall_context_key\u001b[0m\u001b[0;34m)\u001b[0m\u001b[0;34m\u001b[0m\u001b[0;34m\u001b[0m\u001b[0m\n\u001b[0;32m-> 3361\u001b[0;31m           \u001b[0mgraph_function\u001b[0m \u001b[0;34m=\u001b[0m \u001b[0mself\u001b[0m\u001b[0;34m.\u001b[0m\u001b[0m_create_graph_function\u001b[0m\u001b[0;34m(\u001b[0m\u001b[0margs\u001b[0m\u001b[0;34m,\u001b[0m \u001b[0mkwargs\u001b[0m\u001b[0;34m)\u001b[0m\u001b[0;34m\u001b[0m\u001b[0;34m\u001b[0m\u001b[0m\n\u001b[0m\u001b[1;32m   3362\u001b[0m           \u001b[0mself\u001b[0m\u001b[0;34m.\u001b[0m\u001b[0m_function_cache\u001b[0m\u001b[0;34m.\u001b[0m\u001b[0mprimary\u001b[0m\u001b[0;34m[\u001b[0m\u001b[0mcache_key\u001b[0m\u001b[0;34m]\u001b[0m \u001b[0;34m=\u001b[0m \u001b[0mgraph_function\u001b[0m\u001b[0;34m\u001b[0m\u001b[0;34m\u001b[0m\u001b[0m\n\u001b[1;32m   3363\u001b[0m \u001b[0;34m\u001b[0m\u001b[0m\n",
      "\u001b[0;32m/opt/conda/lib/python3.8/site-packages/tensorflow/python/eager/function.py\u001b[0m in \u001b[0;36m_create_graph_function\u001b[0;34m(self, args, kwargs, override_flat_arg_shapes)\u001b[0m\n\u001b[1;32m   3194\u001b[0m     \u001b[0marg_names\u001b[0m \u001b[0;34m=\u001b[0m \u001b[0mbase_arg_names\u001b[0m \u001b[0;34m+\u001b[0m \u001b[0mmissing_arg_names\u001b[0m\u001b[0;34m\u001b[0m\u001b[0;34m\u001b[0m\u001b[0m\n\u001b[1;32m   3195\u001b[0m     graph_function = ConcreteFunction(\n\u001b[0;32m-> 3196\u001b[0;31m         func_graph_module.func_graph_from_py_func(\n\u001b[0m\u001b[1;32m   3197\u001b[0m             \u001b[0mself\u001b[0m\u001b[0;34m.\u001b[0m\u001b[0m_name\u001b[0m\u001b[0;34m,\u001b[0m\u001b[0;34m\u001b[0m\u001b[0;34m\u001b[0m\u001b[0m\n\u001b[1;32m   3198\u001b[0m             \u001b[0mself\u001b[0m\u001b[0;34m.\u001b[0m\u001b[0m_python_function\u001b[0m\u001b[0;34m,\u001b[0m\u001b[0;34m\u001b[0m\u001b[0;34m\u001b[0m\u001b[0m\n",
      "\u001b[0;32m/opt/conda/lib/python3.8/site-packages/tensorflow/python/framework/func_graph.py\u001b[0m in \u001b[0;36mfunc_graph_from_py_func\u001b[0;34m(name, python_func, args, kwargs, signature, func_graph, autograph, autograph_options, add_control_dependencies, arg_names, op_return_value, collections, capture_by_value, override_flat_arg_shapes)\u001b[0m\n\u001b[1;32m    988\u001b[0m         \u001b[0m_\u001b[0m\u001b[0;34m,\u001b[0m \u001b[0moriginal_func\u001b[0m \u001b[0;34m=\u001b[0m \u001b[0mtf_decorator\u001b[0m\u001b[0;34m.\u001b[0m\u001b[0munwrap\u001b[0m\u001b[0;34m(\u001b[0m\u001b[0mpython_func\u001b[0m\u001b[0;34m)\u001b[0m\u001b[0;34m\u001b[0m\u001b[0;34m\u001b[0m\u001b[0m\n\u001b[1;32m    989\u001b[0m \u001b[0;34m\u001b[0m\u001b[0m\n\u001b[0;32m--> 990\u001b[0;31m       \u001b[0mfunc_outputs\u001b[0m \u001b[0;34m=\u001b[0m \u001b[0mpython_func\u001b[0m\u001b[0;34m(\u001b[0m\u001b[0;34m*\u001b[0m\u001b[0mfunc_args\u001b[0m\u001b[0;34m,\u001b[0m \u001b[0;34m**\u001b[0m\u001b[0mfunc_kwargs\u001b[0m\u001b[0;34m)\u001b[0m\u001b[0;34m\u001b[0m\u001b[0;34m\u001b[0m\u001b[0m\n\u001b[0m\u001b[1;32m    991\u001b[0m \u001b[0;34m\u001b[0m\u001b[0m\n\u001b[1;32m    992\u001b[0m       \u001b[0;31m# invariant: `func_outputs` contains only Tensors, CompositeTensors,\u001b[0m\u001b[0;34m\u001b[0m\u001b[0;34m\u001b[0m\u001b[0;34m\u001b[0m\u001b[0m\n",
      "\u001b[0;32m/opt/conda/lib/python3.8/site-packages/tensorflow/python/eager/def_function.py\u001b[0m in \u001b[0;36mwrapped_fn\u001b[0;34m(*args, **kwds)\u001b[0m\n\u001b[1;32m    632\u001b[0m             \u001b[0mxla_context\u001b[0m\u001b[0;34m.\u001b[0m\u001b[0mExit\u001b[0m\u001b[0;34m(\u001b[0m\u001b[0;34m)\u001b[0m\u001b[0;34m\u001b[0m\u001b[0;34m\u001b[0m\u001b[0m\n\u001b[1;32m    633\u001b[0m         \u001b[0;32melse\u001b[0m\u001b[0;34m:\u001b[0m\u001b[0;34m\u001b[0m\u001b[0;34m\u001b[0m\u001b[0m\n\u001b[0;32m--> 634\u001b[0;31m           \u001b[0mout\u001b[0m \u001b[0;34m=\u001b[0m \u001b[0mweak_wrapped_fn\u001b[0m\u001b[0;34m(\u001b[0m\u001b[0;34m)\u001b[0m\u001b[0;34m.\u001b[0m\u001b[0m__wrapped__\u001b[0m\u001b[0;34m(\u001b[0m\u001b[0;34m*\u001b[0m\u001b[0margs\u001b[0m\u001b[0;34m,\u001b[0m \u001b[0;34m**\u001b[0m\u001b[0mkwds\u001b[0m\u001b[0;34m)\u001b[0m\u001b[0;34m\u001b[0m\u001b[0;34m\u001b[0m\u001b[0m\n\u001b[0m\u001b[1;32m    635\u001b[0m         \u001b[0;32mreturn\u001b[0m \u001b[0mout\u001b[0m\u001b[0;34m\u001b[0m\u001b[0;34m\u001b[0m\u001b[0m\n\u001b[1;32m    636\u001b[0m \u001b[0;34m\u001b[0m\u001b[0m\n",
      "\u001b[0;32m/opt/conda/lib/python3.8/site-packages/tensorflow/python/framework/func_graph.py\u001b[0m in \u001b[0;36mwrapper\u001b[0;34m(*args, **kwargs)\u001b[0m\n\u001b[1;32m    975\u001b[0m           \u001b[0;32mexcept\u001b[0m \u001b[0mException\u001b[0m \u001b[0;32mas\u001b[0m \u001b[0me\u001b[0m\u001b[0;34m:\u001b[0m  \u001b[0;31m# pylint:disable=broad-except\u001b[0m\u001b[0;34m\u001b[0m\u001b[0;34m\u001b[0m\u001b[0m\n\u001b[1;32m    976\u001b[0m             \u001b[0;32mif\u001b[0m \u001b[0mhasattr\u001b[0m\u001b[0;34m(\u001b[0m\u001b[0me\u001b[0m\u001b[0;34m,\u001b[0m \u001b[0;34m\"ag_error_metadata\"\u001b[0m\u001b[0;34m)\u001b[0m\u001b[0;34m:\u001b[0m\u001b[0;34m\u001b[0m\u001b[0;34m\u001b[0m\u001b[0m\n\u001b[0;32m--> 977\u001b[0;31m               \u001b[0;32mraise\u001b[0m \u001b[0me\u001b[0m\u001b[0;34m.\u001b[0m\u001b[0mag_error_metadata\u001b[0m\u001b[0;34m.\u001b[0m\u001b[0mto_exception\u001b[0m\u001b[0;34m(\u001b[0m\u001b[0me\u001b[0m\u001b[0;34m)\u001b[0m\u001b[0;34m\u001b[0m\u001b[0;34m\u001b[0m\u001b[0m\n\u001b[0m\u001b[1;32m    978\u001b[0m             \u001b[0;32melse\u001b[0m\u001b[0;34m:\u001b[0m\u001b[0;34m\u001b[0m\u001b[0;34m\u001b[0m\u001b[0m\n\u001b[1;32m    979\u001b[0m               \u001b[0;32mraise\u001b[0m\u001b[0;34m\u001b[0m\u001b[0;34m\u001b[0m\u001b[0m\n",
      "\u001b[0;31mValueError\u001b[0m: in user code:\n\n    /opt/conda/lib/python3.8/site-packages/tensorflow/python/keras/engine/training.py:805 train_function  *\n        return step_function(self, iterator)\n    /opt/conda/lib/python3.8/site-packages/tensorflow/python/keras/engine/training.py:795 step_function  **\n        outputs = model.distribute_strategy.run(run_step, args=(data,))\n    /opt/conda/lib/python3.8/site-packages/tensorflow/python/distribute/distribute_lib.py:1259 run\n        return self._extended.call_for_each_replica(fn, args=args, kwargs=kwargs)\n    /opt/conda/lib/python3.8/site-packages/tensorflow/python/distribute/distribute_lib.py:2730 call_for_each_replica\n        return self._call_for_each_replica(fn, args, kwargs)\n    /opt/conda/lib/python3.8/site-packages/tensorflow/python/distribute/distribute_lib.py:3417 _call_for_each_replica\n        return fn(*args, **kwargs)\n    /opt/conda/lib/python3.8/site-packages/tensorflow/python/keras/engine/training.py:788 run_step  **\n        outputs = model.train_step(data)\n    /opt/conda/lib/python3.8/site-packages/tensorflow/python/keras/engine/training.py:754 train_step\n        y_pred = self(x, training=True)\n    /opt/conda/lib/python3.8/site-packages/tensorflow/python/keras/engine/base_layer.py:998 __call__\n        input_spec.assert_input_compatibility(self.input_spec, inputs, self.name)\n    /opt/conda/lib/python3.8/site-packages/tensorflow/python/keras/engine/input_spec.py:204 assert_input_compatibility\n        raise ValueError('Layer ' + layer_name + ' expects ' +\n\n    ValueError: Layer model_38 expects 1 input(s), but it received 4 input tensors. Inputs received: [<tf.Tensor 'IteratorGetNext:0' shape=(32, 48, 48, 1) dtype=float32>, <tf.Tensor 'IteratorGetNext:1' shape=(32, 48, 48, 1) dtype=float32>, <tf.Tensor 'IteratorGetNext:2' shape=(32, 64) dtype=float32>, <tf.Tensor 'IteratorGetNext:3' shape=(32, 60) dtype=float32>]\n"
     ]
    }
   ],
   "source": [
    "model.fit([reshaped_time_phase_train, reshaped_freq_phase_train, reshaped_pulse_profile_train, reshaped_dm_curve_train], np.array(train_set_labels) , epochs=40, \\\n",
    "          validation_data=([reshaped_time_phase_validation, reshaped_freq_phase_validation,reshaped_pulse_profile_validation, reshaped_dm_curve_validation], \\\n",
    "                          np.array(validation_set_labels)), shuffle=True\n",
    "         )\n",
    "#model.fit(reshaped_time_phase_train, np.array(trai))\n",
    "\n"
   ]
  },
  {
   "cell_type": "code",
   "execution_count": 291,
   "id": "7e57d3dc",
   "metadata": {},
   "outputs": [
    {
     "name": "stdout",
     "output_type": "stream",
     "text": [
      "F Score: 0.675289312457454 Precision: 0.5210084033613446 Recall: 0.9593810444874274 Accuracy: 0.523\n"
     ]
    }
   ],
   "source": [
    "y_pred = model.predict([reshaped_time_phase_test, reshaped_freq_phase_test, reshaped_pulse_profile_test, reshaped_dm_curve_test])\n",
    "classified_results = np.rint(y_pred)\n",
    "classified_results = np.reshape(classified_results, len(classified_results))\n",
    "f_score = f1_score(test_set_labels, classified_results, average='binary')\n",
    "precision = precision_score(test_set_labels, classified_results, average='binary')\n",
    "recall = recall_score(test_set_labels, classified_results, average='binary')\n",
    "accuracy = (test_set_labels == classified_results).sum()/len(test_set_labels)\n",
    "print('F Score:', f_score, 'Precision:', precision, 'Recall:', recall, 'Accuracy:', accuracy)"
   ]
  },
  {
   "cell_type": "code",
   "execution_count": 310,
   "id": "04ca677f",
   "metadata": {},
   "outputs": [
    {
     "name": "stdout",
     "output_type": "stream",
     "text": [
      "Epoch 1/40\n",
      "25/25 [==============================] - 5s 172ms/step - loss: 0.5662 - accuracy: 0.7169 - val_loss: 0.0667 - val_accuracy: 0.9900\n",
      "Epoch 2/40\n",
      "25/25 [==============================] - 4s 172ms/step - loss: 0.0366 - accuracy: 0.9948 - val_loss: 0.0595 - val_accuracy: 0.9800\n",
      "Epoch 3/40\n",
      "25/25 [==============================] - 4s 169ms/step - loss: 0.0170 - accuracy: 0.9967 - val_loss: 0.0208 - val_accuracy: 0.9950\n",
      "Epoch 4/40\n",
      "25/25 [==============================] - 4s 172ms/step - loss: 0.0034 - accuracy: 1.0000 - val_loss: 0.0164 - val_accuracy: 0.9950\n",
      "Epoch 5/40\n",
      "25/25 [==============================] - 5s 180ms/step - loss: 0.0014 - accuracy: 1.0000 - val_loss: 0.0114 - val_accuracy: 0.9950\n",
      "Epoch 6/40\n",
      "25/25 [==============================] - 4s 147ms/step - loss: 0.0013 - accuracy: 1.0000 - val_loss: 0.0188 - val_accuracy: 0.9950\n",
      "Epoch 7/40\n",
      "25/25 [==============================] - 4s 167ms/step - loss: 7.3565e-04 - accuracy: 1.0000 - val_loss: 0.0140 - val_accuracy: 0.9950\n",
      "Epoch 8/40\n",
      "25/25 [==============================] - 4s 176ms/step - loss: 5.1179e-04 - accuracy: 1.0000 - val_loss: 0.0158 - val_accuracy: 0.9950\n",
      "Epoch 9/40\n",
      "25/25 [==============================] - 4s 153ms/step - loss: 9.1211e-04 - accuracy: 1.0000 - val_loss: 0.0166 - val_accuracy: 0.9950\n",
      "Epoch 10/40\n",
      "25/25 [==============================] - 4s 155ms/step - loss: 8.4586e-04 - accuracy: 1.0000 - val_loss: 0.0138 - val_accuracy: 0.9950\n",
      "Epoch 11/40\n",
      "25/25 [==============================] - 4s 163ms/step - loss: 4.7512e-04 - accuracy: 1.0000 - val_loss: 0.0089 - val_accuracy: 0.9950\n",
      "Epoch 12/40\n",
      "25/25 [==============================] - 4s 178ms/step - loss: 5.1662e-04 - accuracy: 1.0000 - val_loss: 0.0140 - val_accuracy: 0.9950\n",
      "Epoch 13/40\n",
      "25/25 [==============================] - 6s 222ms/step - loss: 1.2223e-04 - accuracy: 1.0000 - val_loss: 0.0065 - val_accuracy: 0.9950\n",
      "Epoch 14/40\n",
      "25/25 [==============================] - 5s 212ms/step - loss: 2.7192e-04 - accuracy: 1.0000 - val_loss: 0.0060 - val_accuracy: 0.9950\n",
      "Epoch 15/40\n",
      "25/25 [==============================] - 4s 150ms/step - loss: 1.1820e-04 - accuracy: 1.0000 - val_loss: 0.0132 - val_accuracy: 0.9950\n",
      "Epoch 16/40\n",
      "25/25 [==============================] - 5s 203ms/step - loss: 1.3782e-04 - accuracy: 1.0000 - val_loss: 0.0095 - val_accuracy: 0.9950\n",
      "Epoch 17/40\n",
      "25/25 [==============================] - 5s 196ms/step - loss: 9.9367e-05 - accuracy: 1.0000 - val_loss: 0.0113 - val_accuracy: 0.9950\n",
      "Epoch 18/40\n",
      "25/25 [==============================] - 5s 213ms/step - loss: 1.1110e-04 - accuracy: 1.0000 - val_loss: 0.0145 - val_accuracy: 0.9950\n",
      "Epoch 19/40\n",
      "25/25 [==============================] - 5s 215ms/step - loss: 9.2759e-05 - accuracy: 1.0000 - val_loss: 0.0091 - val_accuracy: 0.9950\n",
      "Epoch 20/40\n",
      "25/25 [==============================] - 5s 216ms/step - loss: 1.0130e-04 - accuracy: 1.0000 - val_loss: 0.0127 - val_accuracy: 0.9950\n",
      "Epoch 21/40\n",
      "25/25 [==============================] - 8s 322ms/step - loss: 5.6394e-05 - accuracy: 1.0000 - val_loss: 0.0132 - val_accuracy: 0.9950\n",
      "Epoch 22/40\n",
      "25/25 [==============================] - 7s 265ms/step - loss: 1.0977e-04 - accuracy: 1.0000 - val_loss: 0.0128 - val_accuracy: 0.9950\n",
      "Epoch 23/40\n",
      "25/25 [==============================] - 4s 170ms/step - loss: 3.7953e-05 - accuracy: 1.0000 - val_loss: 0.0096 - val_accuracy: 0.9950\n",
      "Epoch 24/40\n",
      "25/25 [==============================] - 5s 188ms/step - loss: 7.1173e-05 - accuracy: 1.0000 - val_loss: 0.0119 - val_accuracy: 0.9950\n",
      "Epoch 25/40\n",
      "25/25 [==============================] - 5s 199ms/step - loss: 1.4732e-04 - accuracy: 1.0000 - val_loss: 0.0103 - val_accuracy: 0.9950\n",
      "Epoch 26/40\n",
      "25/25 [==============================] - 6s 230ms/step - loss: 0.0639 - accuracy: 0.9880 - val_loss: 0.5437 - val_accuracy: 0.5450\n",
      "Epoch 27/40\n",
      "25/25 [==============================] - 6s 237ms/step - loss: 0.2765 - accuracy: 0.8547 - val_loss: 0.0198 - val_accuracy: 0.9950\n",
      "Epoch 28/40\n",
      "25/25 [==============================] - 6s 222ms/step - loss: 0.0089 - accuracy: 0.9986 - val_loss: 0.0153 - val_accuracy: 0.9950\n",
      "Epoch 29/40\n",
      "25/25 [==============================] - 5s 202ms/step - loss: 0.0021 - accuracy: 1.0000 - val_loss: 0.0182 - val_accuracy: 0.9950\n",
      "Epoch 30/40\n",
      "25/25 [==============================] - 5s 214ms/step - loss: 0.0023 - accuracy: 1.0000 - val_loss: 0.0080 - val_accuracy: 0.9950\n",
      "Epoch 31/40\n",
      "25/25 [==============================] - 6s 223ms/step - loss: 0.0022 - accuracy: 1.0000 - val_loss: 0.0207 - val_accuracy: 0.9950\n",
      "Epoch 32/40\n",
      "25/25 [==============================] - 5s 208ms/step - loss: 0.0010 - accuracy: 1.0000 - val_loss: 0.0099 - val_accuracy: 0.9950\n",
      "Epoch 33/40\n",
      "25/25 [==============================] - 5s 186ms/step - loss: 0.0012 - accuracy: 1.0000 - val_loss: 0.0178 - val_accuracy: 0.9950\n",
      "Epoch 34/40\n",
      "25/25 [==============================] - 4s 163ms/step - loss: 0.0022 - accuracy: 0.9989 - val_loss: 0.0089 - val_accuracy: 0.9950\n",
      "Epoch 35/40\n",
      "25/25 [==============================] - 4s 174ms/step - loss: 6.3242e-04 - accuracy: 1.0000 - val_loss: 0.0088 - val_accuracy: 0.9950\n",
      "Epoch 36/40\n",
      "25/25 [==============================] - 5s 183ms/step - loss: 9.5639e-04 - accuracy: 1.0000 - val_loss: 0.0031 - val_accuracy: 1.0000\n",
      "Epoch 37/40\n",
      "25/25 [==============================] - 5s 211ms/step - loss: 4.7792e-04 - accuracy: 1.0000 - val_loss: 0.0079 - val_accuracy: 0.9950\n",
      "Epoch 38/40\n",
      "25/25 [==============================] - 5s 209ms/step - loss: 2.1072e-04 - accuracy: 1.0000 - val_loss: 0.0093 - val_accuracy: 0.9950\n",
      "Epoch 39/40\n",
      "25/25 [==============================] - 5s 193ms/step - loss: 1.5434e-04 - accuracy: 1.0000 - val_loss: 0.0096 - val_accuracy: 0.9950\n",
      "Epoch 40/40\n",
      "25/25 [==============================] - 5s 194ms/step - loss: 2.3117e-04 - accuracy: 1.0000 - val_loss: 0.0107 - val_accuracy: 0.9950\n"
     ]
    },
    {
     "data": {
      "text/plain": [
       "<tensorflow.python.keras.callbacks.History at 0x7eff9875a5b0>"
      ]
     },
     "execution_count": 310,
     "metadata": {},
     "output_type": "execute_result"
    }
   ],
   "source": [
    "model.fit([reshaped_time_phase_train], np.array(train_set_labels) , epochs=40, \\\n",
    "          validation_data=([reshaped_time_phase_validation], \\\n",
    "                          np.array(validation_set_labels)), shuffle=True\n",
    "         )"
   ]
  },
  {
   "cell_type": "code",
   "execution_count": 311,
   "id": "e723ff89",
   "metadata": {},
   "outputs": [
    {
     "name": "stdout",
     "output_type": "stream",
     "text": [
      "F Score: 0.682571239231279 Precision: 0.5191532258064516 Recall: 0.9961315280464217 Accuracy: 0.521\n"
     ]
    }
   ],
   "source": [
    "y_pred = model.predict([reshaped_time_phase_test])\n",
    "classified_results = np.rint(y_pred)\n",
    "classified_results = np.reshape(classified_results, len(classified_results))\n",
    "f_score = f1_score(test_set_labels, classified_results, average='binary')\n",
    "precision = precision_score(test_set_labels, classified_results, average='binary')\n",
    "recall = recall_score(test_set_labels, classified_results, average='binary')\n",
    "accuracy = (test_set_labels == classified_results).sum()/len(test_set_labels)\n",
    "print('F Score:', f_score, 'Precision:', precision, 'Recall:', recall, 'Accuracy:', accuracy)"
   ]
  },
  {
   "cell_type": "code",
   "execution_count": 312,
   "id": "10cb282a",
   "metadata": {},
   "outputs": [
    {
     "name": "stdout",
     "output_type": "stream",
     "text": [
      "Confusion matrix, without normalization\n",
      "[[  6 477]\n",
      " [  2 515]]\n",
      "Normalized confusion matrix\n",
      "[[0.01242236 0.98757764]\n",
      " [0.00386847 0.99613153]]\n"
     ]
    },
    {
     "data": {
      "image/png": "[encoded data removed]",
      "text/plain": [
       "<Figure size 432x288 with 2 Axes>"
      ]
     },
     "metadata": {
      "needs_background": "light"
     },
     "output_type": "display_data"
    },
    {
     "data": {
      "image/png": "[encoded data removed]",
      "text/plain": [
       "<Figure size 432x288 with 2 Axes>"
      ]
     },
     "metadata": {
      "needs_background": "light"
     },
     "output_type": "display_data"
    }
   ],
   "source": [
    "class_names = ['Non-Pulsar','Pulsar']\n",
    "\n",
    "cnf_matrix = confusion_matrix(test_set_labels, classified_results)\n",
    "plt.figure()\n",
    "plot_confusion_matrix(cnf_matrix, classes=class_names, title='Confusion matrix, without normalization')\n",
    "plt.figure()\n",
    "plot_confusion_matrix(cnf_matrix, classes=class_names, normalize=True, title='Confusion matrix, with normalization')\n",
    "plt.show()"
   ]
  },
  {
   "cell_type": "code",
   "execution_count": 314,
   "id": "fdf680a7",
   "metadata": {},
   "outputs": [
    {
     "ename": "AttributeError",
     "evalue": "module 'tensorflow.keras' has no attribute 'version__'",
     "output_type": "error",
     "traceback": [
      "\u001b[0;31m---------------------------------------------------------------------------\u001b[0m",
      "\u001b[0;31mAttributeError\u001b[0m                            Traceback (most recent call last)",
      "\u001b[0;32m<ipython-input-314-bcbbad3a3e55>\u001b[0m in \u001b[0;36m<module>\u001b[0;34m\u001b[0m\n\u001b[0;32m----> 1\u001b[0;31m \u001b[0mtf\u001b[0m\u001b[0;34m.\u001b[0m\u001b[0mkeras\u001b[0m\u001b[0;34m.\u001b[0m\u001b[0mversion__\u001b[0m\u001b[0;34m\u001b[0m\u001b[0;34m\u001b[0m\u001b[0m\n\u001b[0m",
      "\u001b[0;31mAttributeError\u001b[0m: module 'tensorflow.keras' has no attribute 'version__'"
     ]
    }
   ],
   "source": [
    "tf.keras.ves"
   ]
  },
  {
   "cell_type": "code",
   "execution_count": null,
   "id": "aee0984f",
   "metadata": {},
   "outputs": [],
   "source": []
  }
 ],
 "metadata": {
  "kernelspec": {
   "display_name": "Python 3",
   "language": "python",
   "name": "python3"
  },
  "language_info": {
   "codemirror_mode": {
    "name": "ipython",
    "version": 3
   },
   "file_extension": ".py",
   "mimetype": "text/x-python",
   "name": "python",
   "nbconvert_exporter": "python",
   "pygments_lexer": "ipython3",
   "version": "3.8.8"
  }
 },
 "nbformat": 4,
 "nbformat_minor": 5
}
